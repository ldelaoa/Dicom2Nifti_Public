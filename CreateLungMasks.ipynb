{
 "cells": [
  {
   "cell_type": "code",
   "execution_count": 24,
   "id": "b968ad4a",
   "metadata": {},
   "outputs": [],
   "source": [
    "import os\n",
    "import nibabel as nib \n",
    "from lungmask import LMInferer\n",
    "import SimpleITK as sitk\n",
    "import numpy as np\n",
    "root_p = \"//zkh/appdata/RTDicom/Projectline - Modelling lung cancer outcomes [panama code]/Users/Luis/CT_RT_PET_ACCT_NiiToHabrok/\""
   ]
  },
  {
   "cell_type": "code",
   "execution_count": 17,
   "id": "97405b2c",
   "metadata": {},
   "outputs": [],
   "source": [
    "def get_file_paths(directory):\n",
    "    acct_path = None\n",
    "    pet_path = None\n",
    "    ct_path = None\n",
    "    rtstruct_path = None\n",
    "    for roots,dir,files in os.walk(directory):\n",
    "        for filename in files:\n",
    "            if \"AC_CT_Body\" in filename or \"CT van PET\" in filename or \"CT LD\" in filename or \"AC CT\" in filename or \"AC  CT\" in filename:\n",
    "                acct_path = os.path.join(directory,filename)\n",
    "            elif 'PET' in filename  or \"Earl\" in filename:\n",
    "                pet_path =  os.path.join(directory,filename)\n",
    "            elif \"%\" in filename or \"thorax\" in filename or \"ave\" in filename or \"mip\" in filename or (\"ct\" in filename and not \"rtstruct\" in filename):\n",
    "                ct_path =  os.path.join(directory,filename)\n",
    "            elif 'ITV'in filename  or \"IGTV\" in filename  or \"IgTV\" in filename:\n",
    "                rtstruct_path =  os.path.join(directory,filename)\n",
    "    return acct_path, pet_path, ct_path, rtstruct_path\n"
   ]
  },
  {
   "cell_type": "code",
   "execution_count": 18,
   "id": "1d34d558",
   "metadata": {},
   "outputs": [
    {
     "name": "stdout",
     "output_type": "stream",
     "text": [
      "Len: 200\n"
     ]
    }
   ],
   "source": [
    "Pxlist = os.listdir(root_p)\n",
    "print(\"Len:\",len(Pxlist))\n",
    "inferer = LMInferer()\n",
    "for Px in Pxlist:\n",
    "    acct_path, pet_path, ct_path, rtstruct_path = get_file_paths(root_p+Px)    \n",
    "    input_image = sitk.ReadImage(acct_path)\n",
    "    segmentation = inferer.apply(input_image)\n",
    "    output_path = 'path/to/your/output/image.nii'\n",
    "    sitk.WriteImage(img, output_path)"
   ]
  },
  {
   "cell_type": "code",
   "execution_count": null,
   "id": "55286c6d",
   "metadata": {},
   "outputs": [],
   "source": []
  },
  {
   "cell_type": "code",
   "execution_count": null,
   "id": "cbdbc63d",
   "metadata": {},
   "outputs": [
    {
     "name": "stdout",
     "output_type": "stream",
     "text": [
      "lungmask 2023-12-03 18:11:03 No GPU found, using CPU instead\n"
     ]
    },
    {
     "name": "stderr",
     "output_type": "stream",
     "text": [
      " 41%|████      | 10/24.4 [02:09<03:07, 13.00s/it]\n"
     ]
    }
   ],
   "source": []
  }
 ],
 "metadata": {
  "kernelspec": {
   "display_name": "Python 3 (ipykernel)",
   "language": "python",
   "name": "python3"
  },
  "language_info": {
   "codemirror_mode": {
    "name": "ipython",
    "version": 3
   },
   "file_extension": ".py",
   "mimetype": "text/x-python",
   "name": "python",
   "nbconvert_exporter": "python",
   "pygments_lexer": "ipython3",
   "version": "3.9.16"
  }
 },
 "nbformat": 4,
 "nbformat_minor": 5
}
