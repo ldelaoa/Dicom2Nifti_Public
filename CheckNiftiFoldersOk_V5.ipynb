{
 "cells": [
  {
   "cell_type": "code",
   "execution_count": 1,
   "id": "5bc34494",
   "metadata": {},
   "outputs": [],
   "source": [
    "#Same as V3 , but updated so it reports Subset numbers\n",
    "#Same as V4 but Subsets count are updated as the flowchart\n",
    "#gtv00_listPx is not used now"
   ]
  },
  {
   "cell_type": "code",
   "execution_count": 34,
   "id": "e72a9846",
   "metadata": {},
   "outputs": [],
   "source": [
    "from os.path import join\n",
    "from datetime import time, datetime\n",
    "import os\n",
    "import glob\n",
    "import numpy as np\n",
    "from skimage.draw import polygon\n",
    "import SimpleITK as sitk\n",
    "#import pydicom as dicom\n",
    "#from pydicom.tag import Tag\n",
    "import sys\n",
    "import csv\n",
    "import pandas as pd\n",
    "import shutil"
   ]
  },
  {
   "cell_type": "code",
   "execution_count": 39,
   "id": "d2fdcde1",
   "metadata": {},
   "outputs": [
    {
     "name": "stdout",
     "output_type": "stream",
     "text": [
      "861 - ['4291861', '3327503', '4693524', '6184000', '6163057', '659641', '1933846', '2083343', '1616581', '2007559', '8034617', '6959090', '2621487', '2345065', '7431977', '7786608', '7846169', '8962420', '8192437', '4156751', '1780721', '6224291', '4112868', '7153622', '5735628', '5267139', '1213955', '2628217', '8510422', '8698891', '7706205', '1187542', '8725573', '8715455', '1127507', '3980744', '4023673', '9212857', '8751725', '4709744', '9105082', '4342472', '8728753', '1397990', '6926232', '9588158', '3059294', '8778014', '4575927', '4809024', '2531074', '4960069', '772611', '6557018', '3307795', '3379144', '772475', '1663955', '8884976', '885235', '8882956', '8874736', '3082668', '3443633', '3968754', '4927095', '3851734', '8726194', '986614', '6402783', '5474853', '2047597', '8223634', '9436340', '8156441', '5426768', '340941', '3717936', '4996487', '9005599', '4117321', '2788596', '4032982', '2835183', '9034825', '4239862', '9025583', '9061277', '5938385', '7313332', '2162911', '6934596', '6374781', '2741303', '8605869', '8501962', '9028980', '7901414', '9098977', '1758002', '5404623', '5566654', '3609812', '6315986', '9065388', '4961187', '3371182', '5960268', '7563548', '8214116', '3694715', '5609966', '8269736', '4133970', '9200209', '9222012', '4980116', '7755473', '2692411', '7391514', '9193538', '5721596', '9588899', '4058935', '3740147', '8127135', '6730478', '3146786', '7475016', '2168825', '6874374', '9315678', '7513114', '3930261', '2123820', '1539651', '7658716', '2894544', '2856145', '8921596', '3042662', '9375818', '9339426', '8847536', '3741290', '4165748', '1204948', '5635761', '3506817', '5468590', '9077670', '9443032', '282824', '2375717', '6577371', '2428155', '9254721', '9513109', '7066738', '102687', '9513070', '8821540', '346733', '9038015', '8372090', '9593047', '9593098', '9593063', '9593055', '8872378', '5672394', '1136033', '9604701', '2595492', '2610935', '9915436', '3253493', '9600274', '5068340', '8759998', '9646447', '2022536', '1509318', '9631914', '7213981', '7867220', '9652462', '9461677', '9549714', '9675330', '8908662', '5619644', '892781', '9692397', '4199364', '1874719', '7785292', '2718130', '248219', '9243882', '9765730', '5260554', '7210726', '9829221', '518674', '8334515', '5196470', '4295926', '3010418', '7283229', '2437393', '9854449', '9741852', '9865680', '3538176', '2392124', '3853415', '9949900', '654137', '9203990', '9920297', '4690407', '2126847', '10539', '6841834', '4023988', '549920', '2685249', '14504', '7732839', '9936840', '1262287', '77019', '5288807', '367466', '403161', '8915215', '9593888', '67205', '2259904', '5458220', '2041537', '1034583', '110867', '147361', '170672', '3615954', '225780', '197111', '174227', '168331', '6473078', '2842435', '1818935', '206413', '13194', '5539539', '2685833', '2886541', '194140', '7700895', '4568570', '247019', '6995026', '2282174', '5593870', '258565', '9073890', '234628', '8967750', '147625', '281624', '291190', '7838986', '1455070', '5881434', '2854530', '270417', '8992324', '204909', '180869', '2953769', '3058377', '333848', '3130926', '9618509', '7176049', '5887068', '9211057', '6372808', '5539952', '433006', '584015', '2059461', '191113', '511819', '1493281', '509806', '497927', '8995262', '1822090', '546680', '523047', '581845', '1822906', '561128', '6693447', '594295', '2216465', '2023848', '617349', '4965499', '2691523', '3139639', '2107157', '657466', '624804', '51674', '3628533', '4627572', '986464', '8069479', '5532020', '627459', '699039', '5317512', '2676114', '4647725', '2334091', '3416764', '2410572', '791386', '1756631', '2916525', '775695', '810589', '4965313', '5087191', '9448726', '23840', '868262', '4021072', '2973076', '868569', '869737', '5612712', '2279103', '325073', '766115', '2923539', '887961', '948351', '948299', '942622', '930046', '2758081', '2459531', '3977724', '3409927', '1687510', '7272393', '9219524', '6568268', '2092335', '1320408', '7848534', '969084', '1187341', '7856358', '7765616', '1098707', '1117591', '1056275', '3539495', '1079887', '1494981', '2430561', '5436772', '1126789', '8308706', '936962', '8903101', '1118297', '4718915', '7194616', '1199667', '1464499', '7676177', '5516715', '3188894', '3464709', '1967798', '4985274', '6449828', '849406', '6465961', '7468563', '1166651', '8716256', '7205457', '1378105', '2020662', '2648529', '1396853', '1378042', '7193514', '1439985', '2968087', '3935820', '8224250', '5600639', '4215566', '5879726', '4672804', '1346031', '1353431', '3436507', '2947384', '4720502', '1495036', '3558287', '3316002', '1308529', '6718064', '6857147', '1527273', '1529652', '1001187', '9354107', '5547490', '1484586', '8713888', '4664141', '1302698', '1397662', '5864885', '4961403', '9475445', '7035867', '2009188', '5501890', '2763334', '5348778', '2759831', '2000368', '2023740', '2807433', '2024647', '3488711', '2029187', '3568539', '5720054', '5649651', '1227213', '5889191', '2033151', '7280302', '2038248', '2038246', '1499147', '8415601', '1011154', '2034550', '5826774', '8343724', '5160718', '2046965', '3166711', '100789', '2029816', '2049190', '5341373', '2035451', '4879', '2055994', '448414', '2052538', '3373532', '6890570', '5686032', '661907', '2056059', '2069751', '577551', '905985', '9635150', '687389', '2602853', '5129542', '2077822', '2080152', '2815227', '2075565', '4842977', '2084312', '2078046', '2089169', '2093457', '2095380', '2488296', '619086', '1408780', '664779', '2090413', '2099013', '2045011', '2873055', '934448', '2041194', '5443347', '6706892', '1473952', '3330761', '186208', '2044844', '3665388', '9918855', '4826048', '1123246', '2113491', '2441478', '2115353', '5930226', '7649738', '2098449', '5910972', '7344995', '8371724', '2120327', '619697', '2741634', '6070764', '2132773', '9935146', '2130465', '9792440', '2138328', '3084811', '2099620', '2132029', '3181514', '2135046', '6300771', '743413', '3037975', '2885113', '2147430', '1953895', '5960189', '6071737', '6475121', '1016604', '2140224', '2384227', '2148963', '8909585', '5835644', '4918621', '2156824', '2096249', '2143515', '4090312', '2153269', '2958711', '2154195', '1007981', '8748066', '2937274', '2729790', '4168672', '1503363', '2158090', '2156167', '822681', '458776', '2164115', '2165055', '1007504', '2843691', '632948', '2165203', '2168777', '2164796', '2163426', '7486734', '4022713', '2177865', '368708', '2102098', '7758590', '9780095', '2234752', '2179231', '7513310', '2176504', '1629295', '2171667', '2389234', '6399365', '2186015', '2659861', '6958675', '2147823', '1829458', '2183187', '2184156', '3909084', '9385224', '2184797', '2181664', '5209156', '4937103', '2323531', '8093621', '2184783', '2501067', '2198585', '3040267', '6308583', '2196145', '2183919', '3157977', '2197630', '2131592', '6674324', '8812408', '2174844', '3339488', '2198906', '2275768', '2345491', '8736324', '759818', '1115082', '1174472', '6629816', '2203552', '2742147', '9786492', '731902', '9055796', '5095537', '8002192', '9024435', '2048844', '8892713', '1933838', '2215074', '2202087', '4241082', '2209191', '2216350', '5644774', '2168497', '8372324', '2216849', '1806489', '2213172', '7664155', '9379578', '2226259', '2157582', '7730851', '5569676', '2227453', '2223503', '2217206', '2227708', '2001288', '219124', '2234258', '2230875', '2232239', '1244006', '966130', '4766491', '7141521', '2214482', '3833140', '1111507', '9736151', '2281971', '7759459', '2249902', '2249931', '5613548', '2248005', '3007430', '8119680', '2475708', '2252947', '6176455', '2256800', '2240776', '2242916', '750710', '2208346', '2107489', '4001468', '2895985', '2880754', '9846215', '1172183', '2266191', '3491623', '9236751', '4962318', '9807276', '5053538', '7626090', '5249005', '957793', '4678316', '9855290', '2277478', '1032629', '1493358', '44223', '2288510', '7050599', '9558471', '630721', '2280782', '9067536', '2851836', '5518061', '1115949', '4965326', '1297565', '2292753', '2595835', '2600632', '7660196', '1280702', '9555981', '1051094', '7440561', '3313297', '2307426', '4712283', '5019308', '2302235', '1149114', '2307513', '7839744', '2311065', '7233645', '1185394', '2303422', '2302500', '3932820', '6148878', '1217167', '2313471', '2317377', '2319588', '2087508', '2328311', '2035223', '2326974', '2196013', '7030904', '5571038', '2329825', '2329698', '9598757', '3342796', '3846682', '5089913', '2324157', '4572900', '5223589', '2327063', '2235052', '2324798', '2339443', '2321431', '2328910', '7082755', '2324704', '2323333', '1628970', '5826414', '5477610', '2326539', '5784171', '6167176', '1870352', '4025031', '6684580', '3212583', '1426704', '2346275', '5532047', '6248669', '5263492', '2343756', '7122512', '2054706', '2271692', '6587628', '6566020', '2342965', '2348939', '2296851', '2352423', '5369634', '3745622', '2346316', '2358557', '2354435', '2352307', '9212162', '2351025', '8704666', '8248305', '7769966', '2356197', '2359150', '5044880', '8168463', '2367199', '2362697', '5497325', '5009537', '2370371', '7451154', '4120680', '2374240', '7306804', '6581686', '1668105', '8890853', '1430520', '2690061', '2296266', '2370962', '2505352', '2376584', '2365095', '9819289', '4565222', '7570530', '2385004', '585475', '2370543', '2389345', '2386974', '7511007', '4025397', '4216604', '9235768', '2384366', '2385768', '5319013', '3311239', '1034109', '2385186', '3409329', '9312325', '7608217']\n"
     ]
    }
   ],
   "source": [
    "import yaml\n",
    "with open('config_CheckNiiOk.yaml', 'r') as stream:\n",
    "    config = yaml.safe_load(stream)\n",
    "    \n",
    "    itvtot = config['itv_tot_labels']\n",
    "    itvtum = config['itv_tumor_labels']\n",
    "    itvnod = config['itv_ln_labels']\n",
    "\n",
    "    \n",
    "    gtvtot = config['gtv_tot_labels']\n",
    "    gtvtum = config['gtv_tumor_labels']\n",
    "    gtvnod = config['gtv_ln_labels']\n",
    "    gtv00 = config['gtv_expi00_labels']\n",
    "\n",
    "    rootp_Nii = config['root_Nii']\n",
    "\n",
    "    aveTags = config['aveTags']\n",
    "    bpTags =  config['bPTags']\n",
    "\n",
    "    savecsv_path = config['save_csv']\n",
    "    fieldnames = config['fieldnames']\n",
    "\n",
    "with open('//zkh/appdata/RTDicom/Projectline_modelling_lung_cancer/Users/Luis/ListsOfPatients/PxSelectionforDCM2Nii.txt', 'r') as file:\n",
    "    PxList = [line.rstrip() for line in file]\n",
    "    \n",
    "#PxList = os.listdir(rootp_Nii)\n",
    "print(len(PxList),'-',PxList)\n",
    "target_labels = itvtot + itvtum+itvnod+gtvtot+gtvtum+gtvnod"
   ]
  },
  {
   "cell_type": "code",
   "execution_count": 40,
   "id": "6b76d9de",
   "metadata": {},
   "outputs": [
    {
     "data": {
      "text/plain": [
       "['GTVtumor_insp']"
      ]
     },
     "execution_count": 40,
     "metadata": {},
     "output_type": "execute_result"
    }
   ],
   "source": [
    "gtv00"
   ]
  },
  {
   "cell_type": "code",
   "execution_count": 41,
   "id": "bcaeffdc",
   "metadata": {
    "scrolled": true
   },
   "outputs": [],
   "source": [
    "subsetA11_count =0\n",
    "subsetA21_count =0\n",
    "subsetA22_count =0\n",
    "subsetB11_count =0\n",
    "subsetB21_count =0\n",
    "subsetE1_count =0\n",
    "subsetE2_count=0\n",
    "subsetOff_count=0\n",
    "\n",
    "missingGTV = 0\n",
    "missingITV=0\n",
    "missingPlanCT =0\n",
    "missing2BP =0\n",
    "missing10BP =0 \n",
    "corruptedPx_dict = {}\n",
    "corruptedPx_dict2fix = {}\n",
    "gtv00_listPx = []\n",
    "missingDelineation =0\n",
    "\n",
    "\n",
    "with open(savecsv_path, mode='w', newline='') as csv_file:\n",
    "    writer = csv.DictWriter(csv_file, fieldnames=fieldnames)\n",
    "    writer.writeheader()\n",
    "\n",
    "    for patientID in PxList:\n",
    "        itvtot_b,itvtum_b,itvnod_b=(False,False,False)\n",
    "        gtvtot_b,gtvtum_b,gtvnod_b=(False,False,False)\n",
    "        BP0_b,BP10_b,BP20_b,BP30_b,BP40_b,BP50_b,BP60_b,BP70_b,BP80_b,BP90_b,BP100_b=(False,False,False,False,False,False,False,False,False,False,False)\n",
    "        planCT_b = False\n",
    "        check_b = False\n",
    "\n",
    "        for root, dirs, files in os.walk(os.path.join(rootp_Nii,patientID), topdown=True):\n",
    "            for f in files: \n",
    "                #Average\n",
    "                if any(planct_tt in f.lower() for planct_tt in aveTags):\n",
    "                    planCT_b = True\n",
    "                #ITV\n",
    "                if  any(itvtot_tt in f for itvtot_tt in itvtot):\n",
    "                    itvtot_b = True\n",
    "                if any(itvtum_tt in f for itvtum_tt in itvtum):\n",
    "                    itvtum_b = True\n",
    "                if any(itvnod_tt in f for itvnod_tt in itvnod):\n",
    "                    itvnod_b = True\n",
    "                #GTV\n",
    "                if any(gtvtot_tt in f for gtvtot_tt in gtvtot):\n",
    "                    gtvtot_b = True\n",
    "                if any(gtvtum_tt in f for gtvtum_tt in gtvtum):\n",
    "                    gtvtum_b = True\n",
    "                if any(gtvnod_tt in f for gtvnod_tt in gtvnod):\n",
    "                    gtvnod_b = True\n",
    "                if any(gtv00_tt in f for gtv00_tt in gtv00):\n",
    "                    gtv00_listPx.append(patientID)\n",
    "                #BP\n",
    "                if any(bpTags_tt in f.lower() for bpTags_tt in bpTags[\"0%\"]):\n",
    "                    BP0_b =True\n",
    "                if any(bpTags_tt in f.lower() for bpTags_tt in bpTags[\"10%\"]):\n",
    "                    BP10_b = True\n",
    "                if any(bpTags_tt in f.lower() for bpTags_tt in bpTags[\"20%\"]):\n",
    "                    BP20_b = True\n",
    "                if any(bpTags_tt in f.lower() for bpTags_tt in bpTags[\"30%\"]):\n",
    "                    BP30_b = True\n",
    "                if any(bpTags_tt in f.lower() for bpTags_tt in bpTags[\"40%\"]):\n",
    "                    BP40_b = True\n",
    "                if any(bpTags_tt in f.lower() for bpTags_tt in bpTags[\"50%\"]):\n",
    "                    BP50_b = True\n",
    "                if any(bpTags_tt in f.lower() for bpTags_tt in bpTags[\"60%\"]):\n",
    "                    BP60_b = True\n",
    "                if any(bpTags_tt in f.lower() for bpTags_tt in bpTags[\"70%\"]):\n",
    "                    BP70_b = True\n",
    "                if any(bpTags_tt in f.lower() for bpTags_tt in bpTags[\"80%\"]):\n",
    "                    BP80_b = True\n",
    "                if any(bpTags_tt in f.lower() for bpTags_tt in bpTags[\"90%\"]):\n",
    "                    BP90_b = True\n",
    "                if any(bpTags_tt in f.lower() for bpTags_tt in bpTags[\"100%\"]):\n",
    "                    BP100_b = True\n",
    "    \n",
    "        if planCT_b and (itvtot_b or itvtum_b or itvnod_b) and (gtvtot_b or gtvtum_b or gtvnod_b) and (BP50_b or BP60_b) and (BP0_b,BP100_b,BP90_b):\n",
    "            check_b = True\n",
    "        #Subset SUM    \n",
    "        if (itvtot_b or itvtum_b or itvnod_b) == False:\n",
    "            subsetE1_count+=1\n",
    "            corruptedPx_dict2fix[patientID] = \"ITV Missing\"\n",
    "        elif (BP40_b or BP50_b or BP60_b) == False:\n",
    "            subsetE2_count+=1\n",
    "            corruptedPx_dict2fix[patientID] = \"No Max Exp BP\"\n",
    "        elif (BP0_b or BP100_b or BP90_b or BP10_b) and (BP40_b or BP50_b or BP60_b) and (BP20_b or BP80_b) and (BP30_b or BP70_b):\n",
    "            subsetA11_count+=1\n",
    "            if (gtvtot_b or gtvtum_b or gtvnod_b):\n",
    "                subsetA21_count+=1\n",
    "            else:\n",
    "                subsetA22_count+=1\n",
    "        elif (BP40_b or BP50_b or BP60_b) == True:\n",
    "            subsetB11_count+=1\n",
    "            if (gtvtot_b or gtvtum_b or gtvnod_b):\n",
    "                subsetB21_count+=1\n",
    "            else:\n",
    "                subsetOff_count+=1\n",
    "        \n",
    "        #ERRORS sum\n",
    "        if not(itvtot_b or itvtum_b or itvnod_b):\n",
    "            missingITV +=1\n",
    "            corruptedPx_dict[patientID] = \"MissingITV\"\n",
    "        if not(gtvtot_b or gtvtum_b or gtvnod_b):\n",
    "            missingGTV +=1\n",
    "            corruptedPx_dict[patientID] = \"MissingGTV\"\n",
    "        if not((BP50_b or BP60_b) and (BP0_b,BP100_b,BP10_b,BP90_b)):\n",
    "            missing2BP +=1\n",
    "            corruptedPx_dict[patientID] = \"Missing Peak Phases\"\n",
    "            #print(files)\n",
    "        if not(planCT_b):\n",
    "            missingPlanCT +=1\n",
    "            corruptedPx_dict[patientID] = \"Missing Plan CT\"\n",
    "        writer.writerow({\n",
    "            \"PatientID\": patientID,\"PlanCT\": planCT_b,\n",
    "            \"ITV_Total\": itvtot_b,\"ITV_Tumor\": itvtum_b,\"ITV_Nodal\": itvnod_b,\n",
    "            \"GTV_Total\": gtvtot_b,\"GTV_Tumor\": gtvtum_b,\"GTV_Nodal\": gtvnod_b,\n",
    "            \"BP_0%\": BP0_b,\"BP_10%\": BP10_b,\"BP_90%\": BP90_b,\"BP_100%\": BP100_b,\n",
    "            \"BP_20%\": BP20_b,\"BP_30%\": BP30_b,\n",
    "            \"BP_40%\": BP40_b,\"BP_50%\": BP50_b,\"BP_60%\": BP60_b,\n",
    "            \"BP_70%\": BP70_b,\"BP_80%\": BP80_b,\"Check\":check_b\n",
    "        })\n"
   ]
  },
  {
   "cell_type": "code",
   "execution_count": 42,
   "id": "7dbd6a78",
   "metadata": {
    "scrolled": false
   },
   "outputs": [
    {
     "name": "stdout",
     "output_type": "stream",
     "text": [
      "E1: 16 E2:  3\n",
      "B11: 167 A11:  675\n",
      "B21: 162 A21:  662 A22:  13\n",
      "Patients to Train: 670 Test 167\n",
      "Train Sum 162 508.0\n",
      "Test Sum 13 154.0\n",
      "Tot ok Px 837\n",
      "SubsetOff 5\n"
     ]
    }
   ],
   "source": [
    "print(\"E1:\",subsetE1_count,\"E2: \",subsetE2_count)\n",
    "print(\"B11:\",subsetB11_count,\"A11: \",subsetA11_count)\n",
    "print(\"B21:\",subsetB21_count,\"A21: \",subsetA21_count,\"A22: \",subsetA22_count)\n",
    "\n",
    "TotOkPx = subsetB21_count+subsetA21_count+subsetA22_count\n",
    "Px2Train = np.round(TotOkPx*.8).astype(np.uint64)\n",
    "Px2Test =  np.round(TotOkPx*.2).astype(np.uint64)\n",
    "\n",
    "\n",
    "print(\"Patients to Train:\",Px2Train,\"Test\",Px2Test)\n",
    "print(\"Train Sum\",subsetB21_count,Px2Train-subsetB21_count)\n",
    "print(\"Test Sum\",subsetA22_count,subsetA21_count-(Px2Train-subsetB21_count))\n",
    "print(\"Tot ok Px\",TotOkPx)\n",
    "print(\"SubsetOff\",subsetOff_count)"
   ]
  },
  {
   "cell_type": "code",
   "execution_count": 43,
   "id": "4e77b0cd",
   "metadata": {},
   "outputs": [
    {
     "data": {
      "text/plain": [
       "19"
      ]
     },
     "execution_count": 43,
     "metadata": {},
     "output_type": "execute_result"
    }
   ],
   "source": [
    "len(corruptedPx_dict2fix)"
   ]
  },
  {
   "cell_type": "code",
   "execution_count": 44,
   "id": "dfde6579",
   "metadata": {
    "scrolled": false
   },
   "outputs": [
    {
     "data": {
      "text/plain": [
       "{'1213955': 'ITV Missing',\n",
       " '8725573': 'No Max Exp BP',\n",
       " '4927095': 'No Max Exp BP',\n",
       " '4239862': 'ITV Missing',\n",
       " '6934596': 'ITV Missing',\n",
       " '7901414': 'ITV Missing',\n",
       " '5609966': 'ITV Missing',\n",
       " '1539651': 'ITV Missing',\n",
       " '9339426': 'ITV Missing',\n",
       " '2375717': 'No Max Exp BP',\n",
       " '1136033': 'ITV Missing',\n",
       " '9549714': 'ITV Missing',\n",
       " '892781': 'ITV Missing',\n",
       " '7210726': 'ITV Missing',\n",
       " '13194': 'ITV Missing',\n",
       " '4965499': 'ITV Missing',\n",
       " '5317512': 'ITV Missing',\n",
       " '2334091': 'ITV Missing',\n",
       " '100789': 'ITV Missing'}"
      ]
     },
     "execution_count": 44,
     "metadata": {},
     "output_type": "execute_result"
    }
   ],
   "source": [
    "corruptedPx_dict2fix"
   ]
  },
  {
   "cell_type": "code",
   "execution_count": 14,
   "id": "b5e5bcb3",
   "metadata": {},
   "outputs": [
    {
     "name": "stdout",
     "output_type": "stream",
     "text": [
      "Missing Delineation 26 24 BP 132 PlanCT 5\n"
     ]
    }
   ],
   "source": [
    "print(\"Missing Delineation\",missingGTV,missingITV,\"BP\",missing2BP,\"PlanCT\",missingPlanCT)\n"
   ]
  },
  {
   "cell_type": "code",
   "execution_count": 7,
   "id": "d2238655",
   "metadata": {},
   "outputs": [
    {
     "data": {
      "text/plain": [
       "169"
      ]
     },
     "execution_count": 7,
     "metadata": {},
     "output_type": "execute_result"
    }
   ],
   "source": [
    "len(corruptedPx_dict)"
   ]
  },
  {
   "cell_type": "code",
   "execution_count": 8,
   "id": "7038e585",
   "metadata": {
    "scrolled": false
   },
   "outputs": [
    {
     "data": {
      "text/plain": [
       "{'2096249': 'MissingGTV',\n",
       " '7236265': 'Missing Peak Phases',\n",
       " '7513114': 'Missing Peak Phases',\n",
       " '766115': 'Missing Peak Phases',\n",
       " '23840': 'Missing Peak Phases',\n",
       " '4023673': 'Missing Peak Phases',\n",
       " '2856145': 'Missing Peak Phases',\n",
       " '5196470': 'Missing Peak Phases',\n",
       " '5317512': 'MissingGTV',\n",
       " '5635761': 'Missing Peak Phases',\n",
       " '8716256': 'MissingGTV',\n",
       " '3741290': 'Missing Peak Phases',\n",
       " '5666561': 'Missing Peak Phases',\n",
       " '367466': 'Missing Peak Phases',\n",
       " '8036407': 'Missing Peak Phases',\n",
       " '5889191': 'Missing Plan CT',\n",
       " '32628': 'Missing Peak Phases',\n",
       " '3853415': 'Missing Peak Phases',\n",
       " '2084312': 'MissingGTV',\n",
       " '2758081': 'Missing Peak Phases',\n",
       " '9193538': 'Missing Peak Phases',\n",
       " '9918855': 'MissingGTV',\n",
       " '654137': 'Missing Peak Phases',\n",
       " '13194': 'MissingGTV',\n",
       " '5468590': 'Missing Peak Phases',\n",
       " '1136033': 'MissingGTV',\n",
       " '4965499': 'MissingGTV',\n",
       " '2334091': 'MissingITV',\n",
       " '2370282': 'Missing Peak Phases',\n",
       " '9854449': 'Missing Peak Phases',\n",
       " '9646447': 'Missing Peak Phases',\n",
       " '246826': 'Missing Peak Phases',\n",
       " '3224668': 'Missing Peak Phases',\n",
       " '8269736': 'Missing Peak Phases',\n",
       " '9600274': 'Missing Peak Phases',\n",
       " '346733': 'Missing Peak Phases',\n",
       " '2345065': 'Missing Peak Phases',\n",
       " '9915436': 'Missing Peak Phases',\n",
       " '3058377': 'MissingGTV',\n",
       " '3903141': 'Missing Peak Phases',\n",
       " '6934596': 'MissingITV',\n",
       " '4239862': 'MissingITV',\n",
       " '3740147': 'Missing Peak Phases',\n",
       " '8686962': 'Missing Peak Phases',\n",
       " '2685249': 'Missing Peak Phases',\n",
       " '6224291': 'MissingGTV',\n",
       " '5260554': 'Missing Peak Phases',\n",
       " '7658716': 'Missing Peak Phases',\n",
       " '2720170': 'Missing Peak Phases',\n",
       " '5609966': 'MissingITV',\n",
       " '1262287': 'Missing Peak Phases',\n",
       " '9741852': 'Missing Peak Phases',\n",
       " '659641': 'Missing Peak Phases',\n",
       " '4199364': 'Missing Peak Phases',\n",
       " '4023988': 'Missing Peak Phases',\n",
       " '7475016': 'Missing Peak Phases',\n",
       " '4961403': 'Missing Peak Phases',\n",
       " '9920297': 'Missing Peak Phases',\n",
       " '653371': 'Missing Peak Phases',\n",
       " '8872378': 'Missing Peak Phases',\n",
       " '1213955': 'MissingITV',\n",
       " '8501962': 'Missing Plan CT',\n",
       " '6251754': 'Missing Peak Phases',\n",
       " '3538176': 'Missing Peak Phases',\n",
       " '5721596': 'Missing Peak Phases',\n",
       " '868262': 'Missing Peak Phases',\n",
       " '102687': 'Missing Peak Phases',\n",
       " '699039': 'Missing Peak Phases',\n",
       " '1332315': 'Missing Peak Phases',\n",
       " '3930261': 'Missing Peak Phases',\n",
       " '2934281': 'Missing Peak Phases',\n",
       " '1545174': 'Missing Peak Phases',\n",
       " '5087191': 'Missing Peak Phases',\n",
       " '8908662': 'Missing Peak Phases',\n",
       " '5619644': 'Missing Peak Phases',\n",
       " '8634486': 'Missing Peak Phases',\n",
       " '3379144': 'Missing Peak Phases',\n",
       " '2375717': 'Missing Peak Phases',\n",
       " '2392124': 'Missing Peak Phases',\n",
       " '4488970': 'Missing Peak Phases',\n",
       " '6629816': 'Missing Peak Phases',\n",
       " '2035451': 'Missing Plan CT',\n",
       " '5288807': 'Missing Peak Phases',\n",
       " '4133970': 'Missing Peak Phases',\n",
       " '333848': 'MissingGTV',\n",
       " '7210726': 'MissingITV',\n",
       " '7391514': 'Missing Peak Phases',\n",
       " '2083343': 'Missing Peak Phases',\n",
       " '892781': 'MissingGTV',\n",
       " '2835183': 'MissingGTV',\n",
       " '1874719': 'Missing Peak Phases',\n",
       " '534518': 'Missing Peak Phases',\n",
       " '9315678': 'Missing Peak Phases',\n",
       " '4295926': 'Missing Peak Phases',\n",
       " '1318004': 'Missing Peak Phases',\n",
       " '7785292': 'Missing Peak Phases',\n",
       " '1118297': 'MissingGTV',\n",
       " '2718130': 'Missing Peak Phases',\n",
       " '4927095': 'Missing Peak Phases',\n",
       " '9339426': 'MissingITV',\n",
       " '9949900': 'Missing Peak Phases',\n",
       " '8192437': 'Missing Peak Phases',\n",
       " '5930226': 'MissingGTV',\n",
       " '8334515': 'Missing Peak Phases',\n",
       " '3166711': 'Missing Peak Phases',\n",
       " '180869': 'Missing Peak Phases',\n",
       " '549920': 'MissingGTV',\n",
       " '9254721': 'Missing Peak Phases',\n",
       " '5532020': 'Missing Peak Phases',\n",
       " '7848534': 'MissingGTV',\n",
       " '8372090': 'Missing Peak Phases',\n",
       " '2741634': 'MissingGTV',\n",
       " '5031219': 'Missing Peak Phases',\n",
       " '4790185': 'Missing Peak Phases',\n",
       " '3042662': 'Missing Peak Phases',\n",
       " '4965313': 'Missing Peak Phases',\n",
       " '9443032': 'Missing Peak Phases',\n",
       " '2107157': 'Missing Peak Phases',\n",
       " '3146700': 'Missing Peak Phases',\n",
       " '9243882': 'Missing Peak Phases',\n",
       " '2099620': 'MissingGTV',\n",
       " '9829221': 'Missing Peak Phases',\n",
       " '5068340': 'Missing Peak Phases',\n",
       " '2437393': 'Missing Peak Phases',\n",
       " '2385123': 'Missing Peak Phases',\n",
       " '7168701': 'Missing Peak Phases',\n",
       " '8698891': 'Missing Plan CT',\n",
       " '8725573': 'Missing Peak Phases',\n",
       " '518674': 'Missing Peak Phases',\n",
       " '6357374': 'Missing Peak Phases',\n",
       " '9077670': 'Missing Peak Phases',\n",
       " '248219': 'Missing Peak Phases',\n",
       " '1539651': 'MissingITV',\n",
       " '9038015': 'Missing Peak Phases',\n",
       " '7213981': 'Missing Peak Phases',\n",
       " '2676114': 'Missing Peak Phases',\n",
       " '9549714': 'MissingITV',\n",
       " '8223634': 'Missing Peak Phases',\n",
       " '624804': 'MissingGTV',\n",
       " '7283229': 'Missing Peak Phases',\n",
       " '4629433': 'Missing Peak Phases',\n",
       " '325073': 'Missing Peak Phases',\n",
       " '3628592': 'Missing Peak Phases',\n",
       " '2851836': 'Missing Peak Phases',\n",
       " '5672394': 'Missing Peak Phases',\n",
       " '4165748': 'Missing Peak Phases',\n",
       " '100789': 'MissingITV',\n",
       " '1401248': 'Missing Peak Phases',\n",
       " '5864885': 'Missing Peak Phases',\n",
       " '282824': 'Missing Peak Phases',\n",
       " '7066738': 'Missing Peak Phases',\n",
       " '2126847': 'Missing Plan CT',\n",
       " '9698170': 'Missing Peak Phases',\n",
       " '2610935': 'Missing Peak Phases',\n",
       " '8127135': 'Missing Peak Phases',\n",
       " '9652462': 'Missing Peak Phases',\n",
       " '6874374': 'Missing Peak Phases',\n",
       " '9061277': 'Missing Peak Phases',\n",
       " '7629879': 'Missing Peak Phases',\n",
       " '1199667': 'Missing Peak Phases',\n",
       " '4980116': 'Missing Peak Phases',\n",
       " '6693447': 'MissingGTV',\n",
       " '9065388': 'MissingGTV',\n",
       " '2022536': 'Missing Peak Phases',\n",
       " '7901414': 'MissingGTV',\n",
       " '7867220': 'Missing Peak Phases',\n",
       " '5566654': 'Missing Peak Phases',\n",
       " '2885113': 'Missing Peak Phases',\n",
       " '186208': 'MissingGTV'}"
      ]
     },
     "execution_count": 8,
     "metadata": {},
     "output_type": "execute_result"
    }
   ],
   "source": [
    "corruptedPx_dict"
   ]
  },
  {
   "cell_type": "code",
   "execution_count": null,
   "id": "a5eb526d",
   "metadata": {
    "scrolled": false
   },
   "outputs": [],
   "source": []
  }
 ],
 "metadata": {
  "kernelspec": {
   "display_name": "Python 3 (ipykernel)",
   "language": "python",
   "name": "python3"
  },
  "language_info": {
   "codemirror_mode": {
    "name": "ipython",
    "version": 3
   },
   "file_extension": ".py",
   "mimetype": "text/x-python",
   "name": "python",
   "nbconvert_exporter": "python",
   "pygments_lexer": "ipython3",
   "version": "3.10.12"
  }
 },
 "nbformat": 4,
 "nbformat_minor": 5
}
