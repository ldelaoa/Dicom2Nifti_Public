{
 "cells": [
  {
   "cell_type": "code",
   "execution_count": null,
   "id": "b5b51414",
   "metadata": {},
   "outputs": [],
   "source": []
  },
  {
   "cell_type": "code",
   "execution_count": null,
   "id": "601778af",
   "metadata": {},
   "outputs": [],
   "source": [
    "from Dicom2Nii_Funs import convert_dicom_to_nifty"
   ]
  },
  {
   "cell_type": "code",
   "execution_count": null,
   "id": "8a173474",
   "metadata": {},
   "outputs": [],
   "source": [
    "import nibabel as nib\n",
    "import glob\n",
    "import numpy as np\n",
    "import re\n",
    "import pandas as pd\n",
    "import os\n",
    "import math\n",
    "import pydicom as pdcm"
   ]
  },
  {
   "cell_type": "code",
   "execution_count": null,
   "id": "dc8bb5af",
   "metadata": {},
   "outputs": [],
   "source": [
    "import yaml\n",
    "with open('config_Dicom2Nii.yaml', 'r') as stream:\n",
    "    config = yaml.safe_load(stream)\n",
    "    \n",
    "    itvtot = config['itv_tot_labels']\n",
    "    itvtum = config['itv_tumor_labels']\n",
    "    itvnod = config['itv_ln_labels']\n",
    "    \n",
    "    gtvtot = config['gtv_tot_labels']\n",
    "    gtvtum = config['gtv_tumor_labels']\n",
    "    gtvnod = config['gtv_ln_labels']\n",
    "\n",
    "    root_nii = config['save_path']\n",
    "    \n",
    "    #source_csv_path = config['source_csv']\n",
    "    source_csv_path = \"//zkh/appdata/RTDicom/Projectline_modelling_lung_cancer/Users/Luis/ListsOfPatients/Dicom2Nii_LastRound.csv\"\n",
    "    \n",
    "    \n",
    "    save_path = config['save_path']\n",
    "\n",
    "df = pd.read_csv(source_csv_path)\n",
    "target_labels = itvtot + itvtum+itvnod+gtvtot+gtvtum+gtvnod"
   ]
  },
  {
   "cell_type": "code",
   "execution_count": null,
   "id": "2506817e",
   "metadata": {
    "scrolled": false
   },
   "outputs": [],
   "source": [
    "df['pxID'] = df['pxID'].astype(int)\n",
    "id_column = df.iloc[:, 0]\n",
    "df"
   ]
  },
  {
   "cell_type": "code",
   "execution_count": null,
   "id": "8ebef8ef",
   "metadata": {},
   "outputs": [],
   "source": []
  },
  {
   "cell_type": "code",
   "execution_count": null,
   "id": "ee4ecf0d",
   "metadata": {},
   "outputs": [],
   "source": [
    "def LookForPlanCT_GTV_ITV_InNii(path_Nii):\n",
    "    missingCT_bool,missingITV_bool,missingGTV_bool = (True,True,True)\n",
    "    for f in os.listdir(path_Nii):\n",
    "        if \"ave\" in f.lower() or \"mip\" in f.lower() or \"thorax\" in f.lower():\n",
    "            missingCT_bool= False\n",
    "        if \"gtv\" in f.lower():\n",
    "            missingGTV_bool = False\n",
    "        if \"itv\" in f.lower() or \"igtv\" in f.lower():\n",
    "            missingITV_bool = False    \n",
    "    return missingCT_bool,missingITV_bool,missingGTV_bool"
   ]
  },
  {
   "cell_type": "code",
   "execution_count": null,
   "id": "63b0a7e9",
   "metadata": {
    "scrolled": false
   },
   "outputs": [],
   "source": [
    "count=0\n",
    "pattern = re.compile(r'(?![2]),(?![0-9])')\n",
    "for patientID in id_column:\n",
    "    #COLLECT AND FORMAT THE DATA \n",
    "    PlanCT_path = df[id_column==patientID]['CT'].iloc[0]\n",
    "    PlanCT_path_list = pattern.split(PlanCT_path)\n",
    "    PlanCT_path_clean = [element.strip() for element in PlanCT_path_list]\n",
    "    PlanCT_path_unique = list(set(PlanCT_path_clean))\n",
    "    \n",
    "    listCTs_path = df[df['pxID'] == patientID].iloc[:,8:20].values.tolist()\n",
    "    listCTs_path_split = [item for sublist in listCTs_path for item in sublist]\n",
    "\n",
    "    listRTs_path = df[df['pxID'] == patientID].iloc[:, 2:8].values.tolist()\n",
    "    listRTs_path_split = [item for sublist in listRTs_path for item in sublist]\n",
    "    listRTs_path_unique = np.unique(listRTs_path_split)\n",
    "\n",
    "    #CREATE PATH\n",
    "    if not os.path.exists(save_path+str(patientID)):\n",
    "        os.makedirs(save_path+str(patientID)+'/')\n",
    "        print(\"NEW Px:\",patientID,\"Count\",count)\n",
    "\n",
    "    #CHECK IF PX has been completed before\n",
    "    missPlanCTNii,missITVNii,missGTVTNii = LookForPlanCT_GTV_ITV_InNii(save_path+str(patientID))\n",
    "    if False and not(missPlanCTNii):\n",
    "        print(\"Already Complete Px:\",patientID,\"Count\",count)\n",
    "    else:\n",
    "        print(\"Not complete Folder Px:\",patientID,\"Count\",count)\n",
    "        save_px_path = os.path.join(save_path,str(patientID))\n",
    "        \n",
    "        #Convert Plan CT\n",
    "        print(\"Plan CT\")\n",
    "        for singPlanCT_path in PlanCT_path_unique:\n",
    "            print(singPlanCT_path.split)\n",
    "            #dicom2nifti.convert_directory(singPlanCT_path, save_px_path, compression=True, reorient=False)\n",
    "            Filename=\"PlanCT\"\n",
    "            input_filepaths = []\n",
    "\n",
    "            for currSlide in os.listdir(singPlanCT_path):\n",
    "                input_filepaths.append(os.path.join(singPlanCT_path,currSlide))\n",
    "\n",
    "            image, pixel_spacing, image_position_patient,axial_positions = convert_dicom_to_nifty(input_filepaths,patientID,\n",
    "                                    save_px_path,\n",
    "                                    target_labels,extension='.nii.gz',filename=\"CT_\"+Filename,\n",
    "                                    pixel_spacing = None, image_position_patient=None,axial_positions=None,\n",
    "                                    np_image=None,dtype_image=np.float32,dtype_mask=np.uint8,)\n",
    "                \n",
    "            planCT_Nii_path = os.listdir(save_px_path)\n",
    "\n",
    "        # RTSTruct\n",
    "        \n",
    "        print(\"RTStruct:\")\n",
    "        ct_nifti = nib.load(os.path.join(save_px_path,planCT_Nii_path[0]))\n",
    "        for singleRT_path in listRTs_path_unique:\n",
    "            if not(str(singleRT_path)==\"nan\"):\n",
    "                print(singleRT_path)\n",
    "                try:\n",
    "                    #rtstructUTILS = RTStructBuilder.create_from(dicom_series_path=singPlanCT_path,rt_struct_path=singleRT_path.replace(\"\\\\\\\\\", \"/\"))\n",
    "                    Filename=\"RTstruct\"\n",
    "                    convert_dicom_to_nifty(singleRT_path,patientID,\n",
    "                                            save_px_path,\n",
    "                                            target_labels,extension='.nii.gz',filename=\"RT_\"+Filename,\n",
    "                                            pixel_spacing = pixel_spacing, image_position_patient=image_position_patient,axial_positions=axial_positions,\n",
    "                                            np_image=image,dtype_image=np.float32,dtype_mask=np.uint8,)\n",
    "                        \n",
    "                except Exception as e:\n",
    "                        print(\"ERROR at RTUtils\",e)\n",
    "                        pass\n",
    "                    \n",
    "    count+=1 "
   ]
  },
  {
   "cell_type": "code",
   "execution_count": null,
   "id": "8b1bc299",
   "metadata": {},
   "outputs": [],
   "source": []
  },
  {
   "cell_type": "code",
   "execution_count": null,
   "id": "2ef0a7a4",
   "metadata": {},
   "outputs": [],
   "source": [
    "planCT_Nii_path"
   ]
  },
  {
   "cell_type": "code",
   "execution_count": null,
   "id": "a17ba145",
   "metadata": {
    "scrolled": true
   },
   "outputs": [],
   "source": []
  },
  {
   "cell_type": "code",
   "execution_count": null,
   "id": "23a23e1d",
   "metadata": {},
   "outputs": [],
   "source": []
  },
  {
   "cell_type": "code",
   "execution_count": null,
   "id": "7e6abdf1",
   "metadata": {},
   "outputs": [],
   "source": []
  },
  {
   "cell_type": "code",
   "execution_count": null,
   "id": "8d23f6e8",
   "metadata": {},
   "outputs": [],
   "source": []
  },
  {
   "cell_type": "code",
   "execution_count": null,
   "id": "4d7f312b",
   "metadata": {
    "scrolled": false
   },
   "outputs": [],
   "source": []
  },
  {
   "cell_type": "code",
   "execution_count": null,
   "id": "60e8f257",
   "metadata": {},
   "outputs": [],
   "source": []
  },
  {
   "cell_type": "code",
   "execution_count": null,
   "id": "78bc41e0",
   "metadata": {},
   "outputs": [],
   "source": []
  }
 ],
 "metadata": {
  "kernelspec": {
   "display_name": "Python 3 (ipykernel)",
   "language": "python",
   "name": "python3"
  },
  "language_info": {
   "codemirror_mode": {
    "name": "ipython",
    "version": 3
   },
   "file_extension": ".py",
   "mimetype": "text/x-python",
   "name": "python",
   "nbconvert_exporter": "python",
   "pygments_lexer": "ipython3",
   "version": "3.9.19"
  }
 },
 "nbformat": 4,
 "nbformat_minor": 5
}
