{
 "cells": [
  {
   "cell_type": "code",
   "execution_count": 1,
   "id": "504f89b7",
   "metadata": {},
   "outputs": [],
   "source": [
    "import os\n",
    "import csv\n"
   ]
  },
  {
   "cell_type": "code",
   "execution_count": 3,
   "id": "e29c3bd9",
   "metadata": {},
   "outputs": [],
   "source": [
    "def normalize_path(path):\n",
    "    \"\"\"\n",
    "    Replaces backslashes with forward slashes in the given path.\n",
    "\n",
    "    Parameters:\n",
    "    - path (str): The input path to be normalized.\n",
    "\n",
    "    Returns:\n",
    "    - str: The normalized path.\n",
    "    \"\"\"\n",
    "    return path.replace('\\\\', '/')"
   ]
  },
  {
   "cell_type": "code",
   "execution_count": 13,
   "id": "175ea081",
   "metadata": {},
   "outputs": [],
   "source": [
    "def create_folder_csv(folder_path, csv_filename):\n",
    "    # Check if the provided path is a directory\n",
    "    if not os.path.isdir(folder_path):\n",
    "        print(f\"{folder_path} is not a valid directory.\")\n",
    "        return\n",
    "\n",
    "    # Create a CSV file to store folder information\n",
    "    with open(csv_filename, 'w', newline='') as csvfile:\n",
    "        csv_writer = csv.writer(csvfile)\n",
    "\n",
    "        # Write header to CSV file\n",
    "        csv_writer.writerow(['Folder Name', 'Number of Files', 'File Paths'])\n",
    "\n",
    "        # Recursively explore the folder and its subdirectories\n",
    "        explore_folder(folder_path, csv_writer)\n",
    "\n",
    "def explore_folder(folder_path, csv_writer):\n",
    "    # Loop through each item in the folder\n",
    "    for item in os.listdir(folder_path):\n",
    "        item_path = os.path.join(folder_path, item)\n",
    "\n",
    "        # Check if the item is a file\n",
    "        if os.path.isfile(item_path):\n",
    "            # Write file information to CSV file\n",
    "            csv_writer.writerow([folder_path, len(os.listdir(folder_path))] + [item_path])\n",
    "        elif os.path.isdir(item_path):\n",
    "            # If the item is a directory, recursively explore it\n",
    "            explore_folder(item_path, csv_writer)\n"
   ]
  },
  {
   "cell_type": "code",
   "execution_count": 14,
   "id": "2a76bc0c",
   "metadata": {},
   "outputs": [
    {
     "name": "stdout",
     "output_type": "stream",
     "text": [
      "CSV file '//zkh/appdata/RTDicom/Projectline_modelling_lung_cancer/Users/Luis/RRegistered_ACCTs/folder_contents.csv' created successfully.\n"
     ]
    }
   ],
   "source": [
    "if __name__ == \"__main__\":\n",
    "    # Provide the folder path and CSV filename\n",
    "    folder_path = '//zkh/appdata/RTDicom/Projectline_modelling_lung_cancer/Users/Luis/RRegistered_ACCTs/'\n",
    "    folder_pathN = normalize_path(folder_path)\n",
    "    csv_filename = os.path.join(folder_pathN,'folder_contents.csv')\n",
    "\n",
    "    # Call the function to create the CSV file\n",
    "    create_folder_csv(folder_pathN, csv_filename)\n",
    "\n",
    "    print(f\"CSV file '{csv_filename}' created successfully.\")"
   ]
  },
  {
   "cell_type": "code",
   "execution_count": null,
   "id": "49632248",
   "metadata": {},
   "outputs": [],
   "source": []
  }
 ],
 "metadata": {
  "kernelspec": {
   "display_name": "Python 3 (ipykernel)",
   "language": "python",
   "name": "python3"
  },
  "language_info": {
   "codemirror_mode": {
    "name": "ipython",
    "version": 3
   },
   "file_extension": ".py",
   "mimetype": "text/x-python",
   "name": "python",
   "nbconvert_exporter": "python",
   "pygments_lexer": "ipython3",
   "version": "3.10.12"
  }
 },
 "nbformat": 4,
 "nbformat_minor": 5
}
