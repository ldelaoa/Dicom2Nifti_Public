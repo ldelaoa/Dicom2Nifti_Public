{
 "cells": [
  {
   "cell_type": "code",
   "execution_count": null,
   "id": "aad45b24",
   "metadata": {},
   "outputs": [],
   "source": [
    "#V2 is onlyunstructured, also it changes the logic on how to do the match ACCT and PET"
   ]
  },
  {
   "cell_type": "code",
   "execution_count": 1,
   "id": "8a173474",
   "metadata": {},
   "outputs": [],
   "source": [
    "from os.path import join\n",
    "from datetime import time, datetime\n",
    "import os\n",
    "import glob\n",
    "import numpy as np\n",
    "import SimpleITK as sitk\n",
    "import pydicom as dicom\n",
    "from pydicom.tag import Tag\n",
    "import sys\n",
    "import csv\n",
    "import pydicom as pdcm"
   ]
  },
  {
   "cell_type": "code",
   "execution_count": 2,
   "id": "2506817e",
   "metadata": {},
   "outputs": [],
   "source": [
    "def getICUID(path):\n",
    "    for root, dirs, files in os.walk(path):\n",
    "        for f in files:\n",
    "            slices = pdcm.read_file(root+f,stop_before_pixels=True)\n",
    "            return slices.file_meta.ImplementationClassUID"
   ]
  },
  {
   "cell_type": "code",
   "execution_count": 3,
   "id": "dc8bb5af",
   "metadata": {},
   "outputs": [],
   "source": [
    "window_type = 'lung'\n",
    "root_path=\"//zkh/appdata/RTDicom/Projectline_modelling_lung_cancer/DICOM_data/\"\n",
    "structured = root_path + \"DATA_VOLLEDIG_structured/\"\n",
    "unstructured = root_path + \"DATA_VOLLEDIG_unstructured/\"\n",
    "csv_filename = \"//zkh/appdata/RTDicom/Projectline_modelling_lung_cancer/Users/Luis/CSVs/ListPETMatchACCT_V2_Try3.csv\"\n",
    "\n",
    "#Folders to look at:\n",
    "#Try1 =\"CT_DICOM_CLEAN/\"\n",
    "Try2 =\"PET_DICOM/\"\n",
    "#Try3 =\"PET_LDCT_REGISTERED/\"\n",
    "#Try4 =\"PET_MIRADA_REGISTERED/\""
   ]
  },
  {
   "cell_type": "code",
   "execution_count": 12,
   "id": "2905f496",
   "metadata": {},
   "outputs": [
    {
     "name": "stdout",
     "output_type": "stream",
     "text": [
      "True\n",
      "True\n"
     ]
    }
   ],
   "source": [
    "MergeLists=[]\n",
    "#MergeLists.append(os.path.join(structured,Try1))\n",
    "MergeLists.append(os.path.join(structured,Try2))\n",
    "#MergeLists.append(os.path.join(structured,Try3))\n",
    "#MergeLists.append(os.path.join(structured,Try4))\n",
    "MergeLists.append(os.path.join(unstructured))\n",
    "\n",
    "for currdir in MergeLists:\n",
    "    print(os.path.exists(currdir))"
   ]
  },
  {
   "cell_type": "code",
   "execution_count": 13,
   "id": "63b0a7e9",
   "metadata": {},
   "outputs": [
    {
     "name": "stdout",
     "output_type": "stream",
     "text": [
      "Number of Patients: 801  Example:  0010539\n",
      "Number of Patients: 1285  Example:  0004879\n"
     ]
    }
   ],
   "source": [
    "modalityToLook = [\"CT\",\"PET\"]\n",
    "\n",
    "for currdir in MergeLists:\n",
    "    PxList = np.sort(os.listdir(currdir))\n",
    "    print(\"Number of Patients:\",len(PxList),\" Example: \",PxList[1])\n",
    " "
   ]
  },
  {
   "cell_type": "code",
   "execution_count": 14,
   "id": "4f2a66d4",
   "metadata": {},
   "outputs": [
    {
     "data": {
      "text/plain": [
       "'//zkh/appdata/RTDicom/Projectline_modelling_lung_cancer/DICOM_data/DATA_VOLLEDIG_unstructured/'"
      ]
     },
     "execution_count": 14,
     "metadata": {},
     "output_type": "execute_result"
    }
   ],
   "source": [
    "MergeLists[1]"
   ]
  },
  {
   "cell_type": "code",
   "execution_count": 17,
   "id": "802667b7",
   "metadata": {},
   "outputs": [],
   "source": [
    "\n",
    "PxList = np.sort(os.listdir(MergeLists[1]))\n",
    "\n",
    "\n",
    "dict_PETperPx = {}\n",
    "PxlistwPETS = []\n",
    "for Px in PxList:\n",
    "    matchingPETs = []\n",
    "    for root, dirs, files in os.walk(MergeLists[1]+Px, topdown=True):\n",
    "        ACCT_LD_fpaths = []\n",
    "        PET_fpaths = []\n",
    "        \n",
    "        bool_PET = False\n",
    "        bool_ACCT = False\n",
    "        bool_match = False\n",
    "\n",
    "        for d in dirs:\n",
    "            if \"CT\" in d:\n",
    "                ACCT_LD_fpaths.append(root+'/'+d+'/')\n",
    "                bool_ACCT = True\n",
    "            if \"PET\" in d and not(\"CT\" in d):\n",
    "                PET_fpaths.append(root+'/'+d+'/')\n",
    "                bool_PET = True\n",
    "        if bool_PET:\n",
    "            for currPET in PET_fpaths:\n",
    "                for currCT in ACCT_LD_fpaths:\n",
    "                    lastUID_CT = getICUID(currCT)\n",
    "                    lastUID_PET = getICUID(currPET)\n",
    "                    if lastUID_CT == lastUID_PET:\n",
    "                        bool_match = True \n",
    "                        matchingPETs.append([Px,currCT,currPET])\n",
    "                        PxlistwPETS.append([Px,currCT,currPET])\n",
    "        else:\n",
    "            dict_PETperPx[Px]=\"Missing\"\n",
    "                        \n",
    "    if len(matchingPETs)>0:\n",
    "        for i in range(len(matchingPETs)):\n",
    "            petname = matchingPETs[i][2].split(\"/\")[-2]\n",
    "            dict_PETperPx[Px]=petname"
   ]
  },
  {
   "cell_type": "code",
   "execution_count": 18,
   "id": "5a545c17",
   "metadata": {
    "scrolled": true
   },
   "outputs": [],
   "source": [
    "#SavePaths\n",
    "filename = \"//zkh/appdata/RTDicom/Projectline_modelling_lung_cancer/Users/Luis/CSVs/ListPETMatchACCT_V2_WTry3_pt2.csv\"\n",
    "with open(filename, 'w', newline='') as csvfile:\n",
    "    writer = csv.writer(csvfile)\n",
    "    writer.writerows(PxlistwPETS)"
   ]
  },
  {
   "cell_type": "code",
   "execution_count": 25,
   "id": "8b0eef0b",
   "metadata": {},
   "outputs": [],
   "source": [
    "#Save Dictionary, but not ideal, because only last PET is stored, for those that have many \n",
    "#useful to see which doesnt have a pet\n",
    "filename = \"//zkh/appdata/RTDicom/Projectline_modelling_lung_cancer/Users/Luis/CSVs/DictionatyPETMatchACCT_V2WTry2.csv\"\n",
    "with open(filename, 'w', newline='') as csvfile:\n",
    "    writer = csv.DictWriter(csvfile, fieldnames=[\"Key\", \"Value\"])\n",
    "    writer.writeheader()\n",
    "    for key, value in dict_PETperPx.items():\n",
    "        writer.writerow({\"Key\": key, \"Value\": value})"
   ]
  },
  {
   "cell_type": "code",
   "execution_count": null,
   "id": "9a02a328",
   "metadata": {},
   "outputs": [],
   "source": [
    "\n"
   ]
  },
  {
   "cell_type": "code",
   "execution_count": null,
   "id": "a6d8804e",
   "metadata": {},
   "outputs": [],
   "source": []
  },
  {
   "cell_type": "code",
   "execution_count": null,
   "id": "c2d1c517",
   "metadata": {},
   "outputs": [],
   "source": []
  },
  {
   "cell_type": "code",
   "execution_count": null,
   "id": "803c16c2",
   "metadata": {},
   "outputs": [],
   "source": []
  },
  {
   "cell_type": "code",
   "execution_count": null,
   "id": "279b0be3",
   "metadata": {},
   "outputs": [],
   "source": []
  },
  {
   "cell_type": "code",
   "execution_count": null,
   "id": "73f1fe2e",
   "metadata": {},
   "outputs": [],
   "source": []
  },
  {
   "cell_type": "code",
   "execution_count": null,
   "id": "9dc57430",
   "metadata": {},
   "outputs": [],
   "source": []
  },
  {
   "cell_type": "code",
   "execution_count": null,
   "id": "94934b2f",
   "metadata": {},
   "outputs": [],
   "source": []
  },
  {
   "cell_type": "code",
   "execution_count": null,
   "id": "8d23f6e8",
   "metadata": {},
   "outputs": [],
   "source": []
  },
  {
   "cell_type": "code",
   "execution_count": null,
   "id": "4d7f312b",
   "metadata": {},
   "outputs": [],
   "source": []
  },
  {
   "cell_type": "code",
   "execution_count": null,
   "id": "60e8f257",
   "metadata": {},
   "outputs": [],
   "source": []
  }
 ],
 "metadata": {
  "kernelspec": {
   "display_name": "Python 3 (ipykernel)",
   "language": "python",
   "name": "python3"
  },
  "language_info": {
   "codemirror_mode": {
    "name": "ipython",
    "version": 3
   },
   "file_extension": ".py",
   "mimetype": "text/x-python",
   "name": "python",
   "nbconvert_exporter": "python",
   "pygments_lexer": "ipython3",
   "version": "3.9.19"
  }
 },
 "nbformat": 4,
 "nbformat_minor": 5
}
