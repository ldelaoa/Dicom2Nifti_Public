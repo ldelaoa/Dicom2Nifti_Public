{
 "cells": [
  {
   "cell_type": "code",
   "execution_count": 1,
   "id": "5bc34494",
   "metadata": {},
   "outputs": [],
   "source": [
    "#GTV_op, GTV_voor_OK, GTV_LOK, GTV_oorspr, \"GTVpatelectasebewaren(1)\""
   ]
  },
  {
   "cell_type": "code",
   "execution_count": 1,
   "id": "e72a9846",
   "metadata": {},
   "outputs": [],
   "source": [
    "from os.path import join\n",
    "from datetime import time, datetime\n",
    "import os\n",
    "import glob\n",
    "import numpy as np\n",
    "from skimage.draw import polygon\n",
    "import SimpleITK as sitk\n",
    "#import pydicom as dicom\n",
    "#from pydicom.tag import Tag\n",
    "import sys\n",
    "import csv\n",
    "import pandas as pd\n",
    "import shutil"
   ]
  },
  {
   "cell_type": "code",
   "execution_count": 2,
   "id": "d2fdcde1",
   "metadata": {},
   "outputs": [],
   "source": [
    "weirdLabels = [\"GTV_op\", \"GTV_voor_OK\", \"GTV_LOK\", \"GTV_oorspr\", \"GTVpatelectasebewaren\"]"
   ]
  },
  {
   "cell_type": "code",
   "execution_count": 5,
   "id": "6b76d9de",
   "metadata": {},
   "outputs": [
    {
     "name": "stdout",
     "output_type": "stream",
     "text": [
      "861\n"
     ]
    }
   ],
   "source": [
    "folderToLook = \"//zkh/appdata/RTDicom/Projectline_modelling_lung_cancer/Users/Luis/CT_ITV_GTV_XBP_Nii/\"\n",
    "PxList_file  = \"//zkh/appdata/RTDicom/Projectline_modelling_lung_cancer/Users/Luis/ListsOfPatients/PxSelectionforDCM2Nii.txt\"\n",
    "with open(PxList_file, 'r') as file:\n",
    "    PxList = [line.rstrip() for line in file]\n",
    "print(len(PxList))"
   ]
  },
  {
   "cell_type": "code",
   "execution_count": 9,
   "id": "7bcfb991",
   "metadata": {},
   "outputs": [
    {
     "name": "stdout",
     "output_type": "stream",
     "text": [
      "3373532 ['GTV_op', 'GTV_voor_OK', 'GTV_LOK', 'GTV_oorspr', 'GTVpatelectasebewaren']\n",
      "2197630 ['GTV_op', 'GTV_voor_OK', 'GTV_LOK', 'GTV_oorspr', 'GTVpatelectasebewaren']\n"
     ]
    }
   ],
   "source": [
    "\n",
    "for currPX in PxList:\n",
    "    for root, dirs, files in os.walk(os.path.join(folderToLook,currPX), topdown=True):\n",
    "        for f in files:\n",
    "            if any(label_tt in f for label_tt in weirdLabels):\n",
    "                print(currPX,weirdLabels)\n",
    "                break\n",
    "            \n",
    "            "
   ]
  },
  {
   "cell_type": "code",
   "execution_count": 41,
   "id": "bcaeffdc",
   "metadata": {
    "scrolled": true
   },
   "outputs": [],
   "source": []
  },
  {
   "cell_type": "code",
   "execution_count": null,
   "id": "7dbd6a78",
   "metadata": {
    "scrolled": false
   },
   "outputs": [],
   "source": []
  },
  {
   "cell_type": "code",
   "execution_count": null,
   "id": "4e77b0cd",
   "metadata": {},
   "outputs": [],
   "source": [
    "\n"
   ]
  },
  {
   "cell_type": "code",
   "execution_count": null,
   "id": "dfde6579",
   "metadata": {
    "scrolled": false
   },
   "outputs": [],
   "source": []
  },
  {
   "cell_type": "code",
   "execution_count": null,
   "id": "b5e5bcb3",
   "metadata": {},
   "outputs": [],
   "source": []
  },
  {
   "cell_type": "code",
   "execution_count": null,
   "id": "d2238655",
   "metadata": {},
   "outputs": [],
   "source": []
  },
  {
   "cell_type": "code",
   "execution_count": null,
   "id": "7038e585",
   "metadata": {
    "scrolled": false
   },
   "outputs": [],
   "source": []
  },
  {
   "cell_type": "code",
   "execution_count": null,
   "id": "a5eb526d",
   "metadata": {
    "scrolled": false
   },
   "outputs": [],
   "source": []
  }
 ],
 "metadata": {
  "kernelspec": {
   "display_name": "Python 3 (ipykernel)",
   "language": "python",
   "name": "python3"
  },
  "language_info": {
   "codemirror_mode": {
    "name": "ipython",
    "version": 3
   },
   "file_extension": ".py",
   "mimetype": "text/x-python",
   "name": "python",
   "nbconvert_exporter": "python",
   "pygments_lexer": "ipython3",
   "version": "3.10.12"
  }
 },
 "nbformat": 4,
 "nbformat_minor": 5
}
