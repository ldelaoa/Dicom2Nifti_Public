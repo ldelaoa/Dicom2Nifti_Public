{
 "cells": [
  {
   "cell_type": "code",
   "execution_count": 1,
   "id": "f259d70f",
   "metadata": {},
   "outputs": [],
   "source": [
    "#Working ok "
   ]
  },
  {
   "cell_type": "code",
   "execution_count": 1,
   "id": "1b96bfb0",
   "metadata": {},
   "outputs": [],
   "source": [
    "import matplotlib.pyplot as plt\n",
    "import numpy as np\n",
    "import pydicom as pdcm\n",
    "import os\n",
    "import csv\n",
    "import pandas as pd\n",
    "import re"
   ]
  },
  {
   "cell_type": "code",
   "execution_count": 4,
   "id": "ee20ad48",
   "metadata": {},
   "outputs": [],
   "source": [
    "#GET PATHS AND LABELS\n",
    "root_path  = \"//zkh/appdata/RTDicom/Projectline_modelling_lung_cancer/DICOM_data/DATA_VOLLEDIG_unstructured/\"\n",
    "PxList = np.sort(os.listdir(root_path))\n",
    "csv_file_path = \"//zkh/appdata/RTDicom/Projectline_modelling_lung_cancer/Users/Luis/CSVs/BP4DCTs_Lists_v3.csv\"\n",
    "\n",
    "fieldnames=['ID', '0%', '10%', '20%', '30%', '40%', '50%', '60%', '70%', '80%', '90%', '100%']\n"
   ]
  },
  {
   "cell_type": "code",
   "execution_count": 6,
   "id": "c6290c03",
   "metadata": {},
   "outputs": [],
   "source": [
    "#LOOK for patients already been analized\n",
    "if os.path.exists(csv_file_path):\n",
    "    df = pd.read_csv(csv_file_path)\n",
    "    checked_list = df['ID'].tolist()\n",
    "    print(len(checked_list),\"Px already checked,out of\",len(PxList))\n",
    "else:\n",
    "    checked_list = []"
   ]
  },
  {
   "cell_type": "code",
   "execution_count": 7,
   "id": "3b183e08",
   "metadata": {},
   "outputs": [],
   "source": [
    "def CheckIfdIsBP(d,BPCollected_count,BP2Check_count,BP00,BP10,BP20,BP30,BP40,BP50,BP60,BP70,BP80,BP90,BP100):\n",
    "    if not('ave' in d.lower()) and not('mip' in d.lower()):\n",
    "        if (\"S3 0%\" in d or \" 0% iMAR\" in d or \"Y 0%\" in d or \"T=0%\" in d or re.search(r'100% (ex|Ex|EX)',d) or re.search(r'100%(ex|Ex|EX)',d)): \n",
    "            BP00.append(root+'/'+d+'/')\n",
    "            BPCollected_count+=1\n",
    "            BP2Check_count+=1\n",
    "        if (\"S3 10%\" in d or \"10% iMAR\" in d or \"Y 10%\" in d or \"T=10%\" in d or re.search(r'[789]\\d% (ex|Ex|EX)',d) or re.search(r'[789]\\d%(ex|Ex|EX)',d)):\n",
    "            BP10.append(root+'/'+d+'/')\n",
    "            BPCollected_count+=1\n",
    "            BP2Check_count+=1\n",
    "        if (\"S3 20%\" in d or \"20% iMAR\" in d or \"Y 20%\" in d or \"T=20%\" in d or re.search(r'[456]\\d% (ex|Ex|EX)',d) or re.search(r'[456]\\d%(ex|Ex|EX)',d)): \n",
    "            BP20.append(root+'/'+d+'/')\n",
    "            BPCollected_count+=1\n",
    "        if (\"S3 30%\" in d or \"30% iMAR\" in d or \"Y 30%\" in d or \"T=30%\" in d): \n",
    "            BP30.append(root+'/'+d+'/')\n",
    "            BPCollected_count+=1\n",
    "        if (\"S3 40%\" in d or \"40% iMAR\" in d or \"Y 40%\" in d or \"T=40%\" in d or re.search(r'[123]\\d% (ex|Ex|EX)',d) or re.search(r'[123]\\d%(ex|Ex|EX)',d)): \n",
    "            BP40.append(root+'/'+d+'/')\n",
    "            BPCollected_count+=1\n",
    "        if (\"S3 50%\" in d or \"50% iMAR\" in d or \"Y 50%\" in d or \"T=50%\" in d or re.search(r' \\d% (ex|Ex|EX)',d) or re.search(r' \\d%(ex|Ex|EX)',d)): \n",
    "            BP50.append(root+'/'+d+'/')\n",
    "            BPCollected_count+=1\n",
    "            BP2Check_count+=1\n",
    "        if (\"S3 60%\" in d or \"60% iMAR\" in d or \"Y 60%\" in d or \"T=60%\" in d or re.search(r' \\d% (in|In|IN)',d) or re.search(r' \\d%(in|In|IN)',d)): \n",
    "            BP60.append(root+'/'+d+'/')\n",
    "            BPCollected_count+=1\n",
    "            BP2Check_count+=1\n",
    "        if (\"S3 70%\" in d or \"70% iMAR\" in d or \"Y 70%\" in d or \"T=70%\" in d or re.search(r'[123]\\d% (in|In|IN)',d) or re.search(r'[123]\\d%(in|In|IN)',d)): \n",
    "            BP70.append(root+'/'+d+'/')\n",
    "            BPCollected_count+=1\n",
    "        if (\"S3 80%\" in d or \"90% iMAR\" in d or \"Y 80%\" in d or \"T=80%\" in d or re.search(r'[456]\\d% (in|In|IN)',d) or re.search(r'[456]\\d%(in|In|IN)',d)): \n",
    "            BP80.append(root+'/'+d+'/')\n",
    "            BPCollected_count+=1\n",
    "        if (\"S3 90%\" in d or \"90% iMAR\" in d or \"Y 90%\" in d or \"T=90%\" in d or re.search(r'[789]\\d% (in|In|IN)',d) or re.search(r'[789]\\d%(in|In|IN)',d)): \n",
    "            BP90.append(root+'/'+d+'/')\n",
    "            BPCollected_count+=1\n",
    "            BP2Check_count+=1\n",
    "        if (\"S3 100%\" in d or \"100% iMAR\" in d or \"Y 100%\" in d or \"T=100%\" in d or re.search(r'100% (in|In|IN)',d) or re.search(r'100%(in|In|IN)',d)): \n",
    "            BP100.append(root+'/'+d+'/')\n",
    "            BPCollected_count+=1\n",
    "            BP2Check_count+=1\n",
    "    return BPCollected_count,BP2Check_count,BP00,BP10,BP20,BP30,BP40,BP50,BP60,BP70,BP80,BP90,BP100"
   ]
  },
  {
   "cell_type": "code",
   "execution_count": 8,
   "id": "c0f12293",
   "metadata": {
    "scrolled": false
   },
   "outputs": [
    {
     "name": "stdout",
     "output_type": "stream",
     "text": [
      "resplow:  RespLow  3.0  B30s to RespLow3.0B30s_17rpm,45%In,500ms\n",
      "resplow:  RespLow  3.0  B30s to RespLow3.0B30s_21rpm,97%In,500ms\n",
      "resplow:  tmp  RespLow  RTD to tmpRespLowRTD_\n",
      "resplow:  RespLow  3.0  B30s to RespLow3.0B30s_15rpm,95%In,500ms\n",
      "resplow:  RespLow  3.0  B30s to RespLow3.0B30s_In.92%\n",
      "5rpm,92%In,500ms\n",
      "resplow:  RespLow  3.0  B30s to RespLow3.0B30s_17rpm,40%In,500ms\n",
      "resplow:  RespLow  3.0  B30s to RespLow3.0B30s_18rpm,35%In,500ms\n",
      "resplow:  RespLow  3.0  B30s to RespLow3.0B30s_10rpm,5%Ex,500ms\n",
      "resplow:  RespLow  3.0  B30s to RespLow3.0B30s_12rpm,100%In,500ms\n",
      "resplow:  RespLow  3.0  B30s to RespLow3.0B30s_4rpm,45%In,500ms\n",
      "resplow:  RespLow  3.0  B30s to RespLow3.0B30s_30rpm,85%In,500ms\n",
      "resplow:  RespLow  3.0 4D  B30s to RespLow3.04DB30s_22rpm,12%Ex,500ms\n",
      "Complete 1124 Unsusable 128 Incomplete 0\n"
     ]
    }
   ],
   "source": [
    "with open(csv_file_path, 'w', newline='') as csvfile:\n",
    "    \n",
    "    writer = csv.DictWriter(csvfile, fieldnames=fieldnames)\n",
    "    if csvfile.tell() == 0:\n",
    "        writer.writeheader()\n",
    "    lessthan2BPpx=[]\n",
    "    incompletePx = [] #No resplow\n",
    "    completePx = []\n",
    "\n",
    "    for Px in PxList:\n",
    "        BP00,BP10,BP20,BP30,BP40,BP50,BP60,BP70,BP80,BP90,BP100 = ([],[],[],[],[],[],[],[],[],[],[])\n",
    "\n",
    "        BPCollected_count=0\n",
    "        BP2Check_count=0\n",
    "        Tag = None\n",
    "\n",
    "        for root, dirs, files in os.walk(root_path+Px, topdown=True):\n",
    "            for d in dirs:\n",
    "                BPCollected_count,BP2Check_count,BP00,BP10,BP20,BP30,BP40,BP50,BP60,BP70,BP80,BP90,BP100 = CheckIfdIsBP(d,BPCollected_count,BP2Check_count,BP00,BP10,BP20,BP30,BP40,BP50,BP60,BP70,BP80,BP90,BP100)\n",
    "            if BPCollected_count ==0:\n",
    "                for d in dirs:\n",
    "                    if 'resplow' in d.lower():\n",
    "                        files = os.listdir(root+'/'+d+'/')\n",
    "                        slices = pdcm.read_file(os.path.join(root,d,files[0]))\n",
    "                        newd = (d+'_'+slices.ImageComments).replace(' ','')\n",
    "                        print('resplow: ',d,'to',newd)\n",
    "                        BPCollected_count,BP2Check_count,BP00,BP10,BP20,BP30,BP40,BP50,BP60,BP70,BP80,BP90,BP100 = CheckIfdIsBP(newd,BPCollected_count,BP2Check_count,BP00,BP10,BP20,BP30,BP40,BP50,BP60,BP70,BP80,BP90,BP100)\n",
    "        if BP2Check_count>=2:\n",
    "            completePx.append(Px)\n",
    "            Tag = \"Complete\"\n",
    "        else:\n",
    "            lessthan2BPpx.append(Px)\n",
    "            Tag = \"Unusuable\"\n",
    "\n",
    "        if BPCollected_count<8:\n",
    "            if 'RespLow' in dirs:\n",
    "                incompletePx.append(Px)\n",
    "                Tag = \"Incomplete\"\n",
    "\n",
    "\n",
    "        #print(\"Px\", Px,Tag, len(BP00), len(BP10), len(BP20), len(BP30), len(BP40), len(BP50), len(BP60), len(BP70),len(BP80), len(BP90), len(BP100))\n",
    "\n",
    "        max_length = max(len(BP00), len(BP10), len(BP20), len(BP30), len(BP40), len(BP50), len(BP60), len(BP70),len(BP80), len(BP90), len(BP100))\n",
    "\n",
    "        BP_lists = [BP00, BP10, BP20, BP30, BP40, BP50, BP60, BP70, BP80, BP90, BP100]\n",
    "        for i in range(len(BP_lists)):\n",
    "            BP_lists[i] += [0] * (max_length - len(BP_lists[i]))\n",
    "\n",
    "        writer.writerow({'ID': Px, '0%': BP00, '10%': BP10, '20%': BP20, '30%': BP30, '40%': BP40, '50%': BP50,'60%': BP60, '70%': BP70, '80%': BP80, '90%': BP90, '100%': BP100})\n",
    "print(\"Complete\",len(completePx),\"Unsusable\",len(lessthan2BPpx),\"Incomplete\",len(incompletePx))\n",
    "            \n",
    "            "
   ]
  },
  {
   "cell_type": "code",
   "execution_count": 9,
   "id": "c5f8579b",
   "metadata": {},
   "outputs": [
    {
     "ename": "FileNotFoundError",
     "evalue": "[WinError 3] The system cannot find the path specified: '//zkh/appdata/RTDicom/Projectline_modelling_lung_cancer/DICOM_data/DATA_VOLLEDIG_unstructured/9970729\\\\X5 THORAX\\\\T=60%,PR=57% - 67%,AR()=74 - 95/T=60%,PR=57% - 67%,AR()=74 - 95/'",
     "output_type": "error",
     "traceback": [
      "\u001b[1;31m---------------------------------------------------------------------------\u001b[0m",
      "\u001b[1;31mFileNotFoundError\u001b[0m                         Traceback (most recent call last)",
      "Cell \u001b[1;32mIn[9], line 2\u001b[0m\n\u001b[0;32m      1\u001b[0m \u001b[38;5;66;03m#Complete 1113 Unsusable 1998 Incomplete 0\u001b[39;00m\n\u001b[1;32m----> 2\u001b[0m files \u001b[38;5;241m=\u001b[39m \u001b[43mos\u001b[49m\u001b[38;5;241;43m.\u001b[39;49m\u001b[43mlistdir\u001b[49m\u001b[43m(\u001b[49m\u001b[43mroot\u001b[49m\u001b[38;5;241;43m+\u001b[39;49m\u001b[38;5;124;43m'\u001b[39;49m\u001b[38;5;124;43m/\u001b[39;49m\u001b[38;5;124;43m'\u001b[39;49m\u001b[38;5;241;43m+\u001b[39;49m\u001b[43md\u001b[49m\u001b[38;5;241;43m+\u001b[39;49m\u001b[38;5;124;43m'\u001b[39;49m\u001b[38;5;124;43m/\u001b[39;49m\u001b[38;5;124;43m'\u001b[39;49m\u001b[43m)\u001b[49m\n\u001b[0;32m      3\u001b[0m slices \u001b[38;5;241m=\u001b[39m pdcm\u001b[38;5;241m.\u001b[39mread_file(os\u001b[38;5;241m.\u001b[39mpath\u001b[38;5;241m.\u001b[39mjoin(root,d,files[\u001b[38;5;241m0\u001b[39m]))\n\u001b[0;32m      4\u001b[0m newd \u001b[38;5;241m=\u001b[39m (d\u001b[38;5;241m+\u001b[39mslices\u001b[38;5;241m.\u001b[39mImageComments)\u001b[38;5;241m.\u001b[39mreplace(\u001b[38;5;124m'\u001b[39m\u001b[38;5;124m \u001b[39m\u001b[38;5;124m'\u001b[39m,\u001b[38;5;124m'\u001b[39m\u001b[38;5;124m'\u001b[39m)\n",
      "\u001b[1;31mFileNotFoundError\u001b[0m: [WinError 3] The system cannot find the path specified: '//zkh/appdata/RTDicom/Projectline_modelling_lung_cancer/DICOM_data/DATA_VOLLEDIG_unstructured/9970729\\\\X5 THORAX\\\\T=60%,PR=57% - 67%,AR()=74 - 95/T=60%,PR=57% - 67%,AR()=74 - 95/'"
     ]
    }
   ],
   "source": [
    "#Complete 1113 Unsusable 1998 Incomplete 0\n",
    "#Complete 1124 Unsusable 128 Incomplete 0\n",
    "\n"
   ]
  },
  {
   "cell_type": "code",
   "execution_count": null,
   "id": "5c5dd125",
   "metadata": {},
   "outputs": [],
   "source": [
    "\n"
   ]
  },
  {
   "cell_type": "code",
   "execution_count": null,
   "id": "cbadaa0e",
   "metadata": {
    "scrolled": true
   },
   "outputs": [],
   "source": []
  },
  {
   "cell_type": "code",
   "execution_count": null,
   "id": "9f52db82",
   "metadata": {
    "scrolled": true
   },
   "outputs": [],
   "source": []
  },
  {
   "cell_type": "code",
   "execution_count": null,
   "id": "7b8f325f",
   "metadata": {},
   "outputs": [],
   "source": []
  },
  {
   "cell_type": "code",
   "execution_count": null,
   "id": "d58b5ee3",
   "metadata": {},
   "outputs": [],
   "source": []
  },
  {
   "cell_type": "code",
   "execution_count": null,
   "id": "d5bd73c7",
   "metadata": {},
   "outputs": [],
   "source": []
  }
 ],
 "metadata": {
  "kernelspec": {
   "display_name": "Python 3 (ipykernel)",
   "language": "python",
   "name": "python3"
  },
  "language_info": {
   "codemirror_mode": {
    "name": "ipython",
    "version": 3
   },
   "file_extension": ".py",
   "mimetype": "text/x-python",
   "name": "python",
   "nbconvert_exporter": "python",
   "pygments_lexer": "ipython3",
   "version": "3.10.12"
  }
 },
 "nbformat": 4,
 "nbformat_minor": 5
}
