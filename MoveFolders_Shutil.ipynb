{
 "cells": [
  {
   "cell_type": "code",
   "execution_count": 1,
   "id": "2605d06c-f542-40e1-b392-393b2508202c",
   "metadata": {},
   "outputs": [],
   "source": [
    "import pandas as pd\n",
    "import shutil\n",
    "import os\n",
    "from tqdm import tqdm "
   ]
  },
  {
   "cell_type": "code",
   "execution_count": 2,
   "id": "e3683299-e35c-42ab-80bd-d0618896022d",
   "metadata": {},
   "outputs": [],
   "source": [
    "NiiProcessed2_path  = \"//zkh/appdata/RTDicom/Projectline_modelling_lung_cancer/Users/Luis/CT_ITV_GTV_XBP_Nii_Processed_v2/\"\n",
    "Test2_path  = \"//zkh/appdata/RTDicom/Projectline_modelling_lung_cancer/Users/Luis/CT_ITV_GTV_XBP_NII_Processed_Select/Test_pt2/\"\n",
    "Px2Move = \"//zkh/appdata/RTDicom/Projectline_modelling_lung_cancer/Users/Luis/ListsOfPatients/LisOfPxMissingInTest.csv\""
   ]
  },
  {
   "cell_type": "code",
   "execution_count": 3,
   "id": "aeebb062-6068-43e0-8989-0ad707827ef2",
   "metadata": {},
   "outputs": [
    {
     "name": "stdout",
     "output_type": "stream",
     "text": [
      "61\n"
     ]
    }
   ],
   "source": [
    "df = pd.read_csv(Px2Move)\n",
    "ids = df['Px'].tolist()\n",
    "print(len(ids))"
   ]
  },
  {
   "cell_type": "code",
   "execution_count": 10,
   "id": "a2accb3c-e806-45b1-a00e-d036d5bf9d90",
   "metadata": {},
   "outputs": [
    {
     "name": "stderr",
     "output_type": "stream",
     "text": [
      "100%|██████████| 61/61 [12:39<00:00, 12.45s/it]\n"
     ]
    }
   ],
   "source": [
    "for currPx in tqdm(ids):\n",
    "    currPx = str(currPx)\n",
    "    source_folder = os.path.join(NiiProcessed2_path,currPx)\n",
    "    destination_folder = os.path.join(Test2_path,currPx)\n",
    "    if not(os.path.exists(destination_folder)):\n",
    "           os.mkdir(destination_folder)\n",
    "    for file in os.listdir(source_folder):\n",
    "        if 'lung' not in file.lower():\n",
    "            shutil.copy(os.path.join(source_folder, file),os.path.join(destination_folder, file))"
   ]
  },
  {
   "cell_type": "code",
   "execution_count": null,
   "id": "2e2fcbc6-5f44-4d1a-8ba6-55fbb4c97dda",
   "metadata": {},
   "outputs": [],
   "source": []
  }
 ],
 "metadata": {
  "kernelspec": {
   "display_name": "Python 3 (ipykernel)",
   "language": "python",
   "name": "python3"
  },
  "language_info": {
   "codemirror_mode": {
    "name": "ipython",
    "version": 3
   },
   "file_extension": ".py",
   "mimetype": "text/x-python",
   "name": "python",
   "nbconvert_exporter": "python",
   "pygments_lexer": "ipython3",
   "version": "3.9.19"
  }
 },
 "nbformat": 4,
 "nbformat_minor": 5
}
