{
 "cells": [
  {
   "cell_type": "code",
   "execution_count": 1,
   "id": "1b96bfb0",
   "metadata": {},
   "outputs": [],
   "source": [
    "from rt_utils import RTStructBuilder\n",
    "import matplotlib.pyplot as plt\n",
    "import numpy as np\n",
    "import pydicom\n",
    "import os"
   ]
  },
  {
   "cell_type": "code",
   "execution_count": 2,
   "id": "ee20ad48",
   "metadata": {},
   "outputs": [],
   "source": [
    "root_path  = \"//zkh/appdata/RTDicom/Projectline - Modelling lung cancer outcomes [panama code]/DICOM_data/DATA_VOLLEDIG_unstructured/\"\n",
    "PxList = np.sort(os.listdir(root_path))"
   ]
  },
  {
   "cell_type": "code",
   "execution_count": 21,
   "id": "b0a28209",
   "metadata": {},
   "outputs": [],
   "source": [
    "def FindCT_UID(path):\n",
    "    files = os.listdir(path)\n",
    "    ct_dicom_dataset = pydicom.dcmread(os.path.join(path,files[0]))\n",
    "    series_instance_uid = ct_dicom_dataset[(0x0020, 0x0052)].value\n",
    "    return series_instance_uid"
   ]
  },
  {
   "cell_type": "code",
   "execution_count": 22,
   "id": "25e82461",
   "metadata": {
    "scrolled": true
   },
   "outputs": [],
   "source": [
    "def FindRT_UID_perContour(path,roi_name_to_find):\n",
    "    files = os.listdir(path)\n",
    "    rtstruct_dataset = pydicom.dcmread(path+files[0])\n",
    "    if rtstruct_dataset.Modality == \"RTSTRUCT\":\n",
    "        roi_sequence = rtstruct_dataset.StructureSetROISequence\n",
    "        for roi_item in roi_sequence:\n",
    "            roi_number = roi_item.ROINumber\n",
    "            roi_name = roi_item.ROIName\n",
    "            if roi_name == roi_name_to_find:\n",
    "                # Print information for the found ROI\n",
    "                #print(f\"ROI Name: {roi_name}\")\n",
    "                #print(f\"ROI Number: {roi_number}\")\n",
    "                referenced_frame_of_reference_uid = roi_item.ReferencedFrameOfReferenceUID\n",
    "                #print(f\"Referenced Frame of Reference UID: {referenced_frame_of_reference_uid}\")\n",
    "                return referenced_frame_of_reference_uid\n",
    "\n",
    "        else:\n",
    "            return None\n"
   ]
  },
  {
   "cell_type": "code",
   "execution_count": 23,
   "id": "a6a9b66b",
   "metadata": {},
   "outputs": [],
   "source": [
    "def GetTheContour(ctfolder,rtfolder,label):\n",
    "    rtfiles = os.listdir(rtfolder)\n",
    "    rtstruct = RTStructBuilder.create_from(\n",
    "        dicom_series_path=ctfolder,\n",
    "        rt_struct_path=rtfolder+rtfiles[0]\n",
    "    )\n",
    "    mask_3d = rtstruct.get_roi_mask_by_name(label)"
   ]
  },
  {
   "cell_type": "code",
   "execution_count": 27,
   "id": "88ceaed5",
   "metadata": {},
   "outputs": [],
   "source": [
    "def FindUIDMatch(RtPaths,CTPaths,labels):\n",
    "    numcontours=0\n",
    "    for currRTpath in RTStruct_fpaths:\n",
    "        for currCTpath in CTPaths:\n",
    "            for label in labels:\n",
    "                ctUID = FindCT_UID(currCTpath)\n",
    "                rtUID = FindRT_UID_perContour(currRTpath,label)\n",
    "                if rtUID == ctUID and ctUID is not None and rtUID is not None:\n",
    "                    numcontours+=1\n",
    "                    #print(\"Match\",currCTpath)\n",
    "    return numcontours"
   ]
  },
  {
   "cell_type": "code",
   "execution_count": 30,
   "id": "c0f12293",
   "metadata": {
    "scrolled": false
   },
   "outputs": [
    {
     "name": "stdout",
     "output_type": "stream",
     "text": [
      "Px: 0004879 ITVs Matched: 0 GTV 50%: 0 GTV 60%: 0\n",
      "Px: 0010539 ITVs Matched: 1 GTV 50%: 0 GTV 60%: 1\n"
     ]
    }
   ],
   "source": [
    "for Px in PxList:\n",
    "    AvgCt_fpaths = []\n",
    "    RTStruct_fpaths = []\n",
    "    BP50_CT_fpaths,BP60_CT_fpaths= ([],[])\n",
    "    BP10_CT_fpaths,BP90_CT_fpaths= ([],[])\n",
    "    num50GTVs,numITVs,num60GTVs = (0,0,0)\n",
    "    #Look for the Paths\n",
    "    for root, dirs, files in os.walk(root_path+Px, topdown=True):\n",
    "        for d in dirs:\n",
    "            if \"Thorax\" in d or \"Ave\" in d:\n",
    "                AvgCt_fpaths.append(root+'/'+d+'/')\n",
    "            if ('RTSTRUCT' in d or \"pproved\" in d) or (\"PinnPlan\" in d and not(\"RTDOSE\" in d)):\n",
    "                RTStruct_fpaths.append(root+'/'+d+'/')\n",
    "            if \"50%\" in d and not \"MIP\" in d and not \"Ave\" in d and not \"Thorax\" in d: BP50_CT_fpaths.append(root+'/'+d+'/')\n",
    "            if \"60%\" in d and not \"MIP\" in d and not \"Ave\" in d and not \"Thorax\" in d: BP60_CT_fpaths.append(root+'/'+d+'/')\n",
    "            if \"10%\" in d and not \"MIP\" in d and not \"Ave\" in d and not \"Thorax\" in d: BP10_CT_fpaths.append(root+'/'+d+'/')\n",
    "            if \"90%\" in d and not \"MIP\" in d and not \"Ave\" in d and not \"Thorax\" in d: BP90_CT_fpaths.append(root+'/'+d+'/')\n",
    "    \n",
    "    #GET the UIDs\n",
    "    GTVlabels = ['GTV']\n",
    "    ITVlabels = ['ITV']\n",
    "    numITVs = FindUIDMatch(RTStruct_fpaths,AvgCt_fpaths,ITVlabels)\n",
    "    num50GTVs = FindUIDMatch(RTStruct_fpaths,BP50_CT_fpaths,GTVlabels)\n",
    "    num60GTVs = FindUIDMatch(RTStruct_fpaths,BP60_CT_fpaths,GTVlabels)\n",
    "    print(\"Px:\",Px,\"ITVs Matched:\",numITVs,\"GTV 50%:\",num50GTVs,\"GTV 60%:\",num60GTVs)\n",
    "    if num50GTVs != 0 or num60GTVs != 0:\n",
    "        break"
   ]
  },
  {
   "cell_type": "code",
   "execution_count": null,
   "id": "ede8ea98",
   "metadata": {},
   "outputs": [],
   "source": []
  },
  {
   "cell_type": "markdown",
   "id": "949dedac",
   "metadata": {},
   "source": []
  },
  {
   "cell_type": "code",
   "execution_count": null,
   "id": "cbadaa0e",
   "metadata": {
    "scrolled": true
   },
   "outputs": [],
   "source": []
  },
  {
   "cell_type": "code",
   "execution_count": null,
   "id": "9f52db82",
   "metadata": {
    "scrolled": true
   },
   "outputs": [],
   "source": []
  },
  {
   "cell_type": "code",
   "execution_count": null,
   "id": "7b8f325f",
   "metadata": {},
   "outputs": [],
   "source": []
  },
  {
   "cell_type": "code",
   "execution_count": null,
   "id": "e0a562ba",
   "metadata": {},
   "outputs": [],
   "source": []
  },
  {
   "cell_type": "code",
   "execution_count": null,
   "id": "451c6afa",
   "metadata": {},
   "outputs": [],
   "source": []
  }
 ],
 "metadata": {
  "kernelspec": {
   "display_name": "Python 3 (ipykernel)",
   "language": "python",
   "name": "python3"
  },
  "language_info": {
   "codemirror_mode": {
    "name": "ipython",
    "version": 3
   },
   "file_extension": ".py",
   "mimetype": "text/x-python",
   "name": "python",
   "nbconvert_exporter": "python",
   "pygments_lexer": "ipython3",
   "version": "3.10.12"
  }
 },
 "nbformat": 4,
 "nbformat_minor": 5
}
