{
 "cells": [
  {
   "cell_type": "code",
   "execution_count": 1,
   "id": "187dfea8",
   "metadata": {},
   "outputs": [],
   "source": [
    "#V2 will check if the path is empty in the csv. \n",
    "#If empty and available fill it,not empty not rewrite it"
   ]
  },
  {
   "cell_type": "code",
   "execution_count": 2,
   "id": "1b96bfb0",
   "metadata": {},
   "outputs": [],
   "source": [
    "from rt_utils import RTStructBuilder\n",
    "import matplotlib.pyplot as plt\n",
    "import numpy as np\n",
    "import pydicom\n",
    "import os\n",
    "import csv\n",
    "import pandas as pd"
   ]
  },
  {
   "cell_type": "code",
   "execution_count": 3,
   "id": "5418806d",
   "metadata": {},
   "outputs": [],
   "source": [
    "def GetTheContourRTUTILS(ctfolder,rtfolder,tot_labels,tumor_labels,ln_labels):\n",
    "    ct_Match = []\n",
    "    tot_Match, tumor_Match, ln_Match = ([],[],[])\n",
    "    if len(ctfolder)==0:\n",
    "        print(\"No CT\")\n",
    "    for k in range(len(ctfolder)):\n",
    "        for j in range(len(rtfolder)):\n",
    "            rtfiles = os.listdir(rtfolder[j])\n",
    "            for i in range(len(rtfiles)):\n",
    "                try:\n",
    "                    rtstruct = RTStructBuilder.create_from(dicom_series_path=ctfolder[k],rt_struct_path=str(rtfolder[j]+rtfiles[i]))\n",
    "                    for label in tot_labels:\n",
    "                        if label in rtstruct.get_roi_names():\n",
    "                            tot_Match.append(str(rtfolder[j]+rtfiles[i]))\n",
    "                    for label in tumor_labels:\n",
    "                        if label in rtstruct.get_roi_names():\n",
    "                            tumor_Match.append(str(rtfolder[j]+rtfiles[i]))\n",
    "                    for label in ln_labels:\n",
    "                        if label in rtstruct.get_roi_names():\n",
    "                            ln_Match.append(str(rtfolder[j]+rtfiles[i]))\n",
    "                    \n",
    "                    if len(tot_Match)+len(tumor_Match)+len(ln_Match) == 0:\n",
    "                        print(\"No labels Matched: \",rtstruct.get_roi_names())\n",
    "                    else:\n",
    "                        ct_Match.append(ctfolder[k])\n",
    "                        if len(tot_Match) == 0: tot_Match.append(0)\n",
    "                        if len(tumor_Match) == 0: tumor_Match.append(0)\n",
    "                        if len(ln_Match) == 0: ln_Match.append(0)\n",
    "                            \n",
    "                except Exception as e: pass\n",
    "\n",
    "        #mask_3d = rtstruct.get_roi_mask_by_name(label)\n",
    "    return ct_Match,tot_Match,tumor_Match,ln_Match"
   ]
  },
  {
   "cell_type": "code",
   "execution_count": 4,
   "id": "ee20ad48",
   "metadata": {},
   "outputs": [],
   "source": [
    "#GET PATHS AND LABELS\n",
    "#root_path  = \"//zkh/appdata/RTDicom/Projectline - Modelling lung cancer outcomes [panama code]/DICOM_data/DATA_VOLLEDIG_unstructured/\"\n",
    "root_path  = \"//zkh/appdata/RTDicom/DAMEproject/LungSABR_data/Dicom data renamed/\"\n",
    "PxList = np.sort(os.listdir(root_path))\n",
    "#csv_file_path = \"//zkh/appdata/RTDicom/Projectline - Modelling lung cancer outcomes [panama code]/Users/Luis/CSVs/CTandRTMatch.csv\"\n",
    "csv_file_path = \"//zkh/appdata/RTDicom/DAMEproject/LungSABR_data/CSV - Copy/LUIS_CSV/CTandRTMatch.csv\"\n",
    "#ITV LABELS\n",
    "tot_labels = ['ITV',\"IGTV\",\"IgTV\",\"ITV1\",\"ITV2\",\"ITV3\",\"ITV totaal def\",\"2ITV\",\"ITV_TOT\",\"ITV_6000\",\"ITV_5100\",\"ITV_Totaal\",\"ITV_LBK\",\"ITV_LOK\"]\n",
    "tumor_labels = ['ITVtumor',\"ITV_tumor\",\"ITVtumor def\",\"2ITV_tumor\",\"ITV-P\",\"ITVtumorA1\",\"ITV_tumor_LBK\"]\n",
    "ln_labels = ['ITVklieren',\"ITV_klier\",\"ITV_Klier\",\"ITVklieren def\",\"2ITV_klier\",\"ITV_n\",\"ITV_klier_LBK\"]\n",
    "fieldnames = ['ID', 'CT', 'Tot','Tumor',\"LymphNodes\"]\n",
    "#GTV LABELS\n",
    "gtv_tot_labels = ['GTV',\"GTV1\",\"GTV2\",\"GTV3\",\"GTV totaal def\",\"2GTV\",\"GTV_TOT\",\"GTV_6000\",\"GTV_5100\",\"GTV_Totaal\",\"GTV_LBK\",\"GTV_LOK\"]\n",
    "gtv_tumor_labels = ['GTVtumor',\"GTV_tumor\",\"GTVtumor def\",\"2GTV_tumor\",\"GTV-P\",\"GTVtumorA1\",\"GTV_tumor_LBK\"]\n",
    "gtv_ln_labels = ['GTVklieren',\"GTV_klier\",\"GTV_Klier\",\"GTVklieren def\",\"2GTV_klier\",\"GTV_n\",\"GTV_klier_LBK\"]\n",
    "fieldnames = ['ID', 'CT', 'Tot','Tumor',\"LymphNodes\"]\n",
    "\n",
    "\n"
   ]
  },
  {
   "cell_type": "code",
   "execution_count": 5,
   "id": "c6290c03",
   "metadata": {},
   "outputs": [
    {
     "name": "stdout",
     "output_type": "stream",
     "text": [
      "32 Px already checked,out of 350\n"
     ]
    }
   ],
   "source": [
    "#LOOK for patients already been analized\n",
    "if os.path.exists(csv_file_path):\n",
    "    df = pd.read_csv(csv_file_path)\n",
    "    checked_list = df['ID'].tolist()\n",
    "    print(len(checked_list),\"Px already checked,out of\",len(PxList))\n",
    "    "
   ]
  },
  {
   "cell_type": "code",
   "execution_count": 6,
   "id": "c0f12293",
   "metadata": {
    "scrolled": false
   },
   "outputs": [
    {
     "name": "stdout",
     "output_type": "stream",
     "text": [
      "Px already checked\n",
      "Px already checked\n",
      "Px already checked\n",
      "Px already checked\n",
      "Px already checked\n",
      "Px already checked\n",
      "Px already checked\n",
      "Px already checked\n",
      "Px already checked\n",
      "Px already checked\n",
      "Px already checked\n",
      "Px already checked\n",
      "Px already checked\n",
      "Px already checked\n",
      "Px already checked\n",
      "Px already checked\n",
      "Px already checked\n",
      "Px already checked\n",
      "Px already checked\n",
      "Px already checked\n",
      "Px already checked\n",
      "Px already checked\n",
      "Px already checked\n",
      "Px already checked\n",
      "Px already checked\n",
      "Px already checked\n",
      "Px already checked\n",
      "Px already checked\n",
      "Px already checked\n",
      "Px already checked\n",
      "Px already checked\n",
      "Px already checked\n",
      "Px 0634082 Num CTs 11 Num RTs 3\n",
      "Yes Match\n",
      "Px 0681787 Num CTs 11 Num RTs 2\n"
     ]
    },
    {
     "ename": "KeyboardInterrupt",
     "evalue": "",
     "output_type": "error",
     "traceback": [
      "\u001b[1;31m---------------------------------------------------------------------------\u001b[0m",
      "\u001b[1;31mKeyboardInterrupt\u001b[0m                         Traceback (most recent call last)",
      "Cell \u001b[1;32mIn[6], line 25\u001b[0m\n\u001b[0;32m     20\u001b[0m             RTStruct_fpaths\u001b[38;5;241m.\u001b[39mappend(root\u001b[38;5;241m+\u001b[39m\u001b[38;5;124m'\u001b[39m\u001b[38;5;124m/\u001b[39m\u001b[38;5;124m'\u001b[39m\u001b[38;5;241m+\u001b[39md\u001b[38;5;241m+\u001b[39m\u001b[38;5;124m'\u001b[39m\u001b[38;5;124m/\u001b[39m\u001b[38;5;124m'\u001b[39m)\n\u001b[0;32m     23\u001b[0m \u001b[38;5;28mprint\u001b[39m(\u001b[38;5;124m\"\u001b[39m\u001b[38;5;124mPx\u001b[39m\u001b[38;5;124m\"\u001b[39m,Px,\u001b[38;5;124m\"\u001b[39m\u001b[38;5;124mNum CTs\u001b[39m\u001b[38;5;124m\"\u001b[39m,\u001b[38;5;28mlen\u001b[39m(AvgCt_fpaths),\u001b[38;5;124m\"\u001b[39m\u001b[38;5;124mNum RTs\u001b[39m\u001b[38;5;124m\"\u001b[39m,\u001b[38;5;28mlen\u001b[39m(RTStruct_fpaths))\n\u001b[1;32m---> 25\u001b[0m ctMatch,rtMatch_tot,rtMatch_tumor,rtMatch_ln \u001b[38;5;241m=\u001b[39m \u001b[43mGetTheContourRTUTILS\u001b[49m\u001b[43m(\u001b[49m\u001b[43mAvgCt_fpaths\u001b[49m\u001b[43m,\u001b[49m\u001b[43mRTStruct_fpaths\u001b[49m\u001b[43m,\u001b[49m\u001b[43mgtv_tot_labels\u001b[49m\u001b[43m,\u001b[49m\u001b[43mgtv_tumor_labels\u001b[49m\u001b[43m,\u001b[49m\u001b[43mgtv_ln_labels\u001b[49m\u001b[43m)\u001b[49m\n\u001b[0;32m     27\u001b[0m \u001b[38;5;28;01mif\u001b[39;00m ctMatch \u001b[38;5;241m==\u001b[39m\u001b[38;5;28;01mNone\u001b[39;00m:\n\u001b[0;32m     28\u001b[0m     \u001b[38;5;28mprint\u001b[39m(\u001b[38;5;124m\"\u001b[39m\u001b[38;5;124mNo Match\u001b[39m\u001b[38;5;124m\"\u001b[39m)\n",
      "Cell \u001b[1;32mIn[3], line 11\u001b[0m, in \u001b[0;36mGetTheContourRTUTILS\u001b[1;34m(ctfolder, rtfolder, tot_labels, tumor_labels, ln_labels)\u001b[0m\n\u001b[0;32m      9\u001b[0m \u001b[38;5;28;01mfor\u001b[39;00m i \u001b[38;5;129;01min\u001b[39;00m \u001b[38;5;28mrange\u001b[39m(\u001b[38;5;28mlen\u001b[39m(rtfiles)):\n\u001b[0;32m     10\u001b[0m     \u001b[38;5;28;01mtry\u001b[39;00m:\n\u001b[1;32m---> 11\u001b[0m         rtstruct \u001b[38;5;241m=\u001b[39m \u001b[43mRTStructBuilder\u001b[49m\u001b[38;5;241;43m.\u001b[39;49m\u001b[43mcreate_from\u001b[49m\u001b[43m(\u001b[49m\u001b[43mdicom_series_path\u001b[49m\u001b[38;5;241;43m=\u001b[39;49m\u001b[43mctfolder\u001b[49m\u001b[43m[\u001b[49m\u001b[43mk\u001b[49m\u001b[43m]\u001b[49m\u001b[43m,\u001b[49m\u001b[43mrt_struct_path\u001b[49m\u001b[38;5;241;43m=\u001b[39;49m\u001b[38;5;28;43mstr\u001b[39;49m\u001b[43m(\u001b[49m\u001b[43mrtfolder\u001b[49m\u001b[43m[\u001b[49m\u001b[43mj\u001b[49m\u001b[43m]\u001b[49m\u001b[38;5;241;43m+\u001b[39;49m\u001b[43mrtfiles\u001b[49m\u001b[43m[\u001b[49m\u001b[43mi\u001b[49m\u001b[43m]\u001b[49m\u001b[43m)\u001b[49m\u001b[43m)\u001b[49m\n\u001b[0;32m     12\u001b[0m         \u001b[38;5;28;01mfor\u001b[39;00m label \u001b[38;5;129;01min\u001b[39;00m tot_labels:\n\u001b[0;32m     13\u001b[0m             \u001b[38;5;28;01mif\u001b[39;00m label \u001b[38;5;129;01min\u001b[39;00m rtstruct\u001b[38;5;241m.\u001b[39mget_roi_names():\n",
      "File \u001b[1;32m~\\Anaconda3\\envs\\temp1\\lib\\site-packages\\rt_utils\\rtstruct_builder.py:31\u001b[0m, in \u001b[0;36mRTStructBuilder.create_from\u001b[1;34m(dicom_series_path, rt_struct_path, warn_only)\u001b[0m\n\u001b[0;32m     25\u001b[0m \u001b[38;5;129m@staticmethod\u001b[39m\n\u001b[0;32m     26\u001b[0m \u001b[38;5;28;01mdef\u001b[39;00m \u001b[38;5;21mcreate_from\u001b[39m(dicom_series_path: \u001b[38;5;28mstr\u001b[39m, rt_struct_path: \u001b[38;5;28mstr\u001b[39m, warn_only: \u001b[38;5;28mbool\u001b[39m \u001b[38;5;241m=\u001b[39m \u001b[38;5;28;01mFalse\u001b[39;00m) \u001b[38;5;241m-\u001b[39m\u001b[38;5;241m>\u001b[39m RTStruct:\n\u001b[0;32m     27\u001b[0m     \u001b[38;5;124;03m\"\"\"\u001b[39;00m\n\u001b[0;32m     28\u001b[0m \u001b[38;5;124;03m    Method to load an existing rt struct, given related DICOM series and existing rt struct\u001b[39;00m\n\u001b[0;32m     29\u001b[0m \u001b[38;5;124;03m    \"\"\"\u001b[39;00m\n\u001b[1;32m---> 31\u001b[0m     series_data \u001b[38;5;241m=\u001b[39m \u001b[43mimage_helper\u001b[49m\u001b[38;5;241;43m.\u001b[39;49m\u001b[43mload_sorted_image_series\u001b[49m\u001b[43m(\u001b[49m\u001b[43mdicom_series_path\u001b[49m\u001b[43m)\u001b[49m\n\u001b[0;32m     32\u001b[0m     ds \u001b[38;5;241m=\u001b[39m dcmread(rt_struct_path)\n\u001b[0;32m     33\u001b[0m     RTStructBuilder\u001b[38;5;241m.\u001b[39mvalidate_rtstruct(ds)\n",
      "File \u001b[1;32m~\\Anaconda3\\envs\\temp1\\lib\\site-packages\\rt_utils\\image_helper.py:19\u001b[0m, in \u001b[0;36mload_sorted_image_series\u001b[1;34m(dicom_series_path)\u001b[0m\n\u001b[0;32m     14\u001b[0m \u001b[38;5;28;01mdef\u001b[39;00m \u001b[38;5;21mload_sorted_image_series\u001b[39m(dicom_series_path: \u001b[38;5;28mstr\u001b[39m):\n\u001b[0;32m     15\u001b[0m     \u001b[38;5;124;03m\"\"\"\u001b[39;00m\n\u001b[0;32m     16\u001b[0m \u001b[38;5;124;03m    File contains helper methods for loading / formatting DICOM images and contours\u001b[39;00m\n\u001b[0;32m     17\u001b[0m \u001b[38;5;124;03m    \"\"\"\u001b[39;00m\n\u001b[1;32m---> 19\u001b[0m     series_data \u001b[38;5;241m=\u001b[39m \u001b[43mload_dcm_images_from_path\u001b[49m\u001b[43m(\u001b[49m\u001b[43mdicom_series_path\u001b[49m\u001b[43m)\u001b[49m\n\u001b[0;32m     21\u001b[0m     \u001b[38;5;28;01mif\u001b[39;00m \u001b[38;5;28mlen\u001b[39m(series_data) \u001b[38;5;241m==\u001b[39m \u001b[38;5;241m0\u001b[39m:\n\u001b[0;32m     22\u001b[0m         \u001b[38;5;28;01mraise\u001b[39;00m \u001b[38;5;167;01mException\u001b[39;00m(\u001b[38;5;124m\"\u001b[39m\u001b[38;5;124mNo DICOM Images found in input path\u001b[39m\u001b[38;5;124m\"\u001b[39m)\n",
      "File \u001b[1;32m~\\Anaconda3\\envs\\temp1\\lib\\site-packages\\rt_utils\\image_helper.py:35\u001b[0m, in \u001b[0;36mload_dcm_images_from_path\u001b[1;34m(dicom_series_path)\u001b[0m\n\u001b[0;32m     33\u001b[0m \u001b[38;5;28;01mfor\u001b[39;00m file \u001b[38;5;129;01min\u001b[39;00m files:\n\u001b[0;32m     34\u001b[0m     \u001b[38;5;28;01mtry\u001b[39;00m:\n\u001b[1;32m---> 35\u001b[0m         ds \u001b[38;5;241m=\u001b[39m \u001b[43mdcmread\u001b[49m\u001b[43m(\u001b[49m\u001b[43mos\u001b[49m\u001b[38;5;241;43m.\u001b[39;49m\u001b[43mpath\u001b[49m\u001b[38;5;241;43m.\u001b[39;49m\u001b[43mjoin\u001b[49m\u001b[43m(\u001b[49m\u001b[43mroot\u001b[49m\u001b[43m,\u001b[49m\u001b[43m \u001b[49m\u001b[43mfile\u001b[49m\u001b[43m)\u001b[49m\u001b[43m)\u001b[49m\n\u001b[0;32m     36\u001b[0m         \u001b[38;5;28;01mif\u001b[39;00m \u001b[38;5;28mhasattr\u001b[39m(ds, \u001b[38;5;124m\"\u001b[39m\u001b[38;5;124mpixel_array\u001b[39m\u001b[38;5;124m\"\u001b[39m):\n\u001b[0;32m     37\u001b[0m             series_data\u001b[38;5;241m.\u001b[39mappend(ds)\n",
      "File \u001b[1;32m~\\Anaconda3\\envs\\temp1\\lib\\site-packages\\pydicom\\filereader.py:993\u001b[0m, in \u001b[0;36mdcmread\u001b[1;34m(fp, defer_size, stop_before_pixels, force, specific_tags)\u001b[0m\n\u001b[0;32m    991\u001b[0m     caller_owns_file \u001b[38;5;241m=\u001b[39m \u001b[38;5;28;01mFalse\u001b[39;00m\n\u001b[0;32m    992\u001b[0m     logger\u001b[38;5;241m.\u001b[39mdebug(\u001b[38;5;124m\"\u001b[39m\u001b[38;5;124mReading file \u001b[39m\u001b[38;5;124m'\u001b[39m\u001b[38;5;132;01m{0}\u001b[39;00m\u001b[38;5;124m'\u001b[39m\u001b[38;5;124m\"\u001b[39m\u001b[38;5;241m.\u001b[39mformat(fp))\n\u001b[1;32m--> 993\u001b[0m     fp \u001b[38;5;241m=\u001b[39m \u001b[38;5;28;43mopen\u001b[39;49m\u001b[43m(\u001b[49m\u001b[43mfp\u001b[49m\u001b[43m,\u001b[49m\u001b[43m \u001b[49m\u001b[38;5;124;43m'\u001b[39;49m\u001b[38;5;124;43mrb\u001b[39;49m\u001b[38;5;124;43m'\u001b[39;49m\u001b[43m)\u001b[49m\n\u001b[0;32m    994\u001b[0m \u001b[38;5;28;01melif\u001b[39;00m fp \u001b[38;5;129;01mis\u001b[39;00m \u001b[38;5;28;01mNone\u001b[39;00m \u001b[38;5;129;01mor\u001b[39;00m \u001b[38;5;129;01mnot\u001b[39;00m \u001b[38;5;28mhasattr\u001b[39m(fp, \u001b[38;5;124m\"\u001b[39m\u001b[38;5;124mread\u001b[39m\u001b[38;5;124m\"\u001b[39m) \u001b[38;5;129;01mor\u001b[39;00m \u001b[38;5;129;01mnot\u001b[39;00m \u001b[38;5;28mhasattr\u001b[39m(fp, \u001b[38;5;124m\"\u001b[39m\u001b[38;5;124mseek\u001b[39m\u001b[38;5;124m\"\u001b[39m):\n\u001b[0;32m    995\u001b[0m     \u001b[38;5;28;01mraise\u001b[39;00m \u001b[38;5;167;01mTypeError\u001b[39;00m(\u001b[38;5;124m\"\u001b[39m\u001b[38;5;124mdcmread: Expected a file path or a file-like, \u001b[39m\u001b[38;5;124m\"\u001b[39m\n\u001b[0;32m    996\u001b[0m                     \u001b[38;5;124m\"\u001b[39m\u001b[38;5;124mbut got \u001b[39m\u001b[38;5;124m\"\u001b[39m \u001b[38;5;241m+\u001b[39m \u001b[38;5;28mtype\u001b[39m(fp)\u001b[38;5;241m.\u001b[39m\u001b[38;5;18m__name__\u001b[39m)\n",
      "\u001b[1;31mKeyboardInterrupt\u001b[0m: "
     ]
    }
   ],
   "source": [
    "with open(csv_file_path, 'a', newline='') as csvfile:\n",
    "    \n",
    "    writer = csv.DictWriter(csvfile, fieldnames=fieldnames)\n",
    "    if csvfile.tell() == 0:\n",
    "        writer.writeheader()\n",
    "\n",
    "    for Px in PxList:\n",
    "        AvgCt_fpaths = []\n",
    "        RTStruct_fpaths = []\n",
    "        if not os.path.exists(csv_file_path):\n",
    "            checked_list = []\n",
    "        if int(Px) in checked_list:\n",
    "            print(\"Px already checked\")\n",
    "        else:\n",
    "            for root, dirs, files in os.walk(root_path+Px, topdown=True):\n",
    "                for d in dirs:\n",
    "                    if \"%\" in d or \"Thorax\" in d or \"Ave\" in d or \"MIP\" in d or (\"CT\" in d and not \"RTSTRUCT\" in d):\n",
    "                        AvgCt_fpaths.append(root+'/'+d+'/')\n",
    "                    if ('RTSTRUCT' in d or \"pproved\" in d) or (\"PinnPlan\" in d and not(\"RTDOSE\" in d)):\n",
    "                        RTStruct_fpaths.append(root+'/'+d+'/')\n",
    "\n",
    "\n",
    "            print(\"Px\",Px,\"Num CTs\",len(AvgCt_fpaths),\"Num RTs\",len(RTStruct_fpaths))\n",
    "\n",
    "            ctMatch,rtMatch_tot,rtMatch_tumor,rtMatch_ln = GetTheContourRTUTILS(AvgCt_fpaths,RTStruct_fpaths,gtv_tot_labels,gtv_tumor_labels,gtv_ln_labels)\n",
    "\n",
    "            if ctMatch ==None:\n",
    "                print(\"No Match\")\n",
    "            else: \n",
    "                print(\"Yes Match\")\n",
    "                writer.writerow({'ID':Px,'CT':ctMatch,'Tot':rtMatch_tot,'Tumor':rtMatch_tumor,'LymphNodes':rtMatch_ln})\n",
    "\n",
    "\n",
    "\n"
   ]
  },
  {
   "cell_type": "code",
   "execution_count": null,
   "id": "c5f8579b",
   "metadata": {},
   "outputs": [],
   "source": []
  },
  {
   "cell_type": "code",
   "execution_count": null,
   "id": "5c5dd125",
   "metadata": {},
   "outputs": [],
   "source": []
  },
  {
   "cell_type": "code",
   "execution_count": null,
   "id": "cbadaa0e",
   "metadata": {
    "scrolled": true
   },
   "outputs": [],
   "source": []
  },
  {
   "cell_type": "code",
   "execution_count": null,
   "id": "9f52db82",
   "metadata": {
    "scrolled": true
   },
   "outputs": [],
   "source": []
  },
  {
   "cell_type": "code",
   "execution_count": null,
   "id": "7b8f325f",
   "metadata": {},
   "outputs": [],
   "source": []
  },
  {
   "cell_type": "code",
   "execution_count": null,
   "id": "d58b5ee3",
   "metadata": {},
   "outputs": [],
   "source": []
  },
  {
   "cell_type": "code",
   "execution_count": null,
   "id": "d5bd73c7",
   "metadata": {},
   "outputs": [],
   "source": []
  }
 ],
 "metadata": {
  "kernelspec": {
   "display_name": "Python 3 (ipykernel)",
   "language": "python",
   "name": "python3"
  },
  "language_info": {
   "codemirror_mode": {
    "name": "ipython",
    "version": 3
   },
   "file_extension": ".py",
   "mimetype": "text/x-python",
   "name": "python",
   "nbconvert_exporter": "python",
   "pygments_lexer": "ipython3",
   "version": "3.9.16"
  }
 },
 "nbformat": 4,
 "nbformat_minor": 5
}
