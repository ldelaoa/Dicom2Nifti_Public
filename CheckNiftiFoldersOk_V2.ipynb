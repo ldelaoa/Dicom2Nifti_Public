{
 "cells": [
  {
   "cell_type": "code",
   "execution_count": null,
   "id": "5bc34494",
   "metadata": {},
   "outputs": [],
   "source": []
  },
  {
   "cell_type": "code",
   "execution_count": 1,
   "id": "e72a9846",
   "metadata": {},
   "outputs": [],
   "source": [
    "from os.path import join\n",
    "from datetime import time, datetime\n",
    "import os\n",
    "import glob\n",
    "import numpy as np\n",
    "from skimage.draw import polygon\n",
    "import SimpleITK as sitk\n",
    "#import pydicom as dicom\n",
    "#from pydicom.tag import Tag\n",
    "import sys\n",
    "import pandas as pd\n",
    "import shutil"
   ]
  },
  {
   "cell_type": "code",
   "execution_count": 3,
   "id": "bcaeffdc",
   "metadata": {
    "scrolled": false
   },
   "outputs": [
    {
     "name": "stdout",
     "output_type": "stream",
     "text": [
      "Ok px:  14 NOT ok px:  87\n",
      "Tot 101\n",
      "Corrupt RTStruct 83\n",
      "Corrupt CT 4\n",
      "Corrupt AC_CT 11\n",
      "Corrupt PET 10\n"
     ]
    }
   ],
   "source": [
    "#root_path= \"//zkh/appdata/RTDicom/DAMEproject/AdvancedStageTumors/new_DicomData_Nifti/\"\n",
    "root_path= \"//zkh/appdata/RTDicom/DAMEproject/AdvancedStageTumors/TestingIds_Nii/\"\n",
    "PxList = os.listdir(root_path)\n",
    "pxNiiok = []\n",
    "NOTpxNiiok =  []\n",
    "transferFiles = []\n",
    "Ct_Patients = []\n",
    "name_files = []\n",
    "rtCountpx,ctCount,petCount,rtCount,ldctCount=(0,0,0,0,0)\n",
    "for patientID in PxList:\n",
    "    ct_files =[]\n",
    "    rt_files=[]\n",
    "    rtCount = 0\n",
    "    ctBool,petBool,rtBool,ldctBool=(False,False,False,False)\n",
    "    for root, dirs, files in os.walk(root_path+patientID, topdown=True):\n",
    "        for f in files: \n",
    "            if \"ct\" in f.lower() and not \"ac\" in f.lower() and not \"rtstruct\" in f.lower() and not \"ld\" in f.lower() and not \"pet\" in f.lower():\n",
    "                ct_files.append(f)\n",
    "                ctCount+=1\n",
    "                ctBool = True\n",
    "            if \"ac\" in f.lower() or \"ld\" in f.lower():\n",
    "                ldctCount+=1\n",
    "                ldctBool = True\n",
    "            if \"ITVtumor\" in f or \"GTVtumor\" in f or \"igtvp\" in f.lower():\n",
    "                rt_files.append(f)\n",
    "                transferFiles.append(root+'/'+f)\n",
    "                name_files.append(f)\n",
    "                Ct_Patients.append(patientID)\n",
    "                rtCount = 1\n",
    "                rtBool = True\n",
    "            if \"pet\" in f.lower():\n",
    "                petCount+=1\n",
    "                petBool = True\n",
    "        rtCountpx= rtCount + rtCountpx\n",
    "        if ctBool and rtBool and petBool and ldctBool:\n",
    "            pxNiiok.append(patientID)\n",
    "            \n",
    "            #print(patientID,\"  OK - Ct files: \",len(ct_files),\" Rt files: \",len(rt_files))\n",
    "        else:\n",
    "            NOTpxNiiok.append(patientID)\n",
    "            #print(patientID,\" NOT OK - Ct files: \",len(ct_files),\" Rt files: \",len(rt_files))\n",
    "print(\"Ok px: \",len(pxNiiok),\"NOT ok px: \",len(NOTpxNiiok))\n",
    "totpx = len(pxNiiok) + len(NOTpxNiiok)\n",
    "print(\"Tot\",totpx)\n",
    "print(\"Corrupt RTStruct\",totpx-rtCountpx)\n",
    "print(\"Corrupt CT\",totpx-ctCount)\n",
    "print(\"Corrupt AC_CT\",totpx-ldctCount)\n",
    "print(\"Corrupt PET\",totpx-petCount)"
   ]
  },
  {
   "cell_type": "code",
   "execution_count": 18,
   "id": "b5e5bcb3",
   "metadata": {},
   "outputs": [
    {
     "data": {
      "text/plain": [
       "0"
      ]
     },
     "execution_count": 18,
     "metadata": {},
     "output_type": "execute_result"
    }
   ],
   "source": [
    "rtCountpx"
   ]
  },
  {
   "cell_type": "code",
   "execution_count": 26,
   "id": "d2238655",
   "metadata": {},
   "outputs": [
    {
     "name": "stdout",
     "output_type": "stream",
     "text": [
      "15\n"
     ]
    }
   ],
   "source": [
    "root_dest = \"C:/Users/delaoArevaLR/OneDrive - UMCG/SABR_1322_Nifti_V2/\"\n",
    "\n",
    "NOTpxNiiok.sort()\n",
    "pxNiiok.sort()\n",
    "print(len(transferFiles))"
   ]
  },
  {
   "cell_type": "code",
   "execution_count": 8,
   "id": "7dbd6a78",
   "metadata": {
    "scrolled": false
   },
   "outputs": [
    {
     "name": "stdout",
     "output_type": "stream",
     "text": [
      "//zkh/appdata/RTDicom/DAMEproject/LUNGSABR_data_2022/NIFTI_v0/0070683/0070683_rtstruct_GTV.nii.gz \n",
      "px 0070683\n",
      "//zkh/appdata/RTDicom/DAMEproject/LUNGSABR_data_2022/NIFTI_v0/0442524/0442524_rtstruct_GTV.nii.gz \n",
      "px 0442524\n",
      "//zkh/appdata/RTDicom/DAMEproject/LUNGSABR_data_2022/NIFTI_v0/0476251/0476251_rtstruct_GTV.nii.gz \n",
      "px 0476251\n",
      "//zkh/appdata/RTDicom/DAMEproject/LUNGSABR_data_2022/NIFTI_v0/0483596/0483596_rtstruct_GTV.nii.gz \n",
      "px 0483596\n",
      "//zkh/appdata/RTDicom/DAMEproject/LUNGSABR_data_2022/NIFTI_v0/0492498/0492498_rtstruct_GTV.nii.gz \n",
      "px 0492498\n",
      "//zkh/appdata/RTDicom/DAMEproject/LUNGSABR_data_2022/NIFTI_v0/0637574/0637574_rtstruct_GTV.nii.gz \n",
      "px 0637574\n",
      "//zkh/appdata/RTDicom/DAMEproject/LUNGSABR_data_2022/NIFTI_v0/0649841/0649841_rtstruct_GTV.nii.gz \n",
      "px 0649841\n",
      "//zkh/appdata/RTDicom/DAMEproject/LUNGSABR_data_2022/NIFTI_v0/0843413/0843413_rtstruct_GTV.nii.gz \n",
      "px 0843413\n",
      "//zkh/appdata/RTDicom/DAMEproject/LUNGSABR_data_2022/NIFTI_v0/0914789/0914789_rtstruct_GTV.nii.gz \n",
      "px 0914789\n",
      "//zkh/appdata/RTDicom/DAMEproject/LUNGSABR_data_2022/NIFTI_v0/0925755/0925755_rtstruct_GTV.nii.gz \n",
      "px 0925755\n",
      "//zkh/appdata/RTDicom/DAMEproject/LUNGSABR_data_2022/NIFTI_v0/0988814/0988814_rtstruct_GTV.nii.gz \n",
      "px 0988814\n",
      "//zkh/appdata/RTDicom/DAMEproject/LUNGSABR_data_2022/NIFTI_v0/1130271/1130271_rtstruct_GTV.nii.gz \n",
      "px 1130271\n",
      "//zkh/appdata/RTDicom/DAMEproject/LUNGSABR_data_2022/NIFTI_v0/1605073/1605073_rtstruct_GTV.nii.gz \n",
      "px 1605073\n",
      "//zkh/appdata/RTDicom/DAMEproject/LUNGSABR_data_2022/NIFTI_v0/1695651/1695651_rtstruct_GTV.nii.gz \n",
      "px 1695651\n",
      "//zkh/appdata/RTDicom/DAMEproject/LUNGSABR_data_2022/NIFTI_v0/1706973/1706973_rtstruct_GTV.nii.gz \n",
      "px 1706973\n",
      "//zkh/appdata/RTDicom/DAMEproject/LUNGSABR_data_2022/NIFTI_v0/1726691/1726691_rtstruct_GTV.nii.gz \n",
      "px 1726691\n",
      "//zkh/appdata/RTDicom/DAMEproject/LUNGSABR_data_2022/NIFTI_v0/1756285/1756285_rtstruct_GTV.nii.gz \n",
      "px 1756285\n",
      "//zkh/appdata/RTDicom/DAMEproject/LUNGSABR_data_2022/NIFTI_v0/1787811/1787811_rtstruct_GTV.nii.gz \n",
      "px 1787811\n",
      "//zkh/appdata/RTDicom/DAMEproject/LUNGSABR_data_2022/NIFTI_v0/1806555/1806555_rtstruct_GTV.nii.gz \n",
      "px 1806555\n",
      "//zkh/appdata/RTDicom/DAMEproject/LUNGSABR_data_2022/NIFTI_v0/1914766/1914766_rtstruct_GTV.nii.gz \n",
      "px 1914766\n",
      "//zkh/appdata/RTDicom/DAMEproject/LUNGSABR_data_2022/NIFTI_v0/2021381/2021381_rtstruct_GTV.nii.gz \n",
      "px 2021381\n",
      "//zkh/appdata/RTDicom/DAMEproject/LUNGSABR_data_2022/NIFTI_v0/2038375/2038375_rtstruct_GTV.nii.gz \n",
      "px 2038375\n",
      "//zkh/appdata/RTDicom/DAMEproject/LUNGSABR_data_2022/NIFTI_v0/2080525/2080525_rtstruct_GTV.nii.gz \n",
      "px 2080525\n",
      "//zkh/appdata/RTDicom/DAMEproject/LUNGSABR_data_2022/NIFTI_v0/2083875/2083875_rtstruct_GTV.nii.gz \n",
      "px 2083875\n",
      "//zkh/appdata/RTDicom/DAMEproject/LUNGSABR_data_2022/NIFTI_v0/2177895/2177895_rtstruct_GTV.nii.gz \n",
      "px 2177895\n",
      "//zkh/appdata/RTDicom/DAMEproject/LUNGSABR_data_2022/NIFTI_v0/2223829/2223829_rtstruct_GTV.nii.gz \n",
      "px 2223829\n",
      "//zkh/appdata/RTDicom/DAMEproject/LUNGSABR_data_2022/NIFTI_v0/2230323/2230323_rtstruct_GTV.nii.gz \n",
      "px 2230323\n",
      "//zkh/appdata/RTDicom/DAMEproject/LUNGSABR_data_2022/NIFTI_v0/2234038/2234038_rtstruct_GTV.nii.gz \n",
      "px 2234038\n",
      "//zkh/appdata/RTDicom/DAMEproject/LUNGSABR_data_2022/NIFTI_v0/2253267/2253267_rtstruct_GTV.nii.gz \n",
      "px 2253267\n",
      "//zkh/appdata/RTDicom/DAMEproject/LUNGSABR_data_2022/NIFTI_v0/2255384/2255384_rtstruct_GTV.nii.gz \n",
      "px 2255384\n",
      "//zkh/appdata/RTDicom/DAMEproject/LUNGSABR_data_2022/NIFTI_v0/2260108/2260108_rtstruct_GTV.nii.gz \n",
      "px 2260108\n",
      "//zkh/appdata/RTDicom/DAMEproject/LUNGSABR_data_2022/NIFTI_v0/2263430/2263430_rtstruct_GTV.nii.gz \n",
      "px 2263430\n",
      "//zkh/appdata/RTDicom/DAMEproject/LUNGSABR_data_2022/NIFTI_v0/2265616/2265616_rtstruct_GTV.nii.gz \n",
      "px 2265616\n",
      "//zkh/appdata/RTDicom/DAMEproject/LUNGSABR_data_2022/NIFTI_v0/2270307/2270307_rtstruct_GTV.nii.gz \n",
      "px 2270307\n",
      "//zkh/appdata/RTDicom/DAMEproject/LUNGSABR_data_2022/NIFTI_v0/2290711/2290711_rtstruct_GTV.nii.gz \n",
      "px 2290711\n",
      "//zkh/appdata/RTDicom/DAMEproject/LUNGSABR_data_2022/NIFTI_v0/2293001/2293001_rtstruct_GTV.nii.gz \n",
      "px 2293001\n",
      "//zkh/appdata/RTDicom/DAMEproject/LUNGSABR_data_2022/NIFTI_v0/2432573/2432573_rtstruct_GTV.nii.gz \n",
      "px 2432573\n",
      "//zkh/appdata/RTDicom/DAMEproject/LUNGSABR_data_2022/NIFTI_v0/3064110/3064110_rtstruct_GTV.nii.gz \n",
      "px 3064110\n",
      "//zkh/appdata/RTDicom/DAMEproject/LUNGSABR_data_2022/NIFTI_v0/3114452/3114452_rtstruct_GTV.nii.gz \n",
      "px 3114452\n",
      "//zkh/appdata/RTDicom/DAMEproject/LUNGSABR_data_2022/NIFTI_v0/4090915/4090915_rtstruct_GTV.nii.gz \n",
      "px 4090915\n",
      "//zkh/appdata/RTDicom/DAMEproject/LUNGSABR_data_2022/NIFTI_v0/4660898/4660898_rtstruct_GTV.nii.gz \n",
      "px 4660898\n",
      "//zkh/appdata/RTDicom/DAMEproject/LUNGSABR_data_2022/NIFTI_v0/4669116/4669116_rtstruct_GTV.nii.gz \n",
      "px 4669116\n",
      "//zkh/appdata/RTDicom/DAMEproject/LUNGSABR_data_2022/NIFTI_v0/4719904/4719904_rtstruct_GTV.nii.gz \n",
      "px 4719904\n",
      "//zkh/appdata/RTDicom/DAMEproject/LUNGSABR_data_2022/NIFTI_v0/4830374/4830374_rtstruct_GTV.nii.gz \n",
      "px 4830374\n",
      "//zkh/appdata/RTDicom/DAMEproject/LUNGSABR_data_2022/NIFTI_v0/4933165/4933165_rtstruct_GTV.nii.gz \n",
      "px 4933165\n",
      "//zkh/appdata/RTDicom/DAMEproject/LUNGSABR_data_2022/NIFTI_v0/5127946/5127946_rtstruct_GTV.nii.gz \n",
      "px 5127946\n",
      "//zkh/appdata/RTDicom/DAMEproject/LUNGSABR_data_2022/NIFTI_v0/5427806/5427806_rtstruct_GTV.nii.gz \n",
      "px 5427806\n",
      "//zkh/appdata/RTDicom/DAMEproject/LUNGSABR_data_2022/NIFTI_v0/5655827/5655827_rtstruct_GTV.nii.gz \n",
      "px 5655827\n",
      "//zkh/appdata/RTDicom/DAMEproject/LUNGSABR_data_2022/NIFTI_v0/5836741/5836741_rtstruct_GTV.nii.gz \n",
      "px 5836741\n",
      "//zkh/appdata/RTDicom/DAMEproject/LUNGSABR_data_2022/NIFTI_v0/5841189/5841189_rtstruct_GTV.nii.gz \n",
      "px 5841189\n",
      "//zkh/appdata/RTDicom/DAMEproject/LUNGSABR_data_2022/NIFTI_v0/5971684/5971684_rtstruct_GTV.nii.gz \n",
      "px 5971684\n",
      "//zkh/appdata/RTDicom/DAMEproject/LUNGSABR_data_2022/NIFTI_v0/6135770/6135770_rtstruct_GTV.nii.gz \n",
      "px 6135770\n",
      "//zkh/appdata/RTDicom/DAMEproject/LUNGSABR_data_2022/NIFTI_v0/6347335/6347335_rtstruct_GTV.nii.gz \n",
      "px 6347335\n",
      "//zkh/appdata/RTDicom/DAMEproject/LUNGSABR_data_2022/NIFTI_v0/6347891/6347891_rtstruct_GTV.nii.gz \n",
      "px 6347891\n",
      "//zkh/appdata/RTDicom/DAMEproject/LUNGSABR_data_2022/NIFTI_v0/6418899/6418899_rtstruct_GTV.nii.gz \n",
      "px 6418899\n",
      "//zkh/appdata/RTDicom/DAMEproject/LUNGSABR_data_2022/NIFTI_v0/6439818/6439818_rtstruct_GTV.nii.gz \n",
      "px 6439818\n",
      "//zkh/appdata/RTDicom/DAMEproject/LUNGSABR_data_2022/NIFTI_v0/6759091/6759091_rtstruct_GTV.nii.gz \n",
      "px 6759091\n",
      "//zkh/appdata/RTDicom/DAMEproject/LUNGSABR_data_2022/NIFTI_v0/7210110/7210110_rtstruct_GTV.nii.gz \n",
      "px 7210110\n",
      "//zkh/appdata/RTDicom/DAMEproject/LUNGSABR_data_2022/NIFTI_v0/7609775/7609775_rtstruct_GTV.nii.gz \n",
      "px 7609775\n",
      "//zkh/appdata/RTDicom/DAMEproject/LUNGSABR_data_2022/NIFTI_v0/8643781/8643781_rtstruct_GTV.nii.gz \n",
      "px 8643781\n",
      "//zkh/appdata/RTDicom/DAMEproject/LUNGSABR_data_2022/NIFTI_v0/9490514/9490514_rtstruct_GTV.nii.gz \n",
      "px 9490514\n"
     ]
    }
   ],
   "source": [
    "for i in range(len(transferFiles)):\n",
    "    print(transferFiles[i],'\\npx',Ct_Patients[i])\n",
    "    if not os.path.exists(root_dest+Ct_Patients[i]):\n",
    "        os.makedirs(root_dest+Ct_Patients[i]+'/')\n",
    "        dest_px_path = root_dest+Ct_Patients[i]+'/'\n",
    "    shutil.copyfile(transferFiles[i], root_dest+Ct_Patients[i]+'/'+name_files[i])#Copy full directory\n",
    "    "
   ]
  },
  {
   "cell_type": "code",
   "execution_count": 12,
   "id": "7038e585",
   "metadata": {},
   "outputs": [
    {
     "name": "stdout",
     "output_type": "stream",
     "text": [
      "copying: 1605073\n"
     ]
    },
    {
     "ename": "KeyboardInterrupt",
     "evalue": "",
     "output_type": "error",
     "traceback": [
      "\u001b[1;31m---------------------------------------------------------------------------\u001b[0m",
      "\u001b[1;31mKeyboardInterrupt\u001b[0m                         Traceback (most recent call last)",
      "\u001b[1;32mC:\\Users\\local_delaOArevaLR\\Temp\\ipykernel_27492\\242186227.py\u001b[0m in \u001b[0;36m<module>\u001b[1;34m\u001b[0m\n\u001b[0;32m      6\u001b[0m         \u001b[1;31m#dest_px_path = root_dest+pxId+'/'\u001b[0m\u001b[1;33m\u001b[0m\u001b[1;33m\u001b[0m\u001b[0m\n\u001b[0;32m      7\u001b[0m         \u001b[0mprint\u001b[0m\u001b[1;33m(\u001b[0m\u001b[1;34m'copying:'\u001b[0m\u001b[1;33m,\u001b[0m\u001b[0mpxId\u001b[0m\u001b[1;33m)\u001b[0m\u001b[1;33m\u001b[0m\u001b[1;33m\u001b[0m\u001b[0m\n\u001b[1;32m----> 8\u001b[1;33m         \u001b[0mshutil\u001b[0m\u001b[1;33m.\u001b[0m\u001b[0mcopytree\u001b[0m\u001b[1;33m(\u001b[0m\u001b[0mroot_path\u001b[0m\u001b[1;33m+\u001b[0m\u001b[0mpxId\u001b[0m\u001b[1;33m,\u001b[0m \u001b[0mroot_dest\u001b[0m\u001b[1;33m+\u001b[0m\u001b[0mpxId\u001b[0m\u001b[1;33m)\u001b[0m\u001b[1;31m#Copy full directory\u001b[0m\u001b[1;33m\u001b[0m\u001b[1;33m\u001b[0m\u001b[0m\n\u001b[0m\u001b[0;32m      9\u001b[0m         \u001b[0mshutil\u001b[0m\u001b[1;33m.\u001b[0m\u001b[0mcopyfile\u001b[0m\u001b[1;33m(\u001b[0m\u001b[0mroot_path\u001b[0m\u001b[1;33m+\u001b[0m\u001b[0mpxId\u001b[0m\u001b[1;33m+\u001b[0m\u001b[1;34m'/'\u001b[0m\u001b[1;33m+\u001b[0m\u001b[0mct_files\u001b[0m\u001b[1;33m,\u001b[0m \u001b[0mroot_dest\u001b[0m\u001b[1;33m+\u001b[0m\u001b[0mpxId\u001b[0m\u001b[1;33m+\u001b[0m\u001b[1;34m'/'\u001b[0m\u001b[1;33m+\u001b[0m\u001b[0mct_files\u001b[0m\u001b[1;33m)\u001b[0m\u001b[1;31m#Copy full directory\u001b[0m\u001b[1;33m\u001b[0m\u001b[1;33m\u001b[0m\u001b[0m\n\u001b[0;32m     10\u001b[0m \u001b[1;33m\u001b[0m\u001b[0m\n",
      "\u001b[1;32m~\\Anaconda3\\lib\\shutil.py\u001b[0m in \u001b[0;36mcopytree\u001b[1;34m(src, dst, symlinks, ignore, copy_function, ignore_dangling_symlinks, dirs_exist_ok)\u001b[0m\n\u001b[0;32m    566\u001b[0m     \u001b[1;32mwith\u001b[0m \u001b[0mos\u001b[0m\u001b[1;33m.\u001b[0m\u001b[0mscandir\u001b[0m\u001b[1;33m(\u001b[0m\u001b[0msrc\u001b[0m\u001b[1;33m)\u001b[0m \u001b[1;32mas\u001b[0m \u001b[0mitr\u001b[0m\u001b[1;33m:\u001b[0m\u001b[1;33m\u001b[0m\u001b[1;33m\u001b[0m\u001b[0m\n\u001b[0;32m    567\u001b[0m         \u001b[0mentries\u001b[0m \u001b[1;33m=\u001b[0m \u001b[0mlist\u001b[0m\u001b[1;33m(\u001b[0m\u001b[0mitr\u001b[0m\u001b[1;33m)\u001b[0m\u001b[1;33m\u001b[0m\u001b[1;33m\u001b[0m\u001b[0m\n\u001b[1;32m--> 568\u001b[1;33m     return _copytree(entries=entries, src=src, dst=dst, symlinks=symlinks,\n\u001b[0m\u001b[0;32m    569\u001b[0m                      \u001b[0mignore\u001b[0m\u001b[1;33m=\u001b[0m\u001b[0mignore\u001b[0m\u001b[1;33m,\u001b[0m \u001b[0mcopy_function\u001b[0m\u001b[1;33m=\u001b[0m\u001b[0mcopy_function\u001b[0m\u001b[1;33m,\u001b[0m\u001b[1;33m\u001b[0m\u001b[1;33m\u001b[0m\u001b[0m\n\u001b[0;32m    570\u001b[0m                      \u001b[0mignore_dangling_symlinks\u001b[0m\u001b[1;33m=\u001b[0m\u001b[0mignore_dangling_symlinks\u001b[0m\u001b[1;33m,\u001b[0m\u001b[1;33m\u001b[0m\u001b[1;33m\u001b[0m\u001b[0m\n",
      "\u001b[1;32m~\\Anaconda3\\lib\\shutil.py\u001b[0m in \u001b[0;36m_copytree\u001b[1;34m(entries, src, dst, symlinks, ignore, copy_function, ignore_dangling_symlinks, dirs_exist_ok)\u001b[0m\n\u001b[0;32m    506\u001b[0m             \u001b[1;32melse\u001b[0m\u001b[1;33m:\u001b[0m\u001b[1;33m\u001b[0m\u001b[1;33m\u001b[0m\u001b[0m\n\u001b[0;32m    507\u001b[0m                 \u001b[1;31m# Will raise a SpecialFileError for unsupported file types\u001b[0m\u001b[1;33m\u001b[0m\u001b[1;33m\u001b[0m\u001b[0m\n\u001b[1;32m--> 508\u001b[1;33m                 \u001b[0mcopy_function\u001b[0m\u001b[1;33m(\u001b[0m\u001b[0msrcobj\u001b[0m\u001b[1;33m,\u001b[0m \u001b[0mdstname\u001b[0m\u001b[1;33m)\u001b[0m\u001b[1;33m\u001b[0m\u001b[1;33m\u001b[0m\u001b[0m\n\u001b[0m\u001b[0;32m    509\u001b[0m         \u001b[1;31m# catch the Error from the recursive copytree so that we can\u001b[0m\u001b[1;33m\u001b[0m\u001b[1;33m\u001b[0m\u001b[0m\n\u001b[0;32m    510\u001b[0m         \u001b[1;31m# continue with other files\u001b[0m\u001b[1;33m\u001b[0m\u001b[1;33m\u001b[0m\u001b[0m\n",
      "\u001b[1;32m~\\Anaconda3\\lib\\shutil.py\u001b[0m in \u001b[0;36mcopy2\u001b[1;34m(src, dst, follow_symlinks)\u001b[0m\n\u001b[0;32m    442\u001b[0m     \u001b[1;32mif\u001b[0m \u001b[0mos\u001b[0m\u001b[1;33m.\u001b[0m\u001b[0mpath\u001b[0m\u001b[1;33m.\u001b[0m\u001b[0misdir\u001b[0m\u001b[1;33m(\u001b[0m\u001b[0mdst\u001b[0m\u001b[1;33m)\u001b[0m\u001b[1;33m:\u001b[0m\u001b[1;33m\u001b[0m\u001b[1;33m\u001b[0m\u001b[0m\n\u001b[0;32m    443\u001b[0m         \u001b[0mdst\u001b[0m \u001b[1;33m=\u001b[0m \u001b[0mos\u001b[0m\u001b[1;33m.\u001b[0m\u001b[0mpath\u001b[0m\u001b[1;33m.\u001b[0m\u001b[0mjoin\u001b[0m\u001b[1;33m(\u001b[0m\u001b[0mdst\u001b[0m\u001b[1;33m,\u001b[0m \u001b[0mos\u001b[0m\u001b[1;33m.\u001b[0m\u001b[0mpath\u001b[0m\u001b[1;33m.\u001b[0m\u001b[0mbasename\u001b[0m\u001b[1;33m(\u001b[0m\u001b[0msrc\u001b[0m\u001b[1;33m)\u001b[0m\u001b[1;33m)\u001b[0m\u001b[1;33m\u001b[0m\u001b[1;33m\u001b[0m\u001b[0m\n\u001b[1;32m--> 444\u001b[1;33m     \u001b[0mcopyfile\u001b[0m\u001b[1;33m(\u001b[0m\u001b[0msrc\u001b[0m\u001b[1;33m,\u001b[0m \u001b[0mdst\u001b[0m\u001b[1;33m,\u001b[0m \u001b[0mfollow_symlinks\u001b[0m\u001b[1;33m=\u001b[0m\u001b[0mfollow_symlinks\u001b[0m\u001b[1;33m)\u001b[0m\u001b[1;33m\u001b[0m\u001b[1;33m\u001b[0m\u001b[0m\n\u001b[0m\u001b[0;32m    445\u001b[0m     \u001b[0mcopystat\u001b[0m\u001b[1;33m(\u001b[0m\u001b[0msrc\u001b[0m\u001b[1;33m,\u001b[0m \u001b[0mdst\u001b[0m\u001b[1;33m,\u001b[0m \u001b[0mfollow_symlinks\u001b[0m\u001b[1;33m=\u001b[0m\u001b[0mfollow_symlinks\u001b[0m\u001b[1;33m)\u001b[0m\u001b[1;33m\u001b[0m\u001b[1;33m\u001b[0m\u001b[0m\n\u001b[0;32m    446\u001b[0m     \u001b[1;32mreturn\u001b[0m \u001b[0mdst\u001b[0m\u001b[1;33m\u001b[0m\u001b[1;33m\u001b[0m\u001b[0m\n",
      "\u001b[1;32m~\\Anaconda3\\lib\\shutil.py\u001b[0m in \u001b[0;36mcopyfile\u001b[1;34m(src, dst, follow_symlinks)\u001b[0m\n\u001b[0;32m    262\u001b[0m         \u001b[0mos\u001b[0m\u001b[1;33m.\u001b[0m\u001b[0msymlink\u001b[0m\u001b[1;33m(\u001b[0m\u001b[0mos\u001b[0m\u001b[1;33m.\u001b[0m\u001b[0mreadlink\u001b[0m\u001b[1;33m(\u001b[0m\u001b[0msrc\u001b[0m\u001b[1;33m)\u001b[0m\u001b[1;33m,\u001b[0m \u001b[0mdst\u001b[0m\u001b[1;33m)\u001b[0m\u001b[1;33m\u001b[0m\u001b[1;33m\u001b[0m\u001b[0m\n\u001b[0;32m    263\u001b[0m     \u001b[1;32melse\u001b[0m\u001b[1;33m:\u001b[0m\u001b[1;33m\u001b[0m\u001b[1;33m\u001b[0m\u001b[0m\n\u001b[1;32m--> 264\u001b[1;33m         \u001b[1;32mwith\u001b[0m \u001b[0mopen\u001b[0m\u001b[1;33m(\u001b[0m\u001b[0msrc\u001b[0m\u001b[1;33m,\u001b[0m \u001b[1;34m'rb'\u001b[0m\u001b[1;33m)\u001b[0m \u001b[1;32mas\u001b[0m \u001b[0mfsrc\u001b[0m\u001b[1;33m:\u001b[0m\u001b[1;33m\u001b[0m\u001b[1;33m\u001b[0m\u001b[0m\n\u001b[0m\u001b[0;32m    265\u001b[0m             \u001b[1;32mtry\u001b[0m\u001b[1;33m:\u001b[0m\u001b[1;33m\u001b[0m\u001b[1;33m\u001b[0m\u001b[0m\n\u001b[0;32m    266\u001b[0m                 \u001b[1;32mwith\u001b[0m \u001b[0mopen\u001b[0m\u001b[1;33m(\u001b[0m\u001b[0mdst\u001b[0m\u001b[1;33m,\u001b[0m \u001b[1;34m'wb'\u001b[0m\u001b[1;33m)\u001b[0m \u001b[1;32mas\u001b[0m \u001b[0mfdst\u001b[0m\u001b[1;33m:\u001b[0m\u001b[1;33m\u001b[0m\u001b[1;33m\u001b[0m\u001b[0m\n",
      "\u001b[1;31mKeyboardInterrupt\u001b[0m: "
     ]
    }
   ],
   "source": [
    "#Copy paste ok files into one drive\n",
    "for pxId in pxNiiok[13:]:\n",
    "    if not os.path.exists(root_dest+pxId):\n",
    "        #os.makedirs(root_dest+pxId+'/')\n",
    "        #dest_px_path = root_dest+pxId+'/'\n",
    "        print('copying:',pxId)\n",
    "        shutil.copytree(root_path+pxId, root_dest+pxId)#Copy full directory\n",
    "        \n",
    "    \n"
   ]
  },
  {
   "cell_type": "code",
   "execution_count": null,
   "id": "a5eb526d",
   "metadata": {
    "scrolled": false
   },
   "outputs": [],
   "source": [
    "save_path = \"C:/Users/delaoArevaLR/OneDrive - UMCG/MultipleBreathingP/\"\n",
    "PxList_saved = os.listdir(save_path)\n",
    "print(len(PxList_saved))\n",
    "for dir in pxNiiok:\n",
    "    if dir in PxList_saved:\n",
    "        print(dir,\" already in folder\")\n",
    "    else:\n",
    "        print(dir,\" not in folder\")\n"
   ]
  }
 ],
 "metadata": {
  "kernelspec": {
   "display_name": "Python 3 (ipykernel)",
   "language": "python",
   "name": "python3"
  },
  "language_info": {
   "codemirror_mode": {
    "name": "ipython",
    "version": 3
   },
   "file_extension": ".py",
   "mimetype": "text/x-python",
   "name": "python",
   "nbconvert_exporter": "python",
   "pygments_lexer": "ipython3",
   "version": "3.9.16"
  }
 },
 "nbformat": 4,
 "nbformat_minor": 5
}
