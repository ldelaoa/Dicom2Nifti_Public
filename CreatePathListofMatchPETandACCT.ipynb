{
 "cells": [
  {
   "cell_type": "code",
   "execution_count": 1,
   "id": "8a173474",
   "metadata": {},
   "outputs": [],
   "source": [
    "from os.path import join\n",
    "from datetime import time, datetime\n",
    "import os\n",
    "import glob\n",
    "import numpy as np\n",
    "import SimpleITK as sitk\n",
    "import pydicom as dicom\n",
    "from pydicom.tag import Tag\n",
    "import sys\n",
    "import csv\n",
    "import pydicom as pdcm"
   ]
  },
  {
   "cell_type": "code",
   "execution_count": 16,
   "id": "2506817e",
   "metadata": {},
   "outputs": [],
   "source": [
    "def getICUID(path):\n",
    "    for root, dirs, files in os.walk(path):\n",
    "        for f in files:\n",
    "            slices = pdcm.read_file(root+f)\n",
    "            return slices.file_meta.ImplementationClassUID"
   ]
  },
  {
   "cell_type": "code",
   "execution_count": 18,
   "id": "dc8bb5af",
   "metadata": {},
   "outputs": [],
   "source": [
    "window_type = 'lung'\n",
    "root_path=\"//zkh/appdata/RTDicom/Projectline_modelling_lung_cancer/DICOM_data/\"\n",
    "structured = root_path + \"DATA_VOLLEDIG_structured/\"\n",
    "unstructured = root_path + \"DATA_VOLLEDIG_unstructured/\"\n",
    "csv_filename = \"//zkh/appdata/RTDicom/Projectline_modelling_lung_cancer/Users/Luis/CSVs/ListPETMatchACCT.csv\"\n",
    "\n",
    "image_generation_flag=True\n",
    "mask_generation_flag=True\n",
    "\n",
    "#Folders to look at:\n",
    "Try1 =\"CT_DICOM_CLEAN/\"\n",
    "Try2 =\"PET_DICOM/\"\n",
    "#Try3 =\"PET_LDCT_REGISTERED/\"\n",
    "Try4 =\"PET_MIRADA_REGISTERED/\""
   ]
  },
  {
   "cell_type": "code",
   "execution_count": 14,
   "id": "2905f496",
   "metadata": {},
   "outputs": [
    {
     "name": "stdout",
     "output_type": "stream",
     "text": [
      "True\n",
      "True\n",
      "True\n",
      "True\n"
     ]
    }
   ],
   "source": [
    "MergeLists=[]\n",
    "MergeLists.append(os.path.join(structured,Try1))\n",
    "MergeLists.append(os.path.join(structured,Try2))\n",
    "#MergeLists.append(os.path.join(structured,Try3))\n",
    "MergeLists.append(os.path.join(structured,Try4))\n",
    "MergeLists.append(os.path.join(unstructured))\n",
    "\n",
    "for currdir in MergeLists:\n",
    "    print(os.path.exists(currdir))"
   ]
  },
  {
   "cell_type": "code",
   "execution_count": 15,
   "id": "63b0a7e9",
   "metadata": {},
   "outputs": [
    {
     "name": "stdout",
     "output_type": "stream",
     "text": [
      "Number of Patients: 664  Example:  0004879\n",
      "Number of Patients: 339  Example:  0010539\n",
      "Number of Patients: 30  Example:  0372344\n",
      "Number of Patients: 1185  Example:  0004879\n"
     ]
    }
   ],
   "source": [
    "modalityToLook = [\"CT\",\"PET\"]\n",
    "for currdir in MergeLists:\n",
    "    PxList = np.sort(os.listdir(currdir))\n",
    "    print(\"Number of Patients:\",len(PxList),\" Example: \",PxList[0])"
   ]
  },
  {
   "cell_type": "code",
   "execution_count": 19,
   "id": "5a545c17",
   "metadata": {
    "scrolled": true
   },
   "outputs": [],
   "source": [
    "with open(csv_filename, 'w', newline='') as csvfile:\n",
    "    writer = csv.writer(csvfile)\n",
    "    writer.writerow(['Px','ACCT_Path','ACCT_bool','PET_Path','PET_bool',\"Matching_Bool\"])\n",
    "    \n",
    "    for currdir in MergeLists:\n",
    "        PxList = np.sort(os.listdir(currdir))\n",
    "\n",
    "        for Px in PxList:\n",
    "            lastUID_CT = -1\n",
    "            lastUID_PET = 0 \n",
    "            ACCT_LD_fpaths = []\n",
    "            PET_Earl_fpaths = []\n",
    "\n",
    "            bool_PET = False\n",
    "            bool_ACCT = False\n",
    "            bool_match = False\n",
    "\n",
    "            for root, dirs, files in os.walk(structured+Try2+Px, topdown=True):\n",
    "                for d in dirs:\n",
    "                    if \"AC_CT_Body\" in d or \"CT van PET\" in d or \"CT LD\" in d or \"AC CT\" in d or \"AC  CT\" in d:\n",
    "                        ACCT_LD_fpaths.append(root+'/'+d+'/')\n",
    "                        lastUID_CT = getICUID(root+'/'+d+'/')\n",
    "                        bool_ACCT = True\n",
    "                    if \"PET\" in d or \"Earl\" in d:\n",
    "                        PET_Earl_fpaths.append(root+'/'+d+'/')\n",
    "                        lastUID_PET = getICUID(root+'/'+d+'/')\n",
    "                        bool_PET = True\n",
    "                    if lastUID_CT == lastUID_PET:\n",
    "                        bool_match = True \n",
    "                        break\n",
    "\n",
    "            if bool_PET or bool_ACCT:\n",
    "                writer.writerow([Px,ACCT_LD_fpaths,bool_ACCT,PET_Earl_fpaths,bool_PET,bool_match])\n",
    "            \n",
    "        "
   ]
  },
  {
   "cell_type": "code",
   "execution_count": null,
   "id": "802667b7",
   "metadata": {
    "scrolled": false
   },
   "outputs": [],
   "source": []
  },
  {
   "cell_type": "code",
   "execution_count": null,
   "id": "9a02a328",
   "metadata": {},
   "outputs": [],
   "source": []
  },
  {
   "cell_type": "code",
   "execution_count": null,
   "id": "8b0eef0b",
   "metadata": {
    "scrolled": false
   },
   "outputs": [],
   "source": []
  },
  {
   "cell_type": "code",
   "execution_count": null,
   "id": "a6d8804e",
   "metadata": {
    "scrolled": false
   },
   "outputs": [],
   "source": []
  },
  {
   "cell_type": "code",
   "execution_count": null,
   "id": "c2d1c517",
   "metadata": {},
   "outputs": [],
   "source": []
  },
  {
   "cell_type": "code",
   "execution_count": null,
   "id": "803c16c2",
   "metadata": {},
   "outputs": [],
   "source": []
  },
  {
   "cell_type": "code",
   "execution_count": null,
   "id": "279b0be3",
   "metadata": {},
   "outputs": [],
   "source": []
  },
  {
   "cell_type": "code",
   "execution_count": null,
   "id": "73f1fe2e",
   "metadata": {
    "scrolled": false
   },
   "outputs": [],
   "source": []
  },
  {
   "cell_type": "code",
   "execution_count": null,
   "id": "9dc57430",
   "metadata": {
    "scrolled": false
   },
   "outputs": [],
   "source": []
  },
  {
   "cell_type": "code",
   "execution_count": null,
   "id": "94934b2f",
   "metadata": {},
   "outputs": [],
   "source": []
  },
  {
   "cell_type": "code",
   "execution_count": null,
   "id": "8d23f6e8",
   "metadata": {},
   "outputs": [],
   "source": []
  },
  {
   "cell_type": "code",
   "execution_count": null,
   "id": "4d7f312b",
   "metadata": {},
   "outputs": [],
   "source": []
  },
  {
   "cell_type": "code",
   "execution_count": null,
   "id": "60e8f257",
   "metadata": {},
   "outputs": [],
   "source": []
  }
 ],
 "metadata": {
  "kernelspec": {
   "display_name": "Python 3 (ipykernel)",
   "language": "python",
   "name": "python3"
  },
  "language_info": {
   "codemirror_mode": {
    "name": "ipython",
    "version": 3
   },
   "file_extension": ".py",
   "mimetype": "text/x-python",
   "name": "python",
   "nbconvert_exporter": "python",
   "pygments_lexer": "ipython3",
   "version": "3.10.12"
  }
 },
 "nbformat": 4,
 "nbformat_minor": 5
}
