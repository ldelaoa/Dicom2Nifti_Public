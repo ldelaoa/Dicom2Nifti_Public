{
 "cells": [
  {
   "cell_type": "code",
   "execution_count": null,
   "id": "5bc34494",
   "metadata": {},
   "outputs": [],
   "source": []
  },
  {
   "cell_type": "code",
   "execution_count": 38,
   "id": "e72a9846",
   "metadata": {},
   "outputs": [],
   "source": [
    "from os.path import join\n",
    "from datetime import time, datetime\n",
    "import os\n",
    "import glob\n",
    "import numpy as np\n",
    "from skimage.draw import polygon\n",
    "import SimpleITK as sitk\n",
    "#import pydicom as dicom\n",
    "#from pydicom.tag import Tag\n",
    "import sys\n",
    "import csv\n",
    "import pandas as pd\n",
    "import shutil"
   ]
  },
  {
   "cell_type": "code",
   "execution_count": 39,
   "id": "d2fdcde1",
   "metadata": {},
   "outputs": [
    {
     "name": "stdout",
     "output_type": "stream",
     "text": [
      "['4025031', '2156167', '2154195', '3932820', '619086', '3007430', '147625', '7786608', '8728753', '1217167', '8967750', '2131592', '7676177', '810589', '2894544', '7513114', '4664141', '766115', '3307795', '9588899', '23840', '2324157', '2123820', '5443347', '4023673', '2856145', '5317512', '5635761', '3741290', '1034109', '1353431', '5497325', '14504', '170672', '6465961', '2628217', '2788596', '6841834', '7233645', '2370962', '367466', '234628', '5686032', '2186015', '9593888', '9222012', '8168463', '3853415', '3464709', '2758081', '9936840', '9193538', '561128', '2277478', '5960268', '3558287', '654137', '13194', '2326539', '5468590', '3059294', '9212857', '4572900', '110867', '1136033', '7838986', '4965499', '2049190', '2196145', '2168497', '7626090', '5539952', '3157977', '7176049', '2334091', '3409329', '2256800', '2209191', '9598757', '2132029', '8248305', '1822090', '9854449', '9646447', '5881434', '7313332', '2296266', '986614', '1439985', '5612712', '6577371', '1302698', '6674324', '9786492', '2069751', '7706205', '2815227', '2171667', '6399365', '8269736', '4937103', '2208346', '2038248', '3010418', '9600274', '1628970', '2020662', '1529652', '9235768', '750710', '4690407', '2410572', '346733', '3130926', '3665388', '7664155', '194140', '2345065', '6071737', '2179231', '9915436', '4962318', '191113', '2968087', '291190', '5009537', '2029187', '4718915', '594295', '2213172', '9558471', '5263492', '204909', '4918621', '2216849', '3058377', '969084', '617349', '1493281', '2345491', '2326974', '7431977', '2240776', '6184000', '7280302', '1174472', '9025583', '957793', '6934596', '44223', '1111507', '2370371', '2763334', '5826414', '5474853', '2174844', '4239862', '2302235', '197111', '258565', '4058935', '5341373', '5348778', '868569', '6857147', '1126789', '2259904', '6449828', '4678316', '2328311', '2323333', '1397662', '1933838', '3740147', '2009188', '2001288', '2430561', '3851734', '5267139', '2321431', '2342965', '2685249', '7511007', '2227453', '5649651', '4032982', '1172183', '9855290', '9236751', '1396853', '1185394', '5784171', '3717936', '6224291', '509806', '5260554', '7658716', '8921596', '2854530', '632948', '5609966', '2692411', '1262287', '7030904', '2279103', '1016604', '9741852', '497927', '5019308', '9385224', '8715455', '2120327', '9098977', '1056275', '659641', '6308583', '5223589', '9819289', '2311065', '3253493', '6718064', '7205457', '2685833', '4199364', '4709744', '2880754', '1484586', '7306804', '1127507', '2045011', '1806489', '4023988', '7475016', '9073890', '2059461', '6581686', '2183919', '4961403', '1616581', '8962420', '9593063', '9920297', '8872378', '6402783', '2184156', '1687510', '3416764', '1213955', '2282174', '3327503', '8501962', '1953895', '5613548', '147361', '581845', '3538176', '5721596', '2323531', '868262', '2385768', '102687', '699039', '7700895', '1822906', '3181514', '2215074', '9024435', '3373532', '2147430', '2196013', '4826048', '4168672', '3930261', '2759831', '2947384', '2600632', '2216465', '2348939', '9807276', '6557018', '5887068', '8759998', '7839744', '9375818', '8748066', '5087191', '6566020', '7193514', '5436772', '8908662', '4090312', '4001468', '4025397', '2148963', '1079887', '5826774', '511819', '5619644', '2389345', '5458220', '1426704', '2376584', '4216604', '2168777', '7758590', '2038246', '5501890', '1378042', '4022713', '8884976', '4879', '2384227', '4672804', '3379144', '2296851', '2375717', '2184783', '3488711', '9379578', '2916525', '9588158', '7570530', '9105082', '1756631', '2392124', '687389', '1493358', '2078046', '772611', '7765616', '3040267', '8605869', '2230875', '2327063', '2235052', '4117321', '7122512', '5095537', '3628533', '7846169', '2252947', '2659861', '2181664', '9211057', '168331', '9846215', '1123246', '905985', '1117591', '2102098', '2842435', '1378105', '2367199', '4342472', '2362697', '5571038', '2183187', '5288807', '1494981', '7153622', '67205', '4996487', '585475', '5044880', '546680', '7513310', '2046965', '4133970', '5835644', '2156824', '333848', '2384366', '7563548', '2092335', '8510422', '2358557', '4575927', '7210726', '4568570', '7391514', '7856358', '5160718', '1663955', '1187341', '2083343', '2531074', '4112868', '1098707', '892781', '2428155', '2835183', '5960189', '1495036', '1874719', '2087508', '9315678', '2248005', '4295926', '51674', '8812408', '1007981', '2007559', '8915215', '2937274', '4627572', '4021072', '281624', '657466', '930046', '7785292', '4647725', '6959090', '2718130', '6315986', '7486734', '1320408', '2339443', '5516715', '3436507', '2216350', '9339426', '5569676', '7272393', '9949900', '2089169', '9055796', '7730851', '2385186', '7759459', '8214116', '2234752', '7194616', '775695', '2307426', '8334515', '2249931', '2648529', '869737', '2168825', '3342796', '4961187', '9219524', '2343756', '2352307', '5089913', '743413', '9312325', '3166711', '180869', '549920', '9448726', '8713888', '2197630', '577551', '1297565', '772475', '3980744', '1115082', '2307513', '2281971', '7660196', '1430520', '8371724', '9254721', '2176504', '9354107', '3745622', '2165203', '5532020', '5477610', '2923539', '2370543', '6684580', '1527273', '1668105', '3371182', '8372090', '7451154', '2385004', '2054706', '849406', '2741303', '8890853', '4960069', '1933846', '5938385', '2164796', '2319588', '7141521', '2329825', '584015', '2217206', '2143515', '8874736', '6587628', '2242916', '6995026', '2023848', '3042662', '8308706', '2138328', '6167176', '4809024', '9443032', '1455070', '7769966', '2140224', '174227', '8992324', '6890570', '5600639', '6248669', '4985274', '2035223', '9034825', '8224250', '2356197', '2107157', '9513109', '2807433', '4565222', '4120680', '2130465', '9631914', '8995262', '2214482', '3082668', '9243882', '2226259', '2023740', '2895985', '9829221', '2266191', '5068340', '2437393', '5720054', '1204948', '2147823', '2000368', '7440561', '3409927', '2157582', '3506817', '2501067', '2602853', '7035867', '9736151', '942622', '2052538', '8069479', '1758002', '3311239', '2459531', '1464499', '5539539', '8343724', '2198906', '6730478', '9780095', '2055994', '6473078', '8698891', '2034550', '2441478', '4766491', '9618509', '6568268', '1967798', '934448', '2288510', '518674', '1187542', '2365095', '3977724', '2691523', '270417', '2056059', '9077670', '948351', '8903101', '627459', '10539', '247019', '248219', '1539651', '9436340', '9038015', '3146786', '7213981', '8372324', '3539495', '5593870', '2203552', '433006', '664779', '2352423', '2107489', '2676114', '3212583', '9549714', '1818935', '1115949', '3316002', '3139639', '2886541', '225780', '7608217', '8223634', '624804', '7283229', '2227708', '2505352', '2346275', '2354435', '2595492', '325073', '8847536', '523047', '759818', '2165055', '9028980', '8882956', '1308529', '1001187', '3188894', '2163426', '3313297', '7468563', '9203990', '7344995', '2047597', '5672394', '3833140', '2234258', '4165748', '887961', '2158090', '9212162', '5547490', '3339488', '5864885', '6374781', '2359150', '1032629', '8751725', '4965326', '2329698', '5518061', '2690061', '7755473', '2153269', '4720502', '1503363', '1166651', '282824', '7066738', '986464', '3935820', '6926232', '4241082', '2389234', '2374240', '2610935', '8127135', '6176455', '3968754', '9200209', '7732839', '791386', '2041537', '822681', '2313471', '3609812', '2324704', '8156441', '9652462', '6874374', '219124', '948299', '4215566', '8093621', '2024647', '9061277', '2041194', '77019', '1199667', '9692397', '6148878', '2048844', '6693447', '3568539', '9065388', '3084811', '1280702', '3615954', '1051094', '2022536', '2280782', '2351025', '7901414', '8778014', '2843691', '2177865', '2271692', '1011154', '5735628', '2162911', '340941', '2275768', '3694715', '1034583', '7867220', '2202087', '5566654', '5426768', '9005599', '5404623', '6372808', '206413', '2292753', '1397990', '2973076', '5319013', '1829458', '2303422', '6706892', '2302500', '630721', '458776', '2249902', '2729790', '1346031', '8909585', '1870352', '3443633', '731902', '8726194']\n"
     ]
    }
   ],
   "source": [
    "import yaml\n",
    "with open('config_CheckNiiOk.yaml', 'r') as stream:\n",
    "    config = yaml.safe_load(stream)\n",
    "    \n",
    "    itvtot = config['itv_tot_labels']\n",
    "    itvtum = config['itv_tumor_labels']\n",
    "    itvnod = config['itv_ln_labels']\n",
    "\n",
    "    \n",
    "    gtvtot = config['gtv_tot_labels']\n",
    "    gtvtum = config['gtv_tumor_labels']\n",
    "    gtvnod = config['gtv_ln_labels']\n",
    "    gtv00 = config['gtv_expi00_labels']\n",
    "\n",
    "    rootp_Nii = config['root_Nii']\n",
    "\n",
    "    aveTags = config['aveTags']\n",
    "    bpTags =  config['bPTags']\n",
    "\n",
    "    savecsv_path = config['save_csv']\n",
    "    fieldnames = config['fieldnames']\n",
    "\n",
    "PxList = os.listdir(rootp_Nii)\n",
    "print(PxList)\n",
    "target_labels = itvtot + itvtum+itvnod+gtvtot+gtvtum+gtvnod"
   ]
  },
  {
   "cell_type": "code",
   "execution_count": 40,
   "id": "6b76d9de",
   "metadata": {},
   "outputs": [
    {
     "data": {
      "text/plain": [
       "['GTVtumor_insp']"
      ]
     },
     "execution_count": 40,
     "metadata": {},
     "output_type": "execute_result"
    }
   ],
   "source": [
    "gtv00"
   ]
  },
  {
   "cell_type": "code",
   "execution_count": 46,
   "id": "bcaeffdc",
   "metadata": {
    "scrolled": false
   },
   "outputs": [
    {
     "name": "stdout",
     "output_type": "stream",
     "text": [
      "['100_t0pr97_-_4ar-5_-_49.nii.gz', '101_t10pr6_-_15ar42_-_70.nii.gz', '102_t20pr17_-_25ar62_-_82.nii.gz', '103_t30pr25_-_33ar72_-_86.nii.gz', '104_t40pr36_-_44ar73_-_88.nii.gz', '105_t50pr46_-_54ar73_-_89.nii.gz', '106_t60pr56_-_65ar74_-_89.nii.gz', '107_t70pr65_-_74ar44_-_90.nii.gz', '108_t80pr76_-_85ar25_-_87.nii.gz', '109_t90pr84_-_94ar10_-_60.nii.gz', '111_ave-ip10_0_10_20_30_40_50_60_70_80_90.nii.gz']\n",
      "['10_resplow__20__b30s__100_ex.nii.gz', '11_resplow__20__b30s__60_ex.nii.gz', '12_resplow__20__b30s__30_ex.nii.gz', '3_thorax_2mm__standaard__b40f.nii.gz', '7_resplow__20__b30s__0_in.nii.gz', '8_resplow__20__b30s__40_in.nii.gz', '9_resplow__20__b30s__90_in.nii.gz']\n",
      "['12_thorax_2mm_met_toploodje.nii.gz', '3_resplow__20__b30s__0_in.nii.gz', '4_resplow__20__b30s__40_in.nii.gz', '5_resplow__20__b30s__90_in.nii.gz', '6_resplow__20__b30s__100_ex.nii.gz', '7_resplow__20__b30s__60_ex.nii.gz', '8_resplow__20__b30s__30_ex.nii.gz']\n",
      "['100_t0pr98_-_4ar10_-_29.nii.gz', '101_t10pr8_-_15ar32_-_59.nii.gz', '102_t20pr15_-_25ar52_-_74.nii.gz', '103_t30pr25_-_35ar66_-_80.nii.gz', '104_t40pr35_-_43ar73_-_83.nii.gz', '105_t50pr47_-_54ar76_-_85.nii.gz', '106_t60pr57_-_65ar77_-_85.nii.gz', '107_t70pr66_-_75ar61_-_82.nii.gz', '108_t80pr75_-_84ar51_-_73.nii.gz', '109_t90pr87_-_93ar26_-_49.nii.gz', '111_ave-ip10_0_10_20_30_40_50_60_70_80_90.nii.gz']\n",
      "['3_4d_thorax_20__20__i30f__3__average_ct.nii.gz', '4_4d_thorax_20_20_i30f_3_0_-_100__trigger_delay_0.nii.gz', '4_4d_thorax_20_20_i30f_3_0_-_100__trigger_delay_10.nii.gz', '4_4d_thorax_20_20_i30f_3_0_-_100__trigger_delay_100.nii.gz', '4_4d_thorax_20_20_i30f_3_0_-_100__trigger_delay_20.nii.gz', '4_4d_thorax_20_20_i30f_3_0_-_100__trigger_delay_30.nii.gz', '4_4d_thorax_20_20_i30f_3_0_-_100__trigger_delay_40.nii.gz', '4_4d_thorax_20_20_i30f_3_0_-_100__trigger_delay_50.nii.gz', '4_4d_thorax_20_20_i30f_3_0_-_100__trigger_delay_60.nii.gz', '4_4d_thorax_20_20_i30f_3_0_-_100__trigger_delay_70.nii.gz', '4_4d_thorax_20_20_i30f_3_0_-_100__trigger_delay_80.nii.gz', '4_4d_thorax_20_20_i30f_3_0_-_100__trigger_delay_90.nii.gz', 'GTVtumor.nii.gz']\n",
      "['4_4d_thorax_20__20__i30f__3__average_ct.nii.gz', '6_dal__4d_thorax_20__20__i30f__3__0_ex.nii.gz', '7_top__4d_thorax_20__20__i30f__3__100_in.nii.gz', 'ITV.nii.gz', 'ITVklieren.nii.gz']\n",
      "['2_thorax_3mm__30__b40f.nii.gz', '3_resplow__30__b30s__96_in.nii.gz', '4_resplow__30__b30s__48_in.nii.gz', '5_resplow__30__b30s__70_ex.nii.gz', '6_resplow__30__b30s__4_ex.nii.gz', 'GTV_preop.nii.gz']\n",
      "['100_t0pr87_-_9ar49_-_80.nii.gz', '101_t10pr2_-_15ar55_-_79.nii.gz', '102_t20pr2_-_22ar64_-_85.nii.gz', '103_t30pr25_-_54ar69_-_84.nii.gz', '104_t40pr35_-_54ar72_-_84.nii.gz', '105_t50pr39_-_54ar67_-_86.nii.gz', '106_t60pr55_-_78ar72_-_85.nii.gz', '107_t70pr65_-_78ar72_-_84.nii.gz', '108_t80pr73_-_85ar69_-_84.nii.gz', '109_t90pr79_-_95ar59_-_85.nii.gz', '2_mm_thorax25mm.nii.gz', 'GTV.nii.gz', 'GTVtumor.nii.gz']\n",
      "['100_t0pr96_-_5ar11_-_43.nii.gz', '101_t10pr5_-_15ar23_-_52.nii.gz', '102_t20pr15_-_24ar49_-_60.nii.gz', '103_t30pr26_-_35ar51_-_67.nii.gz', '104_t40pr35_-_45ar49_-_73.nii.gz', '105_t50pr44_-_54ar55_-_75.nii.gz', '106_t60pr56_-_65ar63_-_75.nii.gz', '107_t70pr65_-_74ar43_-_75.nii.gz', '108_t80pr76_-_85ar25_-_67.nii.gz', '109_t90pr85_-_94ar25_-_54.nii.gz', '2_mm_thorax3mm.nii.gz', 'ITV.nii.gz']\n",
      "['10_thorax_2mm__standaard__b40f.nii.gz', '2_resplow__20__b30s__0_in.nii.gz', '3_resplow__20__b30s__40_in.nii.gz', '4_resplow__20__b30s__90_in.nii.gz', '5_resplow__20__b30s__100_ex.nii.gz', '6_resplow__20__b30s__60_ex.nii.gz', '7_resplow__20__b30s__30_ex.nii.gz', 'GTVklieren.nii.gz']\n",
      "['2_thorax_3mm__30__b40f.nii.gz', '3_resplow__30__b30s__2_ex.nii.gz', '4_resplow__30__b30s__92_in.nii.gz', '5_resplow__30__b30s__44_in.nii.gz', '6_resplow__30__b30s__66_ex.nii.gz', '7_resplow__30__b30s__66_ex.nii.gz', 'GTV.nii.gz']\n",
      "['106_t60pr55_-_70ar69_-_79.nii.gz', '109_t90pr72_-_95ar41_-_80.nii.gz', '111_ave-ip10_0_10_20_30_40_50_60_70_80_90.nii.gz', 'ITV.nii.gz']\n",
      "['2_thorax_2mm__standaard__b40f.nii.gz', '3_resplow__20__b30s__0_in.nii.gz', '4_resplow__20__b30s__90_in.nii.gz', '5_resplow__20__b30s__100_ex.nii.gz', '6_resplow__20__b30s__40_in.nii.gz', '7_resplow__20__b30s__60_ex.nii.gz', '8_resplow__20__b30s__30_ex.nii.gz', 'GTVklieren.nii.gz']\n",
      "['2_thorax_2mm__standaard__b40f.nii.gz', '3_resplow__20__b30s__0_in.nii.gz', '4_resplow__20__b30s__40_in.nii.gz', '5_resplow__20__b30s__90_in.nii.gz', '6_resplow__20__b30s__100_ex.nii.gz', '7_resplow__20__b30s__60_ex.nii.gz', '8_resplow__20__b30s__30_ex.nii.gz']\n",
      "['2_thorax_3mm__30__b40f.nii.gz', '3_resplow__30__b30s__0_ex.nii.gz', '4_resplow__30__b30s__100_in.nii.gz', '5_resplow__30__b30s__50_in.nii.gz', 'ITVtumor.nii.gz']\n",
      "['2_thorax_masker_standaard__b40f.nii.gz', '3_resplow___20__b30s__0_in.nii.gz', '4_resplow___20__b30s__40_in.nii.gz', '5_resplow___20__b30s__90_in.nii.gz', '6_resplow___20__b30s__100_ex.nii.gz', '7_resplow___20__b30s__60_ex.nii.gz', '8_resplow___20__b30s__30_ex.nii.gz', 'GTV.nii.gz', 'GTVklieren.nii.gz']\n",
      "['10_resplow__20__b30s__30_ex.nii.gz', '4_thorax_2mm__standaard__b40f.nii.gz', '5_resplow__20__b30s__0_in.nii.gz', '6_resplow__20__b30s__40_in.nii.gz', '7_resplow__20__b30s__90_in.nii.gz', '8_resplow__20__b30s__100_ex.nii.gz', '9_resplow__20__b30s__60_ex.nii.gz', 'ITV.nii.gz']\n",
      "['100_t0pr94_-_5ar17_-_52.nii.gz', '101_t10pr4_-_13ar32_-_53.nii.gz', '102_t20pr16_-_27ar44_-_69.nii.gz', '103_t30pr25_-_35ar52_-_74.nii.gz', '104_t40pr35_-_44ar64_-_80.nii.gz', '105_t50pr42_-_55ar64_-_81.nii.gz', '106_t60pr54_-_66ar73_-_80.nii.gz', '107_t70pr64_-_75ar61_-_78.nii.gz', '108_t80pr75_-_85ar46_-_71.nii.gz', '109_t90pr85_-_94ar26_-_60.nii.gz']\n",
      "['10_resplow__20__b30s__0_in.nii.gz', '11_thorax_2mm__standaard__b40f.nii.gz', '2_resplow__20__b30s__40_in.nii.gz', '3_resplow__20__b30s__90_in.nii.gz', '4_resplow__20__b30s__100_ex.nii.gz', '5_resplow__20__b30s__60_ex.nii.gz', '6_resplow__20__b30s__30_ex.nii.gz', 'GTV.nii.gz']\n",
      "['10_resplow__20__b30s__60_ex.nii.gz', '11_resplow__20__b30s__30_ex.nii.gz', '5_thorax_2mm__standaard__b40f.nii.gz', '6_resplow__20__b30s__0_in.nii.gz', '7_resplow__20__b30s__40_in.nii.gz', '8_resplow__20__b30s__90_in.nii.gz', '9_resplow__20__b30s__100_ex.nii.gz', 'GTV.nii.gz']\n",
      "['100_t0pr72_-_5ar16_-_53.nii.gz', '101_t10pr97_-_34ar18_-_70.nii.gz', '102_t20pr97_-_34ar33_-_72.nii.gz', '103_t30pr11_-_49ar33_-_70.nii.gz', '104_t40pr32_-_54ar53_-_70.nii.gz', '105_t50pr32_-_56ar53_-_72.nii.gz', '106_t60pr53_-_84ar52_-_72.nii.gz', '107_t70pr60_-_84ar59_-_69.nii.gz', '108_t80pr72_-_89ar53_-_71.nii.gz', '109_t90pr72_-_92ar26_-_70.nii.gz', '111_ave-ip10_0_10_20_30_40_50_60_70_80_90.nii.gz', 'ITV.nii.gz', 'ITVtumor.nii.gz']\n",
      "['5_4d_thorax_20__20__i30f__3__average_ct.nii.gz', '7_dal__4d_thorax_20__20__i30f__3__0_ex.nii.gz', '8_top__4d_thorax_20__20__i30f__3__95_in.nii.gz', 'ITV.nii.gz']\n",
      "['2_thorax_3mm__30__b40f.nii.gz', '3_resplow__30__b30s__2_ex.nii.gz', '4_resplow__30__b30s__94_in.nii.gz', '5_resplow__30__b30s__45_in.nii.gz', '6_resplow__30__b30s__65_ex.nii.gz', 'ITV.nii.gz']\n",
      "['2_thorax_3mm__30__b40f.nii.gz', '3_resplow__30__b30s__96_in.nii.gz', '4_resplow__30__b30s__1_ex.nii.gz', '5_resplow__30__b30s__64_ex.nii.gz', '6_resplow__30__b30s__40_in.nii.gz']\n"
     ]
    }
   ],
   "source": [
    "patientListComplete = []\n",
    "missingDelineation = 0\n",
    "missingPlanCT =0\n",
    "missingBP =0\n",
    "corruptedPx_dict = {}\n",
    "gtv00_listPx = []\n",
    "\n",
    "\n",
    "with open(savecsv_path, mode='w', newline='') as csv_file:\n",
    "    writer = csv.DictWriter(csv_file, fieldnames=fieldnames)\n",
    "    writer.writeheader()\n",
    "\n",
    "    for patientID in PxList:\n",
    "        itvtot_b,itvtum_b,itvnod_b=(False,False,False)\n",
    "        gtvtot_b,gtvtum_b,gtvnod_b=(False,False,False)\n",
    "        BP0_b,BP10_b,BP20_b,BP30_b,BP40_b,BP50_b,BP60_b,BP70_b,BP80_b,BP90_b,BP100_b=(False,False,False,False,False,False,False,False,False,False,False)\n",
    "        planCT_b = False\n",
    "        check_b = False\n",
    "\n",
    "        for root, dirs, files in os.walk(os.path.join(rootp_Nii,patientID), topdown=True):\n",
    "            for f in files: \n",
    "                #Average\n",
    "                if any(planct_tt in f.lower() for planct_tt in aveTags):\n",
    "                    planCT_b = True\n",
    "                #ITV\n",
    "                if  any(itvtot_tt in f for itvtot_tt in itvtot):\n",
    "                    itvtot_b = True\n",
    "                if any(itvtum_tt in f for itvtum_tt in itvtum):\n",
    "                    itvtum_b = True\n",
    "                if any(itvnod_tt in f for itvnod_tt in itvnod):\n",
    "                    itvnod_b = True\n",
    "                #GTV\n",
    "                if any(gtvtot_tt in f for gtvtot_tt in gtvtot):\n",
    "                    gtvtot_b = True\n",
    "                if any(gtvtum_tt in f for gtvtum_tt in gtvtum):\n",
    "                    gtvtum_b = True\n",
    "                if any(gtvnod_tt in f for gtvnod_tt in gtvnod):\n",
    "                    gtvnod_b = True\n",
    "                if any(gtv00_tt in f for gtv00_tt in gtv00):\n",
    "                    gtv00_listPx.append(patientID)\n",
    "                #BP\n",
    "                if any(bpTags_tt in f.lower() for bpTags_tt in bpTags[\"0%\"]):\n",
    "                    BP0_b =True\n",
    "                if any(bpTags_tt in f.lower() for bpTags_tt in bpTags[\"10%\"]):\n",
    "                    BP10_b = True\n",
    "                if any(bpTags_tt in f.lower() for bpTags_tt in bpTags[\"20%\"]):\n",
    "                    BP20_b = True\n",
    "                if any(bpTags_tt in f.lower() for bpTags_tt in bpTags[\"30%\"]):\n",
    "                    BP30_b = True\n",
    "                if any(bpTags_tt in f.lower() for bpTags_tt in bpTags[\"40%\"]):\n",
    "                    BP40_b = True\n",
    "                if any(bpTags_tt in f.lower() for bpTags_tt in bpTags[\"50%\"]):\n",
    "                    BP50_b = True\n",
    "                if any(bpTags_tt in f.lower() for bpTags_tt in bpTags[\"60%\"]):\n",
    "                    BP60_b = True\n",
    "                if any(bpTags_tt in f.lower() for bpTags_tt in bpTags[\"70%\"]):\n",
    "                    BP70_b = True\n",
    "                if any(bpTags_tt in f.lower() for bpTags_tt in bpTags[\"80%\"]):\n",
    "                    BP80_b = True\n",
    "                if any(bpTags_tt in f.lower() for bpTags_tt in bpTags[\"90%\"]):\n",
    "                    BP90_b = True\n",
    "                if any(bpTags_tt in f.lower() for bpTags_tt in bpTags[\"100%\"]):\n",
    "                    BP100_b = True\n",
    "    \n",
    "        if planCT_b and (itvtot_b or itvtum_b or itvnod_b) and (gtvtot_b or gtvtum_b or gtvnod_b) and (BP50_b or BP60_b) and (BP0_b,BP100_b,BP90_b):\n",
    "            check_b = True\n",
    "            patientListComplete.append(patientID)\n",
    "        if not((itvtot_b or itvtum_b or itvnod_b) and (gtvtot_b or gtvtum_b or gtvnod_b)):\n",
    "            missingDelineation +=1\n",
    "            corruptedPx_dict[patientID] = \"MissingDelineations\"\n",
    "            print(files)\n",
    "        if not((BP50_b or BP60_b) and (BP0_b,BP100_b,BP10_b,BP90_b)):\n",
    "            missingBP +=1\n",
    "            corruptedPx_dict[patientID] = \"Missing Peak Phases\"\n",
    "        if not(planCT_b):\n",
    "            missingPlanCT +=1\n",
    "            corruptedPx_dict[patientID] = \"Missing Plan CT\"\n",
    "        writer.writerow({\n",
    "            \"PatientID\": patientID,\"PlanCT\": planCT_b,\n",
    "            \"ITV_Total\": itvtot_b,\"ITV_Tumor\": itvtum_b,\"ITV_Nodal\": itvnod_b,\n",
    "            \"GTV_Total\": gtvtot_b,\"GTV_Tumor\": gtvtum_b,\"GTV_Nodal\": gtvnod_b,\n",
    "            \"BP_0%\": BP0_b,\"BP_10%\": BP10_b,\"BP_90%\": BP90_b,\"BP_100%\": BP100_b,\n",
    "            \"BP_20%\": BP20_b,\"BP_30%\": BP30_b,\n",
    "            \"BP_40%\": BP40_b,\"BP_50%\": BP50_b,\"BP_60%\": BP60_b,\n",
    "            \"BP_70%\": BP70_b,\"BP_80%\": BP80_b,\"Check\":check_b\n",
    "        })\n"
   ]
  },
  {
   "cell_type": "code",
   "execution_count": 45,
   "id": "b5e5bcb3",
   "metadata": {},
   "outputs": [
    {
     "name": "stdout",
     "output_type": "stream",
     "text": [
      "Complete patients 621 Len 737\n",
      "Missing Delineation 24 BP 91 PlanCT 2\n",
      "Len Insp GTV 17\n"
     ]
    }
   ],
   "source": [
    "print(\"Complete patients\",len(patientListComplete),\"Len\",len(PxList))\n",
    "print(\"Missing Delineation\",missingDelineation,\"BP\",missingBP,\"PlanCT\",missingPlanCT)\n",
    "print(\"Len Insp GTV\",len(gtv00_listPx))"
   ]
  },
  {
   "cell_type": "code",
   "execution_count": 43,
   "id": "d2238655",
   "metadata": {},
   "outputs": [
    {
     "data": {
      "text/plain": [
       "116"
      ]
     },
     "execution_count": 43,
     "metadata": {},
     "output_type": "execute_result"
    }
   ],
   "source": [
    "len(corruptedPx_dict)"
   ]
  },
  {
   "cell_type": "code",
   "execution_count": 44,
   "id": "7dbd6a78",
   "metadata": {
    "scrolled": false
   },
   "outputs": [
    {
     "data": {
      "text/plain": [
       "{'7513114': 'Missing Peak Phases',\n",
       " '766115': 'Missing Peak Phases',\n",
       " '23840': 'Missing Peak Phases',\n",
       " '4023673': 'Missing Peak Phases',\n",
       " '2856145': 'Missing Peak Phases',\n",
       " '5317512': 'MissingDelineations',\n",
       " '5635761': 'Missing Peak Phases',\n",
       " '3741290': 'Missing Peak Phases',\n",
       " '367466': 'Missing Peak Phases',\n",
       " '3853415': 'Missing Peak Phases',\n",
       " '2758081': 'Missing Peak Phases',\n",
       " '9193538': 'Missing Peak Phases',\n",
       " '654137': 'Missing Peak Phases',\n",
       " '13194': 'MissingDelineations',\n",
       " '5468590': 'Missing Peak Phases',\n",
       " '1136033': 'MissingDelineations',\n",
       " '4965499': 'MissingDelineations',\n",
       " '2334091': 'MissingDelineations',\n",
       " '9854449': 'Missing Peak Phases',\n",
       " '9646447': 'Missing Peak Phases',\n",
       " '8269736': 'Missing Peak Phases',\n",
       " '9600274': 'Missing Peak Phases',\n",
       " '346733': 'Missing Peak Phases',\n",
       " '2345065': 'Missing Peak Phases',\n",
       " '9915436': 'Missing Peak Phases',\n",
       " '3058377': 'MissingDelineations',\n",
       " '6934596': 'MissingDelineations',\n",
       " '4239862': 'MissingDelineations',\n",
       " '3740147': 'Missing Peak Phases',\n",
       " '2685249': 'Missing Peak Phases',\n",
       " '6224291': 'MissingDelineations',\n",
       " '5260554': 'Missing Peak Phases',\n",
       " '7658716': 'Missing Peak Phases',\n",
       " '5609966': 'MissingDelineations',\n",
       " '1262287': 'Missing Peak Phases',\n",
       " '9741852': 'Missing Peak Phases',\n",
       " '659641': 'Missing Peak Phases',\n",
       " '4199364': 'Missing Peak Phases',\n",
       " '4023988': 'Missing Peak Phases',\n",
       " '7475016': 'Missing Peak Phases',\n",
       " '4961403': 'Missing Peak Phases',\n",
       " '9920297': 'Missing Peak Phases',\n",
       " '8872378': 'Missing Peak Phases',\n",
       " '1213955': 'MissingDelineations',\n",
       " '8501962': 'Missing Plan CT',\n",
       " '3538176': 'Missing Peak Phases',\n",
       " '5721596': 'Missing Peak Phases',\n",
       " '868262': 'Missing Peak Phases',\n",
       " '102687': 'Missing Peak Phases',\n",
       " '699039': 'Missing Peak Phases',\n",
       " '3930261': 'Missing Peak Phases',\n",
       " '5087191': 'Missing Peak Phases',\n",
       " '8908662': 'Missing Peak Phases',\n",
       " '5619644': 'Missing Peak Phases',\n",
       " '3379144': 'Missing Peak Phases',\n",
       " '2375717': 'Missing Peak Phases',\n",
       " '2392124': 'Missing Peak Phases',\n",
       " '5288807': 'Missing Peak Phases',\n",
       " '4133970': 'Missing Peak Phases',\n",
       " '333848': 'MissingDelineations',\n",
       " '7210726': 'MissingDelineations',\n",
       " '7391514': 'Missing Peak Phases',\n",
       " '2083343': 'Missing Peak Phases',\n",
       " '892781': 'MissingDelineations',\n",
       " '2835183': 'MissingDelineations',\n",
       " '1874719': 'Missing Peak Phases',\n",
       " '9315678': 'Missing Peak Phases',\n",
       " '4295926': 'Missing Peak Phases',\n",
       " '7785292': 'Missing Peak Phases',\n",
       " '2718130': 'Missing Peak Phases',\n",
       " '9339426': 'MissingDelineations',\n",
       " '9949900': 'Missing Peak Phases',\n",
       " '8334515': 'Missing Peak Phases',\n",
       " '3166711': 'Missing Peak Phases',\n",
       " '180869': 'Missing Peak Phases',\n",
       " '549920': 'MissingDelineations',\n",
       " '9254721': 'Missing Peak Phases',\n",
       " '5532020': 'Missing Peak Phases',\n",
       " '8372090': 'Missing Peak Phases',\n",
       " '3042662': 'Missing Peak Phases',\n",
       " '9443032': 'Missing Peak Phases',\n",
       " '2107157': 'Missing Peak Phases',\n",
       " '9243882': 'Missing Peak Phases',\n",
       " '9829221': 'Missing Peak Phases',\n",
       " '5068340': 'Missing Peak Phases',\n",
       " '2437393': 'Missing Peak Phases',\n",
       " '8698891': 'Missing Plan CT',\n",
       " '518674': 'Missing Peak Phases',\n",
       " '9077670': 'Missing Peak Phases',\n",
       " '248219': 'Missing Peak Phases',\n",
       " '1539651': 'MissingDelineations',\n",
       " '9038015': 'Missing Peak Phases',\n",
       " '7213981': 'Missing Peak Phases',\n",
       " '2676114': 'Missing Peak Phases',\n",
       " '9549714': 'MissingDelineations',\n",
       " '8223634': 'Missing Peak Phases',\n",
       " '624804': 'MissingDelineations',\n",
       " '7283229': 'Missing Peak Phases',\n",
       " '325073': 'Missing Peak Phases',\n",
       " '5672394': 'Missing Peak Phases',\n",
       " '4165748': 'Missing Peak Phases',\n",
       " '5864885': 'Missing Peak Phases',\n",
       " '282824': 'Missing Peak Phases',\n",
       " '7066738': 'Missing Peak Phases',\n",
       " '2610935': 'Missing Peak Phases',\n",
       " '8127135': 'Missing Peak Phases',\n",
       " '9652462': 'Missing Peak Phases',\n",
       " '6874374': 'Missing Peak Phases',\n",
       " '9061277': 'Missing Peak Phases',\n",
       " '1199667': 'Missing Peak Phases',\n",
       " '6693447': 'MissingDelineations',\n",
       " '9065388': 'MissingDelineations',\n",
       " '2022536': 'Missing Peak Phases',\n",
       " '7901414': 'MissingDelineations',\n",
       " '7867220': 'Missing Peak Phases',\n",
       " '5566654': 'Missing Peak Phases'}"
      ]
     },
     "execution_count": 44,
     "metadata": {},
     "output_type": "execute_result"
    }
   ],
   "source": [
    "corruptedPx_dict"
   ]
  },
  {
   "cell_type": "code",
   "execution_count": null,
   "id": "7038e585",
   "metadata": {},
   "outputs": [],
   "source": []
  },
  {
   "cell_type": "code",
   "execution_count": null,
   "id": "a5eb526d",
   "metadata": {
    "scrolled": false
   },
   "outputs": [],
   "source": []
  }
 ],
 "metadata": {
  "kernelspec": {
   "display_name": "Python 3 (ipykernel)",
   "language": "python",
   "name": "python3"
  },
  "language_info": {
   "codemirror_mode": {
    "name": "ipython",
    "version": 3
   },
   "file_extension": ".py",
   "mimetype": "text/x-python",
   "name": "python",
   "nbconvert_exporter": "python",
   "pygments_lexer": "ipython3",
   "version": "3.10.12"
  }
 },
 "nbformat": 4,
 "nbformat_minor": 5
}
