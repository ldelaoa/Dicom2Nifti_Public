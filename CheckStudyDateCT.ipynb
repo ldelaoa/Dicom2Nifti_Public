{
 "cells": [
  {
   "cell_type": "code",
   "execution_count": 1,
   "id": "dcf84961",
   "metadata": {},
   "outputs": [],
   "source": [
    "from rt_utils import RTStructBuilder\n",
    "import matplotlib.pyplot as plt\n",
    "import numpy as np\n",
    "import pydicom\n",
    "import os\n",
    "import csv\n",
    "import re\n",
    "import pandas as pd\n",
    "from datetime import datetime"
   ]
  },
  {
   "cell_type": "code",
   "execution_count": 7,
   "id": "18712ca0",
   "metadata": {},
   "outputs": [],
   "source": [
    "# Function to read the study date from the first DICOM file in a directory\n",
    "def get_study_date(directory):\n",
    "    for filename in os.listdir(directory):\n",
    "        if filename.endswith(\".DCM\"):\n",
    "            ds = pydicom.dcmread(os.path.join(directory, filename),stop_before_pixels=True)\n",
    "            return ds.StudyDate\n",
    "    return None\n",
    "\n",
    "# Function to convert DICOM date to day/month/year format\n",
    "def format_date(dicom_date):\n",
    "    date = datetime.strptime(dicom_date, \"%Y%m%d\")\n",
    "    return date.strftime(\"%m/%d/%Y\")\n"
   ]
  },
  {
   "cell_type": "code",
   "execution_count": 8,
   "id": "d37723fc",
   "metadata": {},
   "outputs": [
    {
     "data": {
      "text/html": [
       "<div>\n",
       "<style scoped>\n",
       "    .dataframe tbody tr th:only-of-type {\n",
       "        vertical-align: middle;\n",
       "    }\n",
       "\n",
       "    .dataframe tbody tr th {\n",
       "        vertical-align: top;\n",
       "    }\n",
       "\n",
       "    .dataframe thead th {\n",
       "        text-align: right;\n",
       "    }\n",
       "</style>\n",
       "<table border=\"1\" class=\"dataframe\">\n",
       "  <thead>\n",
       "    <tr style=\"text-align: right;\">\n",
       "      <th></th>\n",
       "      <th>ID</th>\n",
       "      <th>CT</th>\n",
       "      <th>StudyDate</th>\n",
       "    </tr>\n",
       "  </thead>\n",
       "  <tbody>\n",
       "    <tr>\n",
       "      <th>0</th>\n",
       "      <td>4879</td>\n",
       "      <td>//zkh/appdata/RTDicom/Projectline_modelling_lu...</td>\n",
       "      <td>NaN</td>\n",
       "    </tr>\n",
       "    <tr>\n",
       "      <th>1</th>\n",
       "      <td>10539</td>\n",
       "      <td>//zkh/appdata/RTDicom/Projectline_modelling_lu...</td>\n",
       "      <td>NaN</td>\n",
       "    </tr>\n",
       "    <tr>\n",
       "      <th>2</th>\n",
       "      <td>13194</td>\n",
       "      <td>//zkh/appdata/RTDicom/Projectline_modelling_lu...</td>\n",
       "      <td>NaN</td>\n",
       "    </tr>\n",
       "    <tr>\n",
       "      <th>3</th>\n",
       "      <td>14504</td>\n",
       "      <td>//zkh/appdata/RTDicom/Projectline_modelling_lu...</td>\n",
       "      <td>NaN</td>\n",
       "    </tr>\n",
       "    <tr>\n",
       "      <th>4</th>\n",
       "      <td>17420</td>\n",
       "      <td>//zkh/appdata/RTDicom/Projectline_modelling_lu...</td>\n",
       "      <td>NaN</td>\n",
       "    </tr>\n",
       "    <tr>\n",
       "      <th>...</th>\n",
       "      <td>...</td>\n",
       "      <td>...</td>\n",
       "      <td>...</td>\n",
       "    </tr>\n",
       "    <tr>\n",
       "      <th>1022</th>\n",
       "      <td>8029120</td>\n",
       "      <td>//zkh/appdata/RTDicom/Projectline_modelling_lu...</td>\n",
       "      <td>NaN</td>\n",
       "    </tr>\n",
       "    <tr>\n",
       "      <th>1023</th>\n",
       "      <td>4766491</td>\n",
       "      <td>//zkh/appdata/RTDicom/Projectline_modelling_lu...</td>\n",
       "      <td>NaN</td>\n",
       "    </tr>\n",
       "    <tr>\n",
       "      <th>1024</th>\n",
       "      <td>2214482</td>\n",
       "      <td>//zkh/appdata/RTDicom/Projectline_modelling_lu...</td>\n",
       "      <td>NaN</td>\n",
       "    </tr>\n",
       "    <tr>\n",
       "      <th>1025</th>\n",
       "      <td>2243832</td>\n",
       "      <td>//zkh/appdata/RTDicom/Projectline_modelling_lu...</td>\n",
       "      <td>NaN</td>\n",
       "    </tr>\n",
       "    <tr>\n",
       "      <th>1026</th>\n",
       "      <td>9846215</td>\n",
       "      <td>//zkh/appdata/RTDicom/Projectline_modelling_lu...</td>\n",
       "      <td>NaN</td>\n",
       "    </tr>\n",
       "  </tbody>\n",
       "</table>\n",
       "<p>1027 rows × 3 columns</p>\n",
       "</div>"
      ],
      "text/plain": [
       "           ID                                                 CT  StudyDate\n",
       "0        4879  //zkh/appdata/RTDicom/Projectline_modelling_lu...        NaN\n",
       "1       10539  //zkh/appdata/RTDicom/Projectline_modelling_lu...        NaN\n",
       "2       13194  //zkh/appdata/RTDicom/Projectline_modelling_lu...        NaN\n",
       "3       14504  //zkh/appdata/RTDicom/Projectline_modelling_lu...        NaN\n",
       "4       17420  //zkh/appdata/RTDicom/Projectline_modelling_lu...        NaN\n",
       "...       ...                                                ...        ...\n",
       "1022  8029120  //zkh/appdata/RTDicom/Projectline_modelling_lu...        NaN\n",
       "1023  4766491  //zkh/appdata/RTDicom/Projectline_modelling_lu...        NaN\n",
       "1024  2214482  //zkh/appdata/RTDicom/Projectline_modelling_lu...        NaN\n",
       "1025  2243832  //zkh/appdata/RTDicom/Projectline_modelling_lu...        NaN\n",
       "1026  9846215  //zkh/appdata/RTDicom/Projectline_modelling_lu...        NaN\n",
       "\n",
       "[1027 rows x 3 columns]"
      ]
     },
     "execution_count": 8,
     "metadata": {},
     "output_type": "execute_result"
    }
   ],
   "source": [
    "rootcsv = '//zkh/appdata/RTDicom/Projectline_modelling_lung_cancer/Users/Luis/CSVs/MatchedCTWithDate.csv'\n",
    "df = pd.read_csv(rootcsv)\n",
    "df"
   ]
  },
  {
   "cell_type": "code",
   "execution_count": null,
   "id": "f3275419",
   "metadata": {},
   "outputs": [],
   "source": []
  },
  {
   "cell_type": "code",
   "execution_count": 9,
   "id": "ee4f1e14",
   "metadata": {},
   "outputs": [],
   "source": [
    "ListWithCTDates = []\n",
    "count = 0\n",
    "\n",
    "for currCT in df['CT']:\n",
    "    dicom_date_list = []\n",
    "    if re.search(r\", '\",currCT):\n",
    "        currCT_split = re.split(r\", '\",currCT)\n",
    "        CleanList = []\n",
    "        for i in range(len(currCT_split)):\n",
    "            CleanList.append(os.path.normpath(currCT_split[i].replace('\\\\\\\\', '/')[:-1]))\n",
    "        uniqueuniqueCleanList = list(set(CleanList))\n",
    "        for l in range(len(uniqueuniqueCleanList)):\n",
    "            dicom_date_list.append(get_study_date(uniqueuniqueCleanList[l]))\n",
    "    else:\n",
    "        uniqueuniqueCleanList = [currCT.replace('\\\\\\\\', '/')]\n",
    "        dicom_date_list.append(get_study_date(uniqueuniqueCleanList[0]))\n",
    "        \n",
    "        \n",
    "    for m in range(len(dicom_date_list)):\n",
    "        formatted_date = format_date(dicom_date_list[m])\n",
    "        ListWithCTDates.append([str(df.loc[count]['ID']),str(uniqueuniqueCleanList[m]),formatted_date])\n",
    "\n",
    "    count+=1\n",
    "\n"
   ]
  },
  {
   "cell_type": "code",
   "execution_count": 10,
   "id": "cd29c0fb",
   "metadata": {},
   "outputs": [
    {
     "data": {
      "text/plain": [
       "1057"
      ]
     },
     "execution_count": 10,
     "metadata": {},
     "output_type": "execute_result"
    }
   ],
   "source": [
    "len(ListWithCTDates)"
   ]
  },
  {
   "cell_type": "code",
   "execution_count": 11,
   "id": "3b3e7f73",
   "metadata": {},
   "outputs": [],
   "source": [
    "csv_file_path = '//zkh/appdata/RTDicom/Projectline_modelling_lung_cancer/Users/Luis/CSVs/MatchedCTWithDate_Filled.csv'\n",
    "with open(csv_file_path, 'w', newline='') as file:\n",
    "    writer = csv.writer(file)\n",
    "    for i in range(len(ListWithCTDates)):\n",
    "        writer.writerow(ListWithCTDates[i])"
   ]
  },
  {
   "cell_type": "code",
   "execution_count": null,
   "id": "4d92dcfa",
   "metadata": {},
   "outputs": [],
   "source": []
  }
 ],
 "metadata": {
  "kernelspec": {
   "display_name": "Python 3 (ipykernel)",
   "language": "python",
   "name": "python3"
  },
  "language_info": {
   "codemirror_mode": {
    "name": "ipython",
    "version": 3
   },
   "file_extension": ".py",
   "mimetype": "text/x-python",
   "name": "python",
   "nbconvert_exporter": "python",
   "pygments_lexer": "ipython3",
   "version": "3.9.19"
  }
 },
 "nbformat": 4,
 "nbformat_minor": 5
}
