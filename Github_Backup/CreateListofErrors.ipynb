{
 "cells": [
  {
   "cell_type": "markdown",
   "id": "4fa6848a",
   "metadata": {},
   "source": [
    "Possible Errors\tReason: \n",
    "\n",
    "Missing PET\t        In PxListA but not in the folderA\n",
    "Not matching PET\tIn the FolderA but not in the PxListB\n",
    "Missing CT\t        In PxListB but not in the folderB\n",
    "Not Matching RT\t    In the csv file2 but empty\n",
    "Dicom2nii error\t    In the csvfile3 file but not in the csvfile4\n",
    "\n",
    "PxListTot = /Users/Luis/CSVs/PxListTot  - Full List of Px\n",
    "PxListA =  Px with CT and RT collected and Matched - from csv file 2\n",
    "PxListB =  Px with PET and ACCT collected and Matched\n",
    "\n",
    "folderA = /DICOM_data/DATA_VOLLEDIG_structured/PET_DICOM\n",
    "folderB = /DICOM_data/DATA_VOLLEDIG_unstructured\n",
    "csvfile1 = /Users/Luis/CSVs/PET_MatchACCT_DICOM_Paths.csv\n",
    "csvfile2 = /Users/Luis/CSVs/CTandRTMatch.csv\n",
    "csvfile3 = /Users/Luis/CSVs/MergedCT_RT_PET_ACCT.csv\n",
    "csvfile4 = /Users/Luis/CSVs/CompleteNii_ACCT_PET_CT_RTStruct.csv"
   ]
  },
  {
   "cell_type": "code",
   "execution_count": 1,
   "id": "c81a9fdc",
   "metadata": {},
   "outputs": [],
   "source": [
    "import os\n",
    "import pandas as pd\n",
    "import csv\n",
    "rootPanama = \"//zkh/appdata/RTDicom/Projectline - Modelling lung cancer outcomes [panama code]/\"\n",
    "rootOneDrive = \"C:/Users/delaoArevaLR/OneDrive - UMCG/Code/Code_From_Umcg/UMCG_ImageFormattingCode/Dicom2Nifti_Public/CSVs_PanamaCode_Backup/\""
   ]
  },
  {
   "cell_type": "code",
   "execution_count": 2,
   "id": "38a0c966",
   "metadata": {},
   "outputs": [
    {
     "name": "stdout",
     "output_type": "stream",
     "text": [
      "873\n"
     ]
    }
   ],
   "source": [
    "PxListTot = pd.read_csv(rootPanama+\"/Users/Luis/CSVs/PxListTot.txt\",sep='\\t')\n",
    "print((len(PxListTot)))"
   ]
  },
  {
   "cell_type": "code",
   "execution_count": 3,
   "id": "4418335e",
   "metadata": {},
   "outputs": [
    {
     "name": "stdout",
     "output_type": "stream",
     "text": [
      "Px on List A 834\n",
      "Len PxListA 669\n",
      "Len NotMatchingRT 165\n"
     ]
    }
   ],
   "source": [
    "#Create PxListA and NotMatchingRT\n",
    "sourceCsv = os.path.join(rootOneDrive,\"CTandRTMatch.csv\")\n",
    "\n",
    "PxListA =[]\n",
    "NotMatchingRT = []\n",
    "\n",
    "df = pd.read_csv(sourceCsv)\n",
    "id_list = df['ID'].tolist()\n",
    "CTpath_list = df['CT'].tolist()\n",
    "print(\"Px on List A\",len(id_list))\n",
    "\n",
    "for i in range(len(id_list)):\n",
    "    if len(CTpath_list[i])>2: #valid CT path\n",
    "        PxListA.append(id_list[i])\n",
    "    else: #Not a valid CT path\n",
    "        NotMatchingRT.append(id_list[i])\n",
    "        \n",
    "print(\"Len PxListA\",len(PxListA))\n",
    "print(\"Len NotMatchingRT\",len(NotMatchingRT))"
   ]
  },
  {
   "cell_type": "code",
   "execution_count": 4,
   "id": "40c41def",
   "metadata": {},
   "outputs": [
    {
     "name": "stdout",
     "output_type": "stream",
     "text": [
      "Len PxListB 323\n"
     ]
    }
   ],
   "source": [
    "#Create PxListB\n",
    "sourceCsv = os.path.join(rootOneDrive,\"PET_MatchACCT_DICOM_Paths.csv\")\n",
    "df = pd.read_csv(sourceCsv)\n",
    "PxListB = df['Px'].tolist()\n",
    "print(\"Len PxListB\",len(PxListB))"
   ]
  },
  {
   "cell_type": "code",
   "execution_count": 5,
   "id": "270824e1",
   "metadata": {},
   "outputs": [
    {
     "name": "stdout",
     "output_type": "stream",
     "text": [
      "Len Px in folder A 339\n",
      "Missing PET 376\n",
      "Not Matching PET 22\n"
     ]
    }
   ],
   "source": [
    "#Create Missing PET & Not matching PET\n",
    "folderA = rootPanama+\"/DICOM_data/DATA_VOLLEDIG_structured/PET_DICOM\"\n",
    "PxInFolderA = os.listdir(folderA)\n",
    "PxInFolderA = [int(element) for element in PxInFolderA]\n",
    "print(\"Len Px in folder A\",len(PxInFolderA))\n",
    "MissingPET = [patient for patient in PxListA if patient not in PxInFolderA]\n",
    "\n",
    "print(\"Missing PET\",len(MissingPET))\n",
    "NotMatchingPET = [patient for patient in PxInFolderA if patient not in PxListB]\n",
    "print(\"Not Matching PET\",len(NotMatchingPET))"
   ]
  },
  {
   "cell_type": "code",
   "execution_count": 6,
   "id": "c556b9de",
   "metadata": {},
   "outputs": [
    {
     "name": "stdout",
     "output_type": "stream",
     "text": [
      "Len Px in folder B 834\n",
      "Missing CT 0\n"
     ]
    }
   ],
   "source": [
    "# Create Missing CT -  In PxListB but not in the folderB\n",
    "folderB = rootPanama+\"/DICOM_data/DATA_VOLLEDIG_unstructured\"\n",
    "PxInFolderB = os.listdir(folderB)\n",
    "PxInFolderB = [int(element) for element in PxInFolderB]\n",
    "MissingCT = [patient for patient in PxListB if patient not in PxInFolderB]\n",
    "print(\"Len Px in folder B\",len(PxInFolderB))\n",
    "print(\"Missing CT\",len(MissingCT))"
   ]
  },
  {
   "cell_type": "code",
   "execution_count": 7,
   "id": "83c7761d",
   "metadata": {},
   "outputs": [
    {
     "name": "stdout",
     "output_type": "stream",
     "text": [
      "Px with Dicom2Nii Errs 57\n"
     ]
    }
   ],
   "source": [
    "#Px with Dicom2Nii errors:\n",
    "csvfile3 = rootPanama+\"/Users/Luis/CSVs/MergedCT_RT_PET_ACCT.csv\"\n",
    "csvfile4 = rootPanama+\"/Users/Luis/CSVs/CompleteNii_ACCT_PET_CT_RTStruct.csv\"\n",
    "df = pd.read_csv(csvfile3)\n",
    "PxinCsv3 = df['Px'].tolist()\n",
    "df = pd.read_csv(csvfile4)\n",
    "PxinCsv4 = df['ID'].tolist()\n",
    "PxwDicom2NiiErr = [patient for patient in PxinCsv3 if patient not in PxinCsv4]\n",
    "print(\"Px with Dicom2Nii Errs\",len(PxwDicom2NiiErr))"
   ]
  },
  {
   "cell_type": "code",
   "execution_count": 8,
   "id": "a36d5466",
   "metadata": {},
   "outputs": [
    {
     "name": "stdout",
     "output_type": "stream",
     "text": [
      "Len 604\n"
     ]
    }
   ],
   "source": [
    "#MERGE all errors:\n",
    "errors_dict = {}\n",
    "for id in NotMatchingRT:\n",
    "    errors_dict[id] = \"Not Matching RT\"\n",
    "for id in MissingPET:\n",
    "    errors_dict[id] = \"Missing PET\"\n",
    "for id in NotMatchingPET:\n",
    "    errors_dict[id] = \"Not Matching PET\"\n",
    "for id in MissingCT:\n",
    "    errors_dict[id] = \"Missing CT\"\n",
    "for id in PxwDicom2NiiErr:\n",
    "    errors_dict[id] = \"Dicom2Nii Err\"\n",
    "    \n",
    "print(\"Len\",len(errors_dict))"
   ]
  },
  {
   "cell_type": "code",
   "execution_count": 9,
   "id": "8fcc1ebc",
   "metadata": {},
   "outputs": [],
   "source": [
    "#SAVE List of errors it as CSV\n",
    "df = pd.DataFrame(list(errors_dict.items()), columns=['ID', 'Reason'])\n",
    "csv_file_path = rootOneDrive+'ListOfErrors.csv'\n",
    "df.to_csv(csv_file_path, index=False)"
   ]
  },
  {
   "cell_type": "code",
   "execution_count": null,
   "id": "91dd5d75",
   "metadata": {},
   "outputs": [],
   "source": []
  }
 ],
 "metadata": {
  "kernelspec": {
   "display_name": "Python 3 (ipykernel)",
   "language": "python",
   "name": "python3"
  },
  "language_info": {
   "codemirror_mode": {
    "name": "ipython",
    "version": 3
   },
   "file_extension": ".py",
   "mimetype": "text/x-python",
   "name": "python",
   "nbconvert_exporter": "python",
   "pygments_lexer": "ipython3",
   "version": "3.9.16"
  }
 },
 "nbformat": 4,
 "nbformat_minor": 5
}
